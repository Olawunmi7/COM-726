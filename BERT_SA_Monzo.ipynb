{
 "cells": [
  {
   "cell_type": "code",
   "execution_count": 45,
   "outputs": [
    {
     "name": "stdout",
     "output_type": "stream",
     "text": [
      "Requirement already satisfied: transformers in c:\\users\\user\\desktop\\school work\\com 726\\venv\\lib\\site-packages (4.25.1)\n",
      "Requirement already satisfied: huggingface-hub<1.0,>=0.10.0 in c:\\users\\user\\desktop\\school work\\com 726\\venv\\lib\\site-packages (from transformers) (0.11.1)\n",
      "Requirement already satisfied: numpy>=1.17 in c:\\users\\user\\desktop\\school work\\com 726\\venv\\lib\\site-packages (from transformers) (1.23.5)\n",
      "Requirement already satisfied: packaging>=20.0 in c:\\users\\user\\desktop\\school work\\com 726\\venv\\lib\\site-packages (from transformers) (21.3)\n",
      "Requirement already satisfied: pyyaml>=5.1 in c:\\users\\user\\desktop\\school work\\com 726\\venv\\lib\\site-packages (from transformers) (6.0)\n",
      "Requirement already satisfied: requests in c:\\users\\user\\desktop\\school work\\com 726\\venv\\lib\\site-packages (from transformers) (2.28.1)\n",
      "Requirement already satisfied: tokenizers!=0.11.3,<0.14,>=0.11.1 in c:\\users\\user\\desktop\\school work\\com 726\\venv\\lib\\site-packages (from transformers) (0.13.2)\n",
      "Requirement already satisfied: filelock in c:\\users\\user\\desktop\\school work\\com 726\\venv\\lib\\site-packages (from transformers) (3.8.2)\n",
      "Requirement already satisfied: tqdm>=4.27 in c:\\users\\user\\desktop\\school work\\com 726\\venv\\lib\\site-packages (from transformers) (4.64.1)\n",
      "Requirement already satisfied: regex!=2019.12.17 in c:\\users\\user\\desktop\\school work\\com 726\\venv\\lib\\site-packages (from transformers) (2022.10.31)\n",
      "Requirement already satisfied: typing-extensions>=3.7.4.3 in c:\\users\\user\\desktop\\school work\\com 726\\venv\\lib\\site-packages (from huggingface-hub<1.0,>=0.10.0->transformers) (4.4.0)\n",
      "Requirement already satisfied: pyparsing!=3.0.5,>=2.0.2 in c:\\users\\user\\desktop\\school work\\com 726\\venv\\lib\\site-packages (from packaging>=20.0->transformers) (3.0.9)\n",
      "Requirement already satisfied: colorama in c:\\users\\user\\desktop\\school work\\com 726\\venv\\lib\\site-packages (from tqdm>=4.27->transformers) (0.4.6)\n",
      "Requirement already satisfied: idna<4,>=2.5 in c:\\users\\user\\desktop\\school work\\com 726\\venv\\lib\\site-packages (from requests->transformers) (3.4)\n",
      "Requirement already satisfied: charset-normalizer<3,>=2 in c:\\users\\user\\desktop\\school work\\com 726\\venv\\lib\\site-packages (from requests->transformers) (2.1.1)\n",
      "Requirement already satisfied: certifi>=2017.4.17 in c:\\users\\user\\desktop\\school work\\com 726\\venv\\lib\\site-packages (from requests->transformers) (2022.12.7)\n",
      "Requirement already satisfied: urllib3<1.27,>=1.21.1 in c:\\users\\user\\desktop\\school work\\com 726\\venv\\lib\\site-packages (from requests->transformers) (1.26.13)\n"
     ]
    },
    {
     "name": "stderr",
     "output_type": "stream",
     "text": [
      "WARNING: You are using pip version 21.3.1; however, version 22.3.1 is available.[nltk_data] Downloading package stopwords to\n",
      "[nltk_data]     C:\\Users\\USER\\AppData\\Roaming\\nltk_data...\n",
      "[nltk_data]   Package stopwords is already up-to-date!\n",
      "\n",
      "You should consider upgrading via the 'C:\\Users\\USER\\Desktop\\School Work\\COM 726\\venv\\Scripts\\python.exe -m pip install --upgrade pip' command.\n"
     ]
    }
   ],
   "source": [
    "import tensorflow as tf\n",
    "!pip install transformers\n",
    "from os import path, environ\n",
    "from transformers import DistilBertTokenizerFast\n",
    "from transformers import TFDistilBertForSequenceClassification\n",
    "import pandas as pd\n",
    "import numpy as np\n",
    "import os\n",
    "import nltk\n",
    "import glob\n",
    "import re\n",
    "nltk.download('stopwords')\n",
    "from nltk.corpus import stopwords\n",
    "from nltk.stem.porter import PorterStemmer\n",
    "from nltk.tokenize import PunktSentenceTokenizer\n",
    "from nltk.corpus import stopwords"
   ],
   "metadata": {
    "collapsed": false,
    "pycharm": {
     "name": "#%%\n"
    }
   }
  },
  {
   "cell_type": "code",
   "execution_count": 46,
   "outputs": [
    {
     "data": {
      "text/plain": "                                    reviewId                userName  \\\n0       15cae506-4176-4364-b94d-d0053cc1345a                  Martin   \n1       99996806-f16b-4085-bfce-8cf5f910e9bb               Kev Minds   \n2       bfa1d602-a3e8-441e-a222-9b5304912ad2            Samuel David   \n3       6a0e0d02-4a4e-438f-896d-353343f6612e  Michael “Mitch” McBain   \n4       09f8fb25-0640-49ad-b854-57f32fef06f4             Glenn Lewis   \n...                                      ...                     ...   \n342938  47640aee-6c66-4564-8841-2b59e1ef911c           A Google user   \n342939  1d0e1714-7ec4-4e0f-aa68-34f4fa720fa7           A Google user   \n342940  6fb7a8d3-4ee4-4025-a69c-05a0d36a4e8b           A Google user   \n342941  e347d6bf-e867-489d-a9a6-f20a142e9368           A Google user   \n342942  6d6d57b6-c109-49ff-ba28-4b0eb9a9785b           A Google user   \n\n                                                userImage  \\\n0       https://play-lh.googleusercontent.com/a/ALm5wu...   \n1       https://play-lh.googleusercontent.com/a/ALm5wu...   \n2       https://play-lh.googleusercontent.com/a-/ACNPE...   \n3       https://play-lh.googleusercontent.com/a-/ACNPE...   \n4       https://play-lh.googleusercontent.com/a-/ACNPE...   \n...                                                   ...   \n342938  https://play-lh.googleusercontent.com/EGemoI2N...   \n342939  https://play-lh.googleusercontent.com/EGemoI2N...   \n342940  https://play-lh.googleusercontent.com/EGemoI2N...   \n342941  https://play-lh.googleusercontent.com/EGemoI2N...   \n342942  https://play-lh.googleusercontent.com/EGemoI2N...   \n\n                                                  content  score  \\\n0                         Sucks. Impossible to reset pin.      1   \n1       Monzo app is always spot on and uploads really...      5   \n2       Unable to fil in my id for days after several ...      2   \n3                                             glitch-free      5   \n4       Have to speak as I find, I have been using Mon...      5   \n...                                                   ...    ...   \n342938  It's a waiting list. Wow! Absolutely pointless...      1   \n342939  Pretty disappointed to go from an email saying...      2   \n342940  On the waiting list. Looking forward to all th...      5   \n342941  Mondo for Android - can't wait.  The iOS app i...      5   \n342942  It is just the waiting list for now but it is ...      5   \n\n        thumbsUpCount reviewCreatedVersion                   at  \\\n0                   1               4.52.0  2022-11-30 14:34:38   \n1                   0                5.2.0  2022-11-30 13:00:20   \n2                   0                5.2.0  2022-11-30 10:52:40   \n3                   0                5.1.0  2022-11-29 23:47:01   \n4                   0               4.45.1  2022-11-29 22:45:22   \n...               ...                  ...                  ...   \n342938              1                0.1.2  2016-05-25 11:45:04   \n342939              3                0.1.2  2016-05-25 11:34:15   \n342940              8                0.1.2  2016-05-25 11:31:56   \n342941              4                  1.0  2016-05-13 15:05:25   \n342942              7                  1.0  2016-05-13 11:30:09   \n\n                                             replyContent            repliedAt  \n0       Hey Martin 👋 Sorry to hear you're having troub...  2022-11-30 15:03:24  \n1                                                     NaN                  NaN  \n2       Hey Samuel 👋 We're so sorry to hear that, how ...  2022-11-30 10:54:32  \n3                                                     NaN                  NaN  \n4                                                     NaN                  NaN  \n...                                                   ...                  ...  \n342938                                                NaN                  NaN  \n342939                                                NaN                  NaN  \n342940                                                NaN                  NaN  \n342941                                                NaN                  NaN  \n342942                                                NaN                  NaN  \n\n[342943 rows x 10 columns]",
      "text/html": "<div>\n<style scoped>\n    .dataframe tbody tr th:only-of-type {\n        vertical-align: middle;\n    }\n\n    .dataframe tbody tr th {\n        vertical-align: top;\n    }\n\n    .dataframe thead th {\n        text-align: right;\n    }\n</style>\n<table border=\"1\" class=\"dataframe\">\n  <thead>\n    <tr style=\"text-align: right;\">\n      <th></th>\n      <th>reviewId</th>\n      <th>userName</th>\n      <th>userImage</th>\n      <th>content</th>\n      <th>score</th>\n      <th>thumbsUpCount</th>\n      <th>reviewCreatedVersion</th>\n      <th>at</th>\n      <th>replyContent</th>\n      <th>repliedAt</th>\n    </tr>\n  </thead>\n  <tbody>\n    <tr>\n      <th>0</th>\n      <td>15cae506-4176-4364-b94d-d0053cc1345a</td>\n      <td>Martin</td>\n      <td>https://play-lh.googleusercontent.com/a/ALm5wu...</td>\n      <td>Sucks. Impossible to reset pin.</td>\n      <td>1</td>\n      <td>1</td>\n      <td>4.52.0</td>\n      <td>2022-11-30 14:34:38</td>\n      <td>Hey Martin 👋 Sorry to hear you're having troub...</td>\n      <td>2022-11-30 15:03:24</td>\n    </tr>\n    <tr>\n      <th>1</th>\n      <td>99996806-f16b-4085-bfce-8cf5f910e9bb</td>\n      <td>Kev Minds</td>\n      <td>https://play-lh.googleusercontent.com/a/ALm5wu...</td>\n      <td>Monzo app is always spot on and uploads really...</td>\n      <td>5</td>\n      <td>0</td>\n      <td>5.2.0</td>\n      <td>2022-11-30 13:00:20</td>\n      <td>NaN</td>\n      <td>NaN</td>\n    </tr>\n    <tr>\n      <th>2</th>\n      <td>bfa1d602-a3e8-441e-a222-9b5304912ad2</td>\n      <td>Samuel David</td>\n      <td>https://play-lh.googleusercontent.com/a-/ACNPE...</td>\n      <td>Unable to fil in my id for days after several ...</td>\n      <td>2</td>\n      <td>0</td>\n      <td>5.2.0</td>\n      <td>2022-11-30 10:52:40</td>\n      <td>Hey Samuel 👋 We're so sorry to hear that, how ...</td>\n      <td>2022-11-30 10:54:32</td>\n    </tr>\n    <tr>\n      <th>3</th>\n      <td>6a0e0d02-4a4e-438f-896d-353343f6612e</td>\n      <td>Michael “Mitch” McBain</td>\n      <td>https://play-lh.googleusercontent.com/a-/ACNPE...</td>\n      <td>glitch-free</td>\n      <td>5</td>\n      <td>0</td>\n      <td>5.1.0</td>\n      <td>2022-11-29 23:47:01</td>\n      <td>NaN</td>\n      <td>NaN</td>\n    </tr>\n    <tr>\n      <th>4</th>\n      <td>09f8fb25-0640-49ad-b854-57f32fef06f4</td>\n      <td>Glenn Lewis</td>\n      <td>https://play-lh.googleusercontent.com/a-/ACNPE...</td>\n      <td>Have to speak as I find, I have been using Mon...</td>\n      <td>5</td>\n      <td>0</td>\n      <td>4.45.1</td>\n      <td>2022-11-29 22:45:22</td>\n      <td>NaN</td>\n      <td>NaN</td>\n    </tr>\n    <tr>\n      <th>...</th>\n      <td>...</td>\n      <td>...</td>\n      <td>...</td>\n      <td>...</td>\n      <td>...</td>\n      <td>...</td>\n      <td>...</td>\n      <td>...</td>\n      <td>...</td>\n      <td>...</td>\n    </tr>\n    <tr>\n      <th>342938</th>\n      <td>47640aee-6c66-4564-8841-2b59e1ef911c</td>\n      <td>A Google user</td>\n      <td>https://play-lh.googleusercontent.com/EGemoI2N...</td>\n      <td>It's a waiting list. Wow! Absolutely pointless...</td>\n      <td>1</td>\n      <td>1</td>\n      <td>0.1.2</td>\n      <td>2016-05-25 11:45:04</td>\n      <td>NaN</td>\n      <td>NaN</td>\n    </tr>\n    <tr>\n      <th>342939</th>\n      <td>1d0e1714-7ec4-4e0f-aa68-34f4fa720fa7</td>\n      <td>A Google user</td>\n      <td>https://play-lh.googleusercontent.com/EGemoI2N...</td>\n      <td>Pretty disappointed to go from an email saying...</td>\n      <td>2</td>\n      <td>3</td>\n      <td>0.1.2</td>\n      <td>2016-05-25 11:34:15</td>\n      <td>NaN</td>\n      <td>NaN</td>\n    </tr>\n    <tr>\n      <th>342940</th>\n      <td>6fb7a8d3-4ee4-4025-a69c-05a0d36a4e8b</td>\n      <td>A Google user</td>\n      <td>https://play-lh.googleusercontent.com/EGemoI2N...</td>\n      <td>On the waiting list. Looking forward to all th...</td>\n      <td>5</td>\n      <td>8</td>\n      <td>0.1.2</td>\n      <td>2016-05-25 11:31:56</td>\n      <td>NaN</td>\n      <td>NaN</td>\n    </tr>\n    <tr>\n      <th>342941</th>\n      <td>e347d6bf-e867-489d-a9a6-f20a142e9368</td>\n      <td>A Google user</td>\n      <td>https://play-lh.googleusercontent.com/EGemoI2N...</td>\n      <td>Mondo for Android - can't wait.  The iOS app i...</td>\n      <td>5</td>\n      <td>4</td>\n      <td>1.0</td>\n      <td>2016-05-13 15:05:25</td>\n      <td>NaN</td>\n      <td>NaN</td>\n    </tr>\n    <tr>\n      <th>342942</th>\n      <td>6d6d57b6-c109-49ff-ba28-4b0eb9a9785b</td>\n      <td>A Google user</td>\n      <td>https://play-lh.googleusercontent.com/EGemoI2N...</td>\n      <td>It is just the waiting list for now but it is ...</td>\n      <td>5</td>\n      <td>7</td>\n      <td>1.0</td>\n      <td>2016-05-13 11:30:09</td>\n      <td>NaN</td>\n      <td>NaN</td>\n    </tr>\n  </tbody>\n</table>\n<p>342943 rows × 10 columns</p>\n</div>"
     },
     "execution_count": 46,
     "metadata": {},
     "output_type": "execute_result"
    }
   ],
   "source": [
    "# merging the files\n",
    "joined_files = os.path.join(r\"\\Users\\USER\\OneDrive - Solent University\\School Work\\COM 726\\AE1\\Dataset\\Monzo\", \"exported_mz*.csv\")\n",
    "\n",
    "# A list of all joined files is returned\n",
    "joined_list = glob.glob(joined_files)\n",
    "\n",
    "# Finally, the files are joined\n",
    "df_2 = pd.concat(map(pd.read_csv, joined_list), ignore_index=True)\n",
    "df_2"
   ],
   "metadata": {
    "collapsed": false,
    "pycharm": {
     "name": "#%%\n"
    }
   }
  },
  {
   "cell_type": "code",
   "execution_count": 47,
   "outputs": [
    {
     "data": {
      "text/plain": "(342943, 10)"
     },
     "execution_count": 47,
     "metadata": {},
     "output_type": "execute_result"
    }
   ],
   "source": [
    "#printing shape of the entire dataframe\n",
    "df_2.shape"
   ],
   "metadata": {
    "collapsed": false,
    "pycharm": {
     "name": "#%%\n"
    }
   }
  },
  {
   "cell_type": "code",
   "execution_count": 48,
   "outputs": [],
   "source": [
    "#Creating a new column called sentiment by using the review rating score\n",
    "def sentiment(n):return 1 if n >= 3 else 0\n",
    "df_2['sentiment'] = df_2['score'].apply(sentiment)"
   ],
   "metadata": {
    "collapsed": false,
    "pycharm": {
     "name": "#%%\n"
    }
   }
  },
  {
   "cell_type": "code",
   "execution_count": 50,
   "outputs": [
    {
     "data": {
      "text/plain": "                                    reviewId       userName  \\\n342938  47640aee-6c66-4564-8841-2b59e1ef911c  A Google user   \n342939  1d0e1714-7ec4-4e0f-aa68-34f4fa720fa7  A Google user   \n342940  6fb7a8d3-4ee4-4025-a69c-05a0d36a4e8b  A Google user   \n342941  e347d6bf-e867-489d-a9a6-f20a142e9368  A Google user   \n342942  6d6d57b6-c109-49ff-ba28-4b0eb9a9785b  A Google user   \n\n                                                userImage  \\\n342938  https://play-lh.googleusercontent.com/EGemoI2N...   \n342939  https://play-lh.googleusercontent.com/EGemoI2N...   \n342940  https://play-lh.googleusercontent.com/EGemoI2N...   \n342941  https://play-lh.googleusercontent.com/EGemoI2N...   \n342942  https://play-lh.googleusercontent.com/EGemoI2N...   \n\n                                                  content  score  \\\n342938  It's a waiting list. Wow! Absolutely pointless...      1   \n342939  Pretty disappointed to go from an email saying...      2   \n342940  On the waiting list. Looking forward to all th...      5   \n342941  Mondo for Android - can't wait.  The iOS app i...      5   \n342942  It is just the waiting list for now but it is ...      5   \n\n        thumbsUpCount reviewCreatedVersion                   at replyContent  \\\n342938              1                0.1.2  2016-05-25 11:45:04          NaN   \n342939              3                0.1.2  2016-05-25 11:34:15          NaN   \n342940              8                0.1.2  2016-05-25 11:31:56          NaN   \n342941              4                  1.0  2016-05-13 15:05:25          NaN   \n342942              7                  1.0  2016-05-13 11:30:09          NaN   \n\n       repliedAt  sentiment  \n342938       NaN          0  \n342939       NaN          0  \n342940       NaN          1  \n342941       NaN          1  \n342942       NaN          1  ",
      "text/html": "<div>\n<style scoped>\n    .dataframe tbody tr th:only-of-type {\n        vertical-align: middle;\n    }\n\n    .dataframe tbody tr th {\n        vertical-align: top;\n    }\n\n    .dataframe thead th {\n        text-align: right;\n    }\n</style>\n<table border=\"1\" class=\"dataframe\">\n  <thead>\n    <tr style=\"text-align: right;\">\n      <th></th>\n      <th>reviewId</th>\n      <th>userName</th>\n      <th>userImage</th>\n      <th>content</th>\n      <th>score</th>\n      <th>thumbsUpCount</th>\n      <th>reviewCreatedVersion</th>\n      <th>at</th>\n      <th>replyContent</th>\n      <th>repliedAt</th>\n      <th>sentiment</th>\n    </tr>\n  </thead>\n  <tbody>\n    <tr>\n      <th>342938</th>\n      <td>47640aee-6c66-4564-8841-2b59e1ef911c</td>\n      <td>A Google user</td>\n      <td>https://play-lh.googleusercontent.com/EGemoI2N...</td>\n      <td>It's a waiting list. Wow! Absolutely pointless...</td>\n      <td>1</td>\n      <td>1</td>\n      <td>0.1.2</td>\n      <td>2016-05-25 11:45:04</td>\n      <td>NaN</td>\n      <td>NaN</td>\n      <td>0</td>\n    </tr>\n    <tr>\n      <th>342939</th>\n      <td>1d0e1714-7ec4-4e0f-aa68-34f4fa720fa7</td>\n      <td>A Google user</td>\n      <td>https://play-lh.googleusercontent.com/EGemoI2N...</td>\n      <td>Pretty disappointed to go from an email saying...</td>\n      <td>2</td>\n      <td>3</td>\n      <td>0.1.2</td>\n      <td>2016-05-25 11:34:15</td>\n      <td>NaN</td>\n      <td>NaN</td>\n      <td>0</td>\n    </tr>\n    <tr>\n      <th>342940</th>\n      <td>6fb7a8d3-4ee4-4025-a69c-05a0d36a4e8b</td>\n      <td>A Google user</td>\n      <td>https://play-lh.googleusercontent.com/EGemoI2N...</td>\n      <td>On the waiting list. Looking forward to all th...</td>\n      <td>5</td>\n      <td>8</td>\n      <td>0.1.2</td>\n      <td>2016-05-25 11:31:56</td>\n      <td>NaN</td>\n      <td>NaN</td>\n      <td>1</td>\n    </tr>\n    <tr>\n      <th>342941</th>\n      <td>e347d6bf-e867-489d-a9a6-f20a142e9368</td>\n      <td>A Google user</td>\n      <td>https://play-lh.googleusercontent.com/EGemoI2N...</td>\n      <td>Mondo for Android - can't wait.  The iOS app i...</td>\n      <td>5</td>\n      <td>4</td>\n      <td>1.0</td>\n      <td>2016-05-13 15:05:25</td>\n      <td>NaN</td>\n      <td>NaN</td>\n      <td>1</td>\n    </tr>\n    <tr>\n      <th>342942</th>\n      <td>6d6d57b6-c109-49ff-ba28-4b0eb9a9785b</td>\n      <td>A Google user</td>\n      <td>https://play-lh.googleusercontent.com/EGemoI2N...</td>\n      <td>It is just the waiting list for now but it is ...</td>\n      <td>5</td>\n      <td>7</td>\n      <td>1.0</td>\n      <td>2016-05-13 11:30:09</td>\n      <td>NaN</td>\n      <td>NaN</td>\n      <td>1</td>\n    </tr>\n  </tbody>\n</table>\n</div>"
     },
     "execution_count": 50,
     "metadata": {},
     "output_type": "execute_result"
    }
   ],
   "source": [
    "df_2.tail(5)"
   ],
   "metadata": {
    "collapsed": false,
    "pycharm": {
     "name": "#%%\n"
    }
   }
  },
  {
   "cell_type": "code",
   "execution_count": 55,
   "outputs": [
    {
     "data": {
      "text/plain": "                                                  content  sentiment\n342933  I was on iOS and had mondo - now on android an...          1\n342934  All good knowing something is happening all my...          1\n342935  No idea why as an investor we are being made t...          0\n342936  Great to see something is being done, nice ide...          1\n342937  Brilliant way to minimise losses by gaging int...          1\n342938  It's a waiting list. Wow! Absolutely pointless...          0\n342939  Pretty disappointed to go from an email saying...          0\n342940  On the waiting list. Looking forward to all th...          1\n342941  Mondo for Android - can't wait.  The iOS app i...          1\n342942  It is just the waiting list for now but it is ...          1",
      "text/html": "<div>\n<style scoped>\n    .dataframe tbody tr th:only-of-type {\n        vertical-align: middle;\n    }\n\n    .dataframe tbody tr th {\n        vertical-align: top;\n    }\n\n    .dataframe thead th {\n        text-align: right;\n    }\n</style>\n<table border=\"1\" class=\"dataframe\">\n  <thead>\n    <tr style=\"text-align: right;\">\n      <th></th>\n      <th>content</th>\n      <th>sentiment</th>\n    </tr>\n  </thead>\n  <tbody>\n    <tr>\n      <th>342933</th>\n      <td>I was on iOS and had mondo - now on android an...</td>\n      <td>1</td>\n    </tr>\n    <tr>\n      <th>342934</th>\n      <td>All good knowing something is happening all my...</td>\n      <td>1</td>\n    </tr>\n    <tr>\n      <th>342935</th>\n      <td>No idea why as an investor we are being made t...</td>\n      <td>0</td>\n    </tr>\n    <tr>\n      <th>342936</th>\n      <td>Great to see something is being done, nice ide...</td>\n      <td>1</td>\n    </tr>\n    <tr>\n      <th>342937</th>\n      <td>Brilliant way to minimise losses by gaging int...</td>\n      <td>1</td>\n    </tr>\n    <tr>\n      <th>342938</th>\n      <td>It's a waiting list. Wow! Absolutely pointless...</td>\n      <td>0</td>\n    </tr>\n    <tr>\n      <th>342939</th>\n      <td>Pretty disappointed to go from an email saying...</td>\n      <td>0</td>\n    </tr>\n    <tr>\n      <th>342940</th>\n      <td>On the waiting list. Looking forward to all th...</td>\n      <td>1</td>\n    </tr>\n    <tr>\n      <th>342941</th>\n      <td>Mondo for Android - can't wait.  The iOS app i...</td>\n      <td>1</td>\n    </tr>\n    <tr>\n      <th>342942</th>\n      <td>It is just the waiting list for now but it is ...</td>\n      <td>1</td>\n    </tr>\n  </tbody>\n</table>\n</div>"
     },
     "execution_count": 55,
     "metadata": {},
     "output_type": "execute_result"
    }
   ],
   "source": [
    "#Viewing the  data frame columns of ony content and sentiment\n",
    "df_new= df_2[['content','sentiment']]\n",
    "df_new.tail(10)"
   ],
   "metadata": {
    "collapsed": false,
    "pycharm": {
     "name": "#%%\n"
    }
   }
  },
  {
   "cell_type": "code",
   "execution_count": 56,
   "outputs": [
    {
     "data": {
      "text/plain": "content      23\nsentiment     0\ndtype: int64"
     },
     "execution_count": 56,
     "metadata": {},
     "output_type": "execute_result"
    }
   ],
   "source": [
    "#Check if there are any null values\n",
    "#data_1 = data[['verified_reviews','sentiment']]\n",
    "df_new.isnull().sum()\n",
    "\n",
    "#There are 23 null values in the content column"
   ],
   "metadata": {
    "collapsed": false,
    "pycharm": {
     "name": "#%%\n"
    }
   }
  },
  {
   "cell_type": "code",
   "execution_count": 57,
   "outputs": [
    {
     "name": "stderr",
     "output_type": "stream",
     "text": [
      "C:\\Users\\USER\\AppData\\Local\\Temp\\ipykernel_11740\\228607245.py:2: SettingWithCopyWarning: \n",
      "A value is trying to be set on a copy of a slice from a DataFrame\n",
      "\n",
      "See the caveats in the documentation: https://pandas.pydata.org/pandas-docs/stable/user_guide/indexing.html#returning-a-view-versus-a-copy\n",
      "  df_new.drop_duplicates(\"content\", inplace=True)\n"
     ]
    }
   ],
   "source": [
    "# Drop duplicates\n",
    "df_new.drop_duplicates(\"content\", inplace=True)"
   ],
   "metadata": {
    "collapsed": false,
    "pycharm": {
     "name": "#%%\n"
    }
   }
  },
  {
   "cell_type": "code",
   "execution_count": 59,
   "outputs": [
    {
     "data": {
      "text/plain": "(12885, 2)"
     },
     "execution_count": 59,
     "metadata": {},
     "output_type": "execute_result"
    }
   ],
   "source": [
    "df_new.shape"
   ],
   "metadata": {
    "collapsed": false,
    "pycharm": {
     "name": "#%%\n"
    }
   }
  },
  {
   "cell_type": "code",
   "execution_count": 60,
   "outputs": [
    {
     "name": "stderr",
     "output_type": "stream",
     "text": [
      "C:\\Users\\USER\\AppData\\Local\\Temp\\ipykernel_11740\\2735915399.py:2: SettingWithCopyWarning: \n",
      "A value is trying to be set on a copy of a slice from a DataFrame\n",
      "\n",
      "See the caveats in the documentation: https://pandas.pydata.org/pandas-docs/stable/user_guide/indexing.html#returning-a-view-versus-a-copy\n",
      "  df_new.dropna(inplace=True)\n"
     ]
    }
   ],
   "source": [
    "#dropping empty  rows in the content column\n",
    "df_new.dropna(inplace=True)"
   ],
   "metadata": {
    "collapsed": false,
    "pycharm": {
     "name": "#%%\n"
    }
   }
  },
  {
   "cell_type": "code",
   "execution_count": 61,
   "outputs": [
    {
     "data": {
      "text/plain": "(12884, 2)"
     },
     "execution_count": 61,
     "metadata": {},
     "output_type": "execute_result"
    }
   ],
   "source": [
    "#Getting the shape of the data set after removing null values\n",
    "df_new.shape"
   ],
   "metadata": {
    "collapsed": false,
    "pycharm": {
     "name": "#%%\n"
    }
   }
  },
  {
   "cell_type": "code",
   "execution_count": 62,
   "outputs": [],
   "source": [
    "#Putting the content and sentiment into dataframe\n",
    "reviews = df_new['content'].values.tolist()\n",
    "labels = df_new['sentiment'].tolist()"
   ],
   "metadata": {
    "collapsed": false,
    "pycharm": {
     "name": "#%%\n"
    }
   }
  },
  {
   "cell_type": "code",
   "execution_count": 63,
   "outputs": [
    {
     "name": "stdout",
     "output_type": "stream",
     "text": [
      "['Sucks. Impossible to reset pin.', 'Monzo app is always spot on and uploads really quickly']\n",
      "[0, 1]\n"
     ]
    }
   ],
   "source": [
    "#Printing some columns\n",
    "print(reviews[:2])\n",
    "print(labels[:2])"
   ],
   "metadata": {
    "collapsed": false,
    "pycharm": {
     "name": "#%%\n"
    }
   }
  },
  {
   "cell_type": "code",
   "execution_count": 64,
   "outputs": [],
   "source": [
    "#Splitting into test and training\n",
    "from sklearn.model_selection import train_test_split\n",
    "training_sentences, validation_sentences, training_labels, validation_labels = train_test_split(reviews, labels, test_size=.2)"
   ],
   "metadata": {
    "collapsed": false,
    "pycharm": {
     "name": "#%%\n"
    }
   }
  },
  {
   "cell_type": "code",
   "execution_count": 66,
   "outputs": [
    {
     "data": {
      "text/plain": "Downloading:   0%|          | 0.00/483 [00:00<?, ?B/s]",
      "application/vnd.jupyter.widget-view+json": {
       "version_major": 2,
       "version_minor": 0,
       "model_id": "0f2278a4f61c4f1ca32bd523766646c2"
      }
     },
     "metadata": {},
     "output_type": "display_data"
    }
   ],
   "source": [
    "tokenizer = DistilBertTokenizerFast.from_pretrained('distilbert-base-uncased')"
   ],
   "metadata": {
    "collapsed": false,
    "pycharm": {
     "name": "#%%\n"
    }
   }
  },
  {
   "cell_type": "code",
   "execution_count": 67,
   "outputs": [
    {
     "data": {
      "text/plain": "{'input_ids': [[101, 5310, 5379, 10439, 2029, 7906, 2017, 7172, 102]], 'attention_mask': [[1, 1, 1, 1, 1, 1, 1, 1, 1]]}"
     },
     "execution_count": 67,
     "metadata": {},
     "output_type": "execute_result"
    }
   ],
   "source": [
    "tokenizer([training_sentences[0]], truncation=True,\n",
    "                            padding=True, max_length=128)"
   ],
   "metadata": {
    "collapsed": false,
    "pycharm": {
     "name": "#%%\n"
    }
   }
  },
  {
   "cell_type": "code",
   "execution_count": 68,
   "outputs": [],
   "source": [
    "train_encodings = tokenizer(training_sentences,\n",
    "                            truncation=True,\n",
    "                            padding=True)\n",
    "val_encodings = tokenizer(validation_sentences,\n",
    "                            truncation=True,\n",
    "                            padding=True)"
   ],
   "metadata": {
    "collapsed": false,
    "pycharm": {
     "name": "#%%\n"
    }
   }
  },
  {
   "cell_type": "code",
   "execution_count": 69,
   "outputs": [],
   "source": [
    "\n",
    "train_dataset = tf.data.Dataset.from_tensor_slices((\n",
    "    dict(train_encodings),\n",
    "    training_labels\n",
    "))\n",
    "\n",
    "val_dataset = tf.data.Dataset.from_tensor_slices((\n",
    "    dict(val_encodings),\n",
    "    validation_labels\n",
    "))"
   ],
   "metadata": {
    "collapsed": false,
    "pycharm": {
     "name": "#%%\n"
    }
   }
  },
  {
   "cell_type": "code",
   "execution_count": 70,
   "outputs": [
    {
     "data": {
      "text/plain": "Downloading:   0%|          | 0.00/363M [00:00<?, ?B/s]",
      "application/vnd.jupyter.widget-view+json": {
       "version_major": 2,
       "version_minor": 0,
       "model_id": "e970a00f3ed646b5a4adc6499a7b1430"
      }
     },
     "metadata": {},
     "output_type": "display_data"
    },
    {
     "name": "stderr",
     "output_type": "stream",
     "text": [
      "Some layers from the model checkpoint at distilbert-base-uncased were not used when initializing TFDistilBertForSequenceClassification: ['vocab_layer_norm', 'vocab_transform', 'vocab_projector', 'activation_13']\n",
      "- This IS expected if you are initializing TFDistilBertForSequenceClassification from the checkpoint of a model trained on another task or with another architecture (e.g. initializing a BertForSequenceClassification model from a BertForPreTraining model).\n",
      "- This IS NOT expected if you are initializing TFDistilBertForSequenceClassification from the checkpoint of a model that you expect to be exactly identical (initializing a BertForSequenceClassification model from a BertForSequenceClassification model).\n",
      "Some layers of TFDistilBertForSequenceClassification were not initialized from the model checkpoint at distilbert-base-uncased and are newly initialized: ['pre_classifier', 'dropout_19', 'classifier']\n",
      "You should probably TRAIN this model on a down-stream task to be able to use it for predictions and inference.\n"
     ]
    }
   ],
   "source": [
    "model = TFDistilBertForSequenceClassification.from_pretrained('distilbert-base-uncased',num_labels=2)"
   ],
   "metadata": {
    "collapsed": false,
    "pycharm": {
     "name": "#%%\n"
    }
   }
  },
  {
   "cell_type": "code",
   "execution_count": 85,
   "outputs": [
    {
     "name": "stdout",
     "output_type": "stream",
     "text": [
      "Epoch 1/2\n"
     ]
    },
    {
     "ename": "AttributeError",
     "evalue": "in user code:\n\n    File \"C:\\Users\\USER\\Desktop\\School Work\\COM 726\\venv\\lib\\site-packages\\keras\\engine\\training.py\", line 1249, in train_function  *\n        return step_function(self, iterator)\n    File \"C:\\Users\\USER\\Desktop\\School Work\\COM 726\\venv\\lib\\site-packages\\keras\\engine\\training.py\", line 1233, in step_function  **\n        \n    File \"C:\\Users\\USER\\Desktop\\School Work\\COM 726\\venv\\lib\\site-packages\\keras\\engine\\training.py\", line 1222, in run_step  **\n        \n    File \"C:\\Users\\USER\\Desktop\\School Work\\COM 726\\venv\\lib\\site-packages\\transformers\\modeling_tf_utils.py\", line 1476, in train_step\n        data = data_adapter.expand_1d(data)\n\n    AttributeError: module 'keras.engine.data_adapter' has no attribute 'expand_1d'\n",
     "output_type": "error",
     "traceback": [
      "\u001B[1;31m---------------------------------------------------------------------------\u001B[0m",
      "\u001B[1;31mAttributeError\u001B[0m                            Traceback (most recent call last)",
      "Cell \u001B[1;32mIn [85], line 3\u001B[0m\n\u001B[0;32m      1\u001B[0m optimizer \u001B[38;5;241m=\u001B[39m tf\u001B[38;5;241m.\u001B[39mkeras\u001B[38;5;241m.\u001B[39moptimizers\u001B[38;5;241m.\u001B[39mAdam(learning_rate\u001B[38;5;241m=\u001B[39m\u001B[38;5;241m5e-5\u001B[39m, epsilon\u001B[38;5;241m=\u001B[39m\u001B[38;5;241m1e-08\u001B[39m)\n\u001B[0;32m      2\u001B[0m model\u001B[38;5;241m.\u001B[39mcompile(optimizer\u001B[38;5;241m=\u001B[39moptimizer, loss\u001B[38;5;241m=\u001B[39mmodel\u001B[38;5;241m.\u001B[39mcompute_loss, metrics\u001B[38;5;241m=\u001B[39m[\u001B[38;5;124m'\u001B[39m\u001B[38;5;124maccuracy\u001B[39m\u001B[38;5;124m'\u001B[39m])\n\u001B[1;32m----> 3\u001B[0m \u001B[43mmodel\u001B[49m\u001B[38;5;241;43m.\u001B[39;49m\u001B[43mfit\u001B[49m\u001B[43m(\u001B[49m\u001B[43mtrain_dataset\u001B[49m\u001B[38;5;241;43m.\u001B[39;49m\u001B[43mshuffle\u001B[49m\u001B[43m(\u001B[49m\u001B[38;5;241;43m100\u001B[39;49m\u001B[43m)\u001B[49m\u001B[38;5;241;43m.\u001B[39;49m\u001B[43mbatch\u001B[49m\u001B[43m(\u001B[49m\u001B[38;5;241;43m16\u001B[39;49m\u001B[43m)\u001B[49m\u001B[43m,\u001B[49m\n\u001B[0;32m      4\u001B[0m \u001B[43m          \u001B[49m\u001B[43mepochs\u001B[49m\u001B[38;5;241;43m=\u001B[39;49m\u001B[38;5;241;43m2\u001B[39;49m\u001B[43m,\u001B[49m\n\u001B[0;32m      5\u001B[0m \u001B[43m          \u001B[49m\u001B[43mbatch_size\u001B[49m\u001B[38;5;241;43m=\u001B[39;49m\u001B[38;5;241;43m16\u001B[39;49m\u001B[43m,\u001B[49m\n\u001B[0;32m      6\u001B[0m \u001B[43m          \u001B[49m\u001B[43mvalidation_data\u001B[49m\u001B[38;5;241;43m=\u001B[39;49m\u001B[43mval_dataset\u001B[49m\u001B[38;5;241;43m.\u001B[39;49m\u001B[43mshuffle\u001B[49m\u001B[43m(\u001B[49m\u001B[38;5;241;43m100\u001B[39;49m\u001B[43m)\u001B[49m\u001B[38;5;241;43m.\u001B[39;49m\u001B[43mbatch\u001B[49m\u001B[43m(\u001B[49m\u001B[38;5;241;43m16\u001B[39;49m\u001B[43m)\u001B[49m\u001B[43m)\u001B[49m\n",
      "File \u001B[1;32m~\\Desktop\\School Work\\COM 726\\venv\\lib\\site-packages\\keras\\utils\\traceback_utils.py:70\u001B[0m, in \u001B[0;36mfilter_traceback.<locals>.error_handler\u001B[1;34m(*args, **kwargs)\u001B[0m\n\u001B[0;32m     67\u001B[0m     filtered_tb \u001B[38;5;241m=\u001B[39m _process_traceback_frames(e\u001B[38;5;241m.\u001B[39m__traceback__)\n\u001B[0;32m     68\u001B[0m     \u001B[38;5;66;03m# To get the full stack trace, call:\u001B[39;00m\n\u001B[0;32m     69\u001B[0m     \u001B[38;5;66;03m# `tf.debugging.disable_traceback_filtering()`\u001B[39;00m\n\u001B[1;32m---> 70\u001B[0m     \u001B[38;5;28;01mraise\u001B[39;00m e\u001B[38;5;241m.\u001B[39mwith_traceback(filtered_tb) \u001B[38;5;28;01mfrom\u001B[39;00m \u001B[38;5;28mNone\u001B[39m\n\u001B[0;32m     71\u001B[0m \u001B[38;5;28;01mfinally\u001B[39;00m:\n\u001B[0;32m     72\u001B[0m     \u001B[38;5;28;01mdel\u001B[39;00m filtered_tb\n",
      "File \u001B[1;32m~\\AppData\\Local\\Temp\\__autograph_generated_filec4iszwch.py:15\u001B[0m, in \u001B[0;36mouter_factory.<locals>.inner_factory.<locals>.tf__train_function\u001B[1;34m(iterator)\u001B[0m\n\u001B[0;32m     13\u001B[0m \u001B[38;5;28;01mtry\u001B[39;00m:\n\u001B[0;32m     14\u001B[0m     do_return \u001B[38;5;241m=\u001B[39m \u001B[38;5;28;01mTrue\u001B[39;00m\n\u001B[1;32m---> 15\u001B[0m     retval_ \u001B[38;5;241m=\u001B[39m ag__\u001B[38;5;241m.\u001B[39mconverted_call(ag__\u001B[38;5;241m.\u001B[39mld(step_function), (ag__\u001B[38;5;241m.\u001B[39mld(\u001B[38;5;28mself\u001B[39m), ag__\u001B[38;5;241m.\u001B[39mld(iterator)), \u001B[38;5;28;01mNone\u001B[39;00m, fscope)\n\u001B[0;32m     16\u001B[0m \u001B[38;5;28;01mexcept\u001B[39;00m:\n\u001B[0;32m     17\u001B[0m     do_return \u001B[38;5;241m=\u001B[39m \u001B[38;5;28;01mFalse\u001B[39;00m\n",
      "File \u001B[1;32m~\\Desktop\\School Work\\COM 726\\venv\\lib\\site-packages\\transformers\\modeling_tf_utils.py:1476\u001B[0m, in \u001B[0;36mTFPreTrainedModel.train_step\u001B[1;34m(self, data)\u001B[0m\n\u001B[0;32m   1474\u001B[0m output_to_label \u001B[38;5;241m=\u001B[39m {val: key \u001B[38;5;28;01mfor\u001B[39;00m key, val \u001B[38;5;129;01min\u001B[39;00m label_to_output\u001B[38;5;241m.\u001B[39mitems()}\n\u001B[0;32m   1475\u001B[0m \u001B[38;5;28;01mif\u001B[39;00m \u001B[38;5;129;01mnot\u001B[39;00m \u001B[38;5;28mself\u001B[39m\u001B[38;5;241m.\u001B[39m_using_dummy_loss:\n\u001B[1;32m-> 1476\u001B[0m     data \u001B[38;5;241m=\u001B[39m \u001B[43mdata_adapter\u001B[49m\u001B[38;5;241;43m.\u001B[39;49m\u001B[43mexpand_1d\u001B[49m(data)\n\u001B[0;32m   1477\u001B[0m x, y, sample_weight \u001B[38;5;241m=\u001B[39m data_adapter\u001B[38;5;241m.\u001B[39munpack_x_y_sample_weight(data)\n\u001B[0;32m   1478\u001B[0m \u001B[38;5;66;03m# If the inputs are mutable dictionaries, make a shallow copy of them because we will modify\u001B[39;00m\n\u001B[0;32m   1479\u001B[0m \u001B[38;5;66;03m# them during input/label pre-processing. This avoids surprising the user by wrecking their data.\u001B[39;00m\n\u001B[0;32m   1480\u001B[0m \u001B[38;5;66;03m# In addition, modifying mutable Python inputs makes XLA compilation impossible.\u001B[39;00m\n",
      "\u001B[1;31mAttributeError\u001B[0m: in user code:\n\n    File \"C:\\Users\\USER\\Desktop\\School Work\\COM 726\\venv\\lib\\site-packages\\keras\\engine\\training.py\", line 1249, in train_function  *\n        return step_function(self, iterator)\n    File \"C:\\Users\\USER\\Desktop\\School Work\\COM 726\\venv\\lib\\site-packages\\keras\\engine\\training.py\", line 1233, in step_function  **\n        \n    File \"C:\\Users\\USER\\Desktop\\School Work\\COM 726\\venv\\lib\\site-packages\\keras\\engine\\training.py\", line 1222, in run_step  **\n        \n    File \"C:\\Users\\USER\\Desktop\\School Work\\COM 726\\venv\\lib\\site-packages\\transformers\\modeling_tf_utils.py\", line 1476, in train_step\n        data = data_adapter.expand_1d(data)\n\n    AttributeError: module 'keras.engine.data_adapter' has no attribute 'expand_1d'\n"
     ]
    }
   ],
   "source": [
    "optimizer = tf.keras.optimizers.Adam(learning_rate=5e-5, epsilon=1e-08)\n",
    "model.compile(optimizer=optimizer, loss=model.compute_loss, metrics=['accuracy'])\n",
    "model.fit(train_dataset.shuffle(100).batch(16),\n",
    "          epochs=2,\n",
    "          batch_size=16,\n",
    "          validation_data=val_dataset.shuffle(100).batch(16))"
   ],
   "metadata": {
    "collapsed": false,
    "pycharm": {
     "name": "#%%\n"
    }
   }
  },
  {
   "cell_type": "code",
   "execution_count": 82,
   "outputs": [],
   "source": [
    "model.save_pretrained(\"./sentiment\")"
   ],
   "metadata": {
    "collapsed": false,
    "pycharm": {
     "name": "#%%\n"
    }
   }
  },
  {
   "cell_type": "code",
   "execution_count": null,
   "outputs": [],
   "source": [
    "loaded_model = TFDistilBertForSequenceClassification.from_pretrained(\"/content/drive/MyDrive/sentiment/\")"
   ],
   "metadata": {
    "collapsed": false,
    "pycharm": {
     "name": "#%%\n"
    }
   }
  },
  {
   "cell_type": "code",
   "execution_count": null,
   "outputs": [],
   "source": [
    "\n",
    "test_sentence = \"This is a really bad product. I hate it\"\n",
    "\n",
    "\n",
    "\n",
    "predict_input = tokenizer.encode(test_sentence,\n",
    "                                 truncation=True,\n",
    "                                 padding=True,\n",
    "                                 return_tensors=\"tf\")\n",
    "\n",
    "tf_output = loaded_model.predict(predict_input)[0]\n",
    "\n",
    "\n",
    "tf_prediction = tf.nn.softmax(tf_output, axis=1)\n",
    "labels = ['Negative','Positive']\n",
    "label = tf.argmax(tf_prediction, axis=1)\n",
    "label = label.numpy()\n",
    "print(labels[label[0]])"
   ],
   "metadata": {
    "collapsed": false,
    "pycharm": {
     "name": "#%%\n"
    }
   }
  },
  {
   "cell_type": "code",
   "execution_count": null,
   "outputs": [],
   "source": [],
   "metadata": {
    "collapsed": false,
    "pycharm": {
     "name": "#%%\n"
    }
   }
  }
 ],
 "metadata": {
  "kernelspec": {
   "display_name": "Python 3",
   "language": "python",
   "name": "python3"
  },
  "language_info": {
   "codemirror_mode": {
    "name": "ipython",
    "version": 2
   },
   "file_extension": ".py",
   "mimetype": "text/x-python",
   "name": "python",
   "nbconvert_exporter": "python",
   "pygments_lexer": "ipython2",
   "version": "2.7.6"
  }
 },
 "nbformat": 4,
 "nbformat_minor": 0
}