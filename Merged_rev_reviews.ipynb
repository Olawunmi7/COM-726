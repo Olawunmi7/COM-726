{
 "cells": [
  {
   "cell_type": "code",
   "execution_count": 45,
   "outputs": [
    {
     "ename": "ValueError",
     "evalue": "No objects to concatenate",
     "output_type": "error",
     "traceback": [
      "\u001B[1;31m---------------------------------------------------------------------------\u001B[0m",
      "\u001B[1;31mValueError\u001B[0m                                Traceback (most recent call last)",
      "Cell \u001B[1;32mIn [45], line 12\u001B[0m\n\u001B[0;32m      9\u001B[0m joined_list \u001B[38;5;241m=\u001B[39m glob\u001B[38;5;241m.\u001B[39mglob(joined_files)\n\u001B[0;32m     11\u001B[0m \u001B[38;5;66;03m# Finally, the files are joined\u001B[39;00m\n\u001B[1;32m---> 12\u001B[0m df_rev_merged \u001B[38;5;241m=\u001B[39m \u001B[43mpd\u001B[49m\u001B[38;5;241;43m.\u001B[39;49m\u001B[43mconcat\u001B[49m\u001B[43m(\u001B[49m\u001B[38;5;28;43mmap\u001B[39;49m\u001B[43m(\u001B[49m\u001B[43mpd\u001B[49m\u001B[38;5;241;43m.\u001B[39;49m\u001B[43mread_csv\u001B[49m\u001B[43m,\u001B[49m\u001B[43m \u001B[49m\u001B[43mjoined_list\u001B[49m\u001B[43m)\u001B[49m\u001B[43m,\u001B[49m\u001B[43m \u001B[49m\u001B[43mignore_index\u001B[49m\u001B[38;5;241;43m=\u001B[39;49m\u001B[38;5;28;43;01mTrue\u001B[39;49;00m\u001B[43m)\u001B[49m\n\u001B[0;32m     13\u001B[0m df_rev_merged\n",
      "File \u001B[1;32m~\\Desktop\\School Work\\COM 726\\venv\\lib\\site-packages\\pandas\\util\\_decorators.py:331\u001B[0m, in \u001B[0;36mdeprecate_nonkeyword_arguments.<locals>.decorate.<locals>.wrapper\u001B[1;34m(*args, **kwargs)\u001B[0m\n\u001B[0;32m    325\u001B[0m \u001B[38;5;28;01mif\u001B[39;00m \u001B[38;5;28mlen\u001B[39m(args) \u001B[38;5;241m>\u001B[39m num_allow_args:\n\u001B[0;32m    326\u001B[0m     warnings\u001B[38;5;241m.\u001B[39mwarn(\n\u001B[0;32m    327\u001B[0m         msg\u001B[38;5;241m.\u001B[39mformat(arguments\u001B[38;5;241m=\u001B[39m_format_argument_list(allow_args)),\n\u001B[0;32m    328\u001B[0m         \u001B[38;5;167;01mFutureWarning\u001B[39;00m,\n\u001B[0;32m    329\u001B[0m         stacklevel\u001B[38;5;241m=\u001B[39mfind_stack_level(),\n\u001B[0;32m    330\u001B[0m     )\n\u001B[1;32m--> 331\u001B[0m \u001B[38;5;28;01mreturn\u001B[39;00m func(\u001B[38;5;241m*\u001B[39margs, \u001B[38;5;241m*\u001B[39m\u001B[38;5;241m*\u001B[39mkwargs)\n",
      "File \u001B[1;32m~\\Desktop\\School Work\\COM 726\\venv\\lib\\site-packages\\pandas\\core\\reshape\\concat.py:368\u001B[0m, in \u001B[0;36mconcat\u001B[1;34m(objs, axis, join, ignore_index, keys, levels, names, verify_integrity, sort, copy)\u001B[0m\n\u001B[0;32m    146\u001B[0m \u001B[38;5;129m@deprecate_nonkeyword_arguments\u001B[39m(version\u001B[38;5;241m=\u001B[39m\u001B[38;5;28;01mNone\u001B[39;00m, allowed_args\u001B[38;5;241m=\u001B[39m[\u001B[38;5;124m\"\u001B[39m\u001B[38;5;124mobjs\u001B[39m\u001B[38;5;124m\"\u001B[39m])\n\u001B[0;32m    147\u001B[0m \u001B[38;5;28;01mdef\u001B[39;00m \u001B[38;5;21mconcat\u001B[39m(\n\u001B[0;32m    148\u001B[0m     objs: Iterable[NDFrame] \u001B[38;5;241m|\u001B[39m Mapping[HashableT, NDFrame],\n\u001B[1;32m   (...)\u001B[0m\n\u001B[0;32m    157\u001B[0m     copy: \u001B[38;5;28mbool\u001B[39m \u001B[38;5;241m=\u001B[39m \u001B[38;5;28;01mTrue\u001B[39;00m,\n\u001B[0;32m    158\u001B[0m ) \u001B[38;5;241m-\u001B[39m\u001B[38;5;241m>\u001B[39m DataFrame \u001B[38;5;241m|\u001B[39m Series:\n\u001B[0;32m    159\u001B[0m     \u001B[38;5;124;03m\"\"\"\u001B[39;00m\n\u001B[0;32m    160\u001B[0m \u001B[38;5;124;03m    Concatenate pandas objects along a particular axis.\u001B[39;00m\n\u001B[0;32m    161\u001B[0m \n\u001B[1;32m   (...)\u001B[0m\n\u001B[0;32m    366\u001B[0m \u001B[38;5;124;03m    1   3   4\u001B[39;00m\n\u001B[0;32m    367\u001B[0m \u001B[38;5;124;03m    \"\"\"\u001B[39;00m\n\u001B[1;32m--> 368\u001B[0m     op \u001B[38;5;241m=\u001B[39m \u001B[43m_Concatenator\u001B[49m\u001B[43m(\u001B[49m\n\u001B[0;32m    369\u001B[0m \u001B[43m        \u001B[49m\u001B[43mobjs\u001B[49m\u001B[43m,\u001B[49m\n\u001B[0;32m    370\u001B[0m \u001B[43m        \u001B[49m\u001B[43maxis\u001B[49m\u001B[38;5;241;43m=\u001B[39;49m\u001B[43maxis\u001B[49m\u001B[43m,\u001B[49m\n\u001B[0;32m    371\u001B[0m \u001B[43m        \u001B[49m\u001B[43mignore_index\u001B[49m\u001B[38;5;241;43m=\u001B[39;49m\u001B[43mignore_index\u001B[49m\u001B[43m,\u001B[49m\n\u001B[0;32m    372\u001B[0m \u001B[43m        \u001B[49m\u001B[43mjoin\u001B[49m\u001B[38;5;241;43m=\u001B[39;49m\u001B[43mjoin\u001B[49m\u001B[43m,\u001B[49m\n\u001B[0;32m    373\u001B[0m \u001B[43m        \u001B[49m\u001B[43mkeys\u001B[49m\u001B[38;5;241;43m=\u001B[39;49m\u001B[43mkeys\u001B[49m\u001B[43m,\u001B[49m\n\u001B[0;32m    374\u001B[0m \u001B[43m        \u001B[49m\u001B[43mlevels\u001B[49m\u001B[38;5;241;43m=\u001B[39;49m\u001B[43mlevels\u001B[49m\u001B[43m,\u001B[49m\n\u001B[0;32m    375\u001B[0m \u001B[43m        \u001B[49m\u001B[43mnames\u001B[49m\u001B[38;5;241;43m=\u001B[39;49m\u001B[43mnames\u001B[49m\u001B[43m,\u001B[49m\n\u001B[0;32m    376\u001B[0m \u001B[43m        \u001B[49m\u001B[43mverify_integrity\u001B[49m\u001B[38;5;241;43m=\u001B[39;49m\u001B[43mverify_integrity\u001B[49m\u001B[43m,\u001B[49m\n\u001B[0;32m    377\u001B[0m \u001B[43m        \u001B[49m\u001B[43mcopy\u001B[49m\u001B[38;5;241;43m=\u001B[39;49m\u001B[43mcopy\u001B[49m\u001B[43m,\u001B[49m\n\u001B[0;32m    378\u001B[0m \u001B[43m        \u001B[49m\u001B[43msort\u001B[49m\u001B[38;5;241;43m=\u001B[39;49m\u001B[43msort\u001B[49m\u001B[43m,\u001B[49m\n\u001B[0;32m    379\u001B[0m \u001B[43m    \u001B[49m\u001B[43m)\u001B[49m\n\u001B[0;32m    381\u001B[0m     \u001B[38;5;28;01mreturn\u001B[39;00m op\u001B[38;5;241m.\u001B[39mget_result()\n",
      "File \u001B[1;32m~\\Desktop\\School Work\\COM 726\\venv\\lib\\site-packages\\pandas\\core\\reshape\\concat.py:425\u001B[0m, in \u001B[0;36m_Concatenator.__init__\u001B[1;34m(self, objs, axis, join, keys, levels, names, ignore_index, verify_integrity, copy, sort)\u001B[0m\n\u001B[0;32m    422\u001B[0m     objs \u001B[38;5;241m=\u001B[39m \u001B[38;5;28mlist\u001B[39m(objs)\n\u001B[0;32m    424\u001B[0m \u001B[38;5;28;01mif\u001B[39;00m \u001B[38;5;28mlen\u001B[39m(objs) \u001B[38;5;241m==\u001B[39m \u001B[38;5;241m0\u001B[39m:\n\u001B[1;32m--> 425\u001B[0m     \u001B[38;5;28;01mraise\u001B[39;00m \u001B[38;5;167;01mValueError\u001B[39;00m(\u001B[38;5;124m\"\u001B[39m\u001B[38;5;124mNo objects to concatenate\u001B[39m\u001B[38;5;124m\"\u001B[39m)\n\u001B[0;32m    427\u001B[0m \u001B[38;5;28;01mif\u001B[39;00m keys \u001B[38;5;129;01mis\u001B[39;00m \u001B[38;5;28;01mNone\u001B[39;00m:\n\u001B[0;32m    428\u001B[0m     objs \u001B[38;5;241m=\u001B[39m \u001B[38;5;28mlist\u001B[39m(com\u001B[38;5;241m.\u001B[39mnot_none(\u001B[38;5;241m*\u001B[39mobjs))\n",
      "\u001B[1;31mValueError\u001B[0m: No objects to concatenate"
     ]
    }
   ],
   "source": [
    "import os\n",
    "import pandas as pd\n",
    "import glob\n",
    "\n",
    "# merging the files\n",
    "joined_files = os.path.join(r\"\\Users\\USER\\OneDrive-Solent University\\School Work\\COM 726\\AE1\\Dataset\\Revolut\", \"exported_rev.csv\")\n",
    "\n",
    "# A list of all joined files is returned\n",
    "joined_list = glob.glob(joined_files)\n",
    "\n",
    "# Finally, the files are joined\n",
    "df_rev_merged = pd.concat(map(pd.read_csv, joined_list), ignore_index=True)\n",
    "df_rev_merged"
   ],
   "metadata": {
    "collapsed": false,
    "pycharm": {
     "name": "#%%\n"
    }
   }
  },
  {
   "cell_type": "code",
   "execution_count": 46,
   "outputs": [
    {
     "data": {
      "text/plain": "                               reviewId           userName  \\\n0  a7bef066-422a-4f2c-b8bd-64b74c03a877  Alberto Rodríguez   \n1  c22f189d-ac69-49e5-914e-de4d2f6ee7ad     Jonas Gonzalez   \n2  045bda3e-234f-4b26-9135-a2d6d7b61158            Julie T   \n3  9945b283-a27d-46d9-a05e-f1cb3f292abb     Muhammad Usman   \n4  33f741d6-bbfc-4485-a869-df469f5c2ed7         Billa Jatt   \n\n                                           userImage  \\\n0  https://play-lh.googleusercontent.com/a/ALm5wu...   \n1  https://play-lh.googleusercontent.com/a/ALm5wu...   \n2  https://play-lh.googleusercontent.com/a/ALm5wu...   \n3  https://play-lh.googleusercontent.com/a/ALm5wu...   \n4  https://play-lh.googleusercontent.com/a/ALm5wu...   \n\n                                             content  score  thumbsUpCount  \\\n0  It's good but some payments expire without pre...      3              0   \n1  Why you have some country who no one change is...      3              0   \n2                                        Easy to use      5              0   \n3                                 Very poory service      1              0   \n4                             This good working bank      5              0   \n\n  reviewCreatedVersion                   at  \\\n0               8.76.1  2022-11-21 13:53:05   \n1                 8.80  2022-11-21 13:51:52   \n2                 8.79  2022-11-21 13:37:19   \n3               8.80.1  2022-11-21 13:29:05   \n4                  NaN  2022-11-21 13:26:48   \n\n                                        replyContent            repliedAt  \n0  Hello! We're sorry that your experience with u...  2022-11-20 06:23:54  \n1  Hi there! We are currently supporting legal re...  2022-11-21 13:55:28  \n2                                                NaN                  NaN  \n3  Hi! Our agents are always trying to provide yo...  2022-11-21 13:48:19  \n4                                                NaN                  NaN  ",
      "text/html": "<div>\n<style scoped>\n    .dataframe tbody tr th:only-of-type {\n        vertical-align: middle;\n    }\n\n    .dataframe tbody tr th {\n        vertical-align: top;\n    }\n\n    .dataframe thead th {\n        text-align: right;\n    }\n</style>\n<table border=\"1\" class=\"dataframe\">\n  <thead>\n    <tr style=\"text-align: right;\">\n      <th></th>\n      <th>reviewId</th>\n      <th>userName</th>\n      <th>userImage</th>\n      <th>content</th>\n      <th>score</th>\n      <th>thumbsUpCount</th>\n      <th>reviewCreatedVersion</th>\n      <th>at</th>\n      <th>replyContent</th>\n      <th>repliedAt</th>\n    </tr>\n  </thead>\n  <tbody>\n    <tr>\n      <th>0</th>\n      <td>a7bef066-422a-4f2c-b8bd-64b74c03a877</td>\n      <td>Alberto Rodríguez</td>\n      <td>https://play-lh.googleusercontent.com/a/ALm5wu...</td>\n      <td>It's good but some payments expire without pre...</td>\n      <td>3</td>\n      <td>0</td>\n      <td>8.76.1</td>\n      <td>2022-11-21 13:53:05</td>\n      <td>Hello! We're sorry that your experience with u...</td>\n      <td>2022-11-20 06:23:54</td>\n    </tr>\n    <tr>\n      <th>1</th>\n      <td>c22f189d-ac69-49e5-914e-de4d2f6ee7ad</td>\n      <td>Jonas Gonzalez</td>\n      <td>https://play-lh.googleusercontent.com/a/ALm5wu...</td>\n      <td>Why you have some country who no one change is...</td>\n      <td>3</td>\n      <td>0</td>\n      <td>8.80</td>\n      <td>2022-11-21 13:51:52</td>\n      <td>Hi there! We are currently supporting legal re...</td>\n      <td>2022-11-21 13:55:28</td>\n    </tr>\n    <tr>\n      <th>2</th>\n      <td>045bda3e-234f-4b26-9135-a2d6d7b61158</td>\n      <td>Julie T</td>\n      <td>https://play-lh.googleusercontent.com/a/ALm5wu...</td>\n      <td>Easy to use</td>\n      <td>5</td>\n      <td>0</td>\n      <td>8.79</td>\n      <td>2022-11-21 13:37:19</td>\n      <td>NaN</td>\n      <td>NaN</td>\n    </tr>\n    <tr>\n      <th>3</th>\n      <td>9945b283-a27d-46d9-a05e-f1cb3f292abb</td>\n      <td>Muhammad Usman</td>\n      <td>https://play-lh.googleusercontent.com/a/ALm5wu...</td>\n      <td>Very poory service</td>\n      <td>1</td>\n      <td>0</td>\n      <td>8.80.1</td>\n      <td>2022-11-21 13:29:05</td>\n      <td>Hi! Our agents are always trying to provide yo...</td>\n      <td>2022-11-21 13:48:19</td>\n    </tr>\n    <tr>\n      <th>4</th>\n      <td>33f741d6-bbfc-4485-a869-df469f5c2ed7</td>\n      <td>Billa Jatt</td>\n      <td>https://play-lh.googleusercontent.com/a/ALm5wu...</td>\n      <td>This good working bank</td>\n      <td>5</td>\n      <td>0</td>\n      <td>NaN</td>\n      <td>2022-11-21 13:26:48</td>\n      <td>NaN</td>\n      <td>NaN</td>\n    </tr>\n  </tbody>\n</table>\n</div>"
     },
     "execution_count": 46,
     "metadata": {},
     "output_type": "execute_result"
    }
   ],
   "source": [
    "#printing 5 top rows from the data frame\n",
    "df_rev_merged.head(5)"
   ],
   "metadata": {
    "collapsed": false,
    "pycharm": {
     "name": "#%%\n"
    }
   }
  },
  {
   "cell_type": "code",
   "execution_count": 48,
   "outputs": [
    {
     "data": {
      "text/plain": "(169141, 10)"
     },
     "execution_count": 48,
     "metadata": {},
     "output_type": "execute_result"
    }
   ],
   "source": [
    "#printing shape of the dataframe\n",
    "df_rev_merged.shape"
   ],
   "metadata": {
    "collapsed": false,
    "pycharm": {
     "name": "#%%\n"
    }
   }
  },
  {
   "cell_type": "code",
   "execution_count": 49,
   "outputs": [],
   "source": [
    "# Drop missing data\n",
    "df_rev_merged.dropna(inplace=True)"
   ],
   "metadata": {
    "collapsed": false,
    "pycharm": {
     "name": "#%%\n"
    }
   }
  },
  {
   "cell_type": "code",
   "execution_count": 50,
   "outputs": [
    {
     "data": {
      "text/plain": "(5245, 10)"
     },
     "execution_count": 50,
     "metadata": {},
     "output_type": "execute_result"
    }
   ],
   "source": [
    "df_rev_merged.shape"
   ],
   "metadata": {
    "collapsed": false,
    "pycharm": {
     "name": "#%%\n"
    }
   }
  }
 ],
 "metadata": {
  "kernelspec": {
   "display_name": "Python 3",
   "language": "python",
   "name": "python3"
  },
  "language_info": {
   "codemirror_mode": {
    "name": "ipython",
    "version": 2
   },
   "file_extension": ".py",
   "mimetype": "text/x-python",
   "name": "python",
   "nbconvert_exporter": "python",
   "pygments_lexer": "ipython2",
   "version": "2.7.6"
  }
 },
 "nbformat": 4,
 "nbformat_minor": 0
}