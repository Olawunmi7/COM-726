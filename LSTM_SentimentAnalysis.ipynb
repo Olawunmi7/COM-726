{
 "cells": [
  {
   "cell_type": "code",
   "execution_count": 181,
   "outputs": [
    {
     "name": "stderr",
     "output_type": "stream",
     "text": [
      "[nltk_data] Downloading package wordnet to\n",
      "[nltk_data]     C:\\Users\\USER\\AppData\\Roaming\\nltk_data...\n",
      "[nltk_data]   Package wordnet is already up-to-date!\n"
     ]
    }
   ],
   "source": [
    "# Start by importing the necessary libraries\n",
    "import numpy as np\n",
    "import re\n",
    "import nltk\n",
    "import glob\n",
    "import re\n",
    "from nltk.stem import PorterStemmer\n",
    "from nltk.tokenize import PunktSentenceTokenizer\n",
    "from nltk.corpus import stopwords\n",
    "nltk.download('wordnet')\n",
    "from textblob import Word\n",
    "from sklearn.preprocessing import LabelEncoder\n",
    "from collections import Counter\n",
    "import wordcloud\n",
    "import os\n",
    "import numpy as np\n",
    "import pandas as pd\n",
    "import matplotlib.pyplot as plt\n",
    "#import keras_metrics\n",
    "from keras.layers import Dense, Embedding, LSTM, SpatialDropout1D\n",
    "from keras.models import Sequential\n",
    "from keras.models import load_model\n",
    "from keras import preprocessing\n",
    "from keras.preprocessing import sequence\n",
    "from collections import Counter\n",
    "import wordcloud\n",
    "import os\n",
    "from keras.utils import pad_sequences\n",
    "from keras.models import Sequential\n",
    "from keras.layers import Embedding, LSTM, Dense, SpatialDropout1D\n",
    "from sklearn.feature_extraction.text import CountVectorizer\n",
    "from keras.utils.np_utils import to_categorical\n",
    "from keras.preprocessing.text import Tokenizer\n",
    "from sklearn.model_selection import train_test_split\n",
    "from keras.utils.np_utils import to_categorical\n",
    "from keras.callbacks import EarlyStopping, ModelCheckpoint\n",
    "from sklearn.metrics import confusion_matrix\n",
    "from sklearn.metrics import precision_recall_fscore_support\n",
    "from sklearn.metrics import precision_score, recall_score, f1_score, accuracy_score\n",
    "from sklearn.metrics import confusion_matrix, classification_report"
   ],
   "metadata": {
    "collapsed": false,
    "pycharm": {
     "name": "#%%\n"
    }
   }
  },
  {
   "cell_type": "code",
   "execution_count": 182,
   "outputs": [
    {
     "data": {
      "text/plain": "                               reviewId           userName  \\\n0  129510a0-b042-45f4-9f0a-3c497014652d         Jose Teles   \n1  1616dc35-a879-43c6-bc7b-183388e4cde2          Manchu_uk   \n2  d5f8ad28-78ae-446f-85d1-f6c1a2d1f0ef  Patient Onyealusi   \n3  e219a36b-cad0-4eed-bce3-6687587d0efc     mutungi marvin   \n4  ad2dd2fd-67fc-4423-bf94-15a2f98cff86       M Absar Asif   \n\n                                           userImage  \\\n0  https://play-lh.googleusercontent.com/a/AEdFTp...   \n1  https://play-lh.googleusercontent.com/a/AEdFTp...   \n2  https://play-lh.googleusercontent.com/a/AEdFTp...   \n3  https://play-lh.googleusercontent.com/a-/AD5-W...   \n4  https://play-lh.googleusercontent.com/a-/AD5-W...   \n\n                                             content  score  thumbsUpCount  \\\n0  The only problem is when you cash out ,cash ma...      3              0   \n1  It takes age's to receive card's, i have appli...      1              0   \n2                  I've not gotten my Account Number      3              0   \n3  I was denied an account with no explanation wh...      1              0   \n4  Not a good experience with the app. And also t...      1              0   \n\n  reviewCreatedVersion                   at  \\\n0                5.5.0  2022-12-23 21:09:04   \n1                5.4.0  2022-12-23 20:43:21   \n2                5.5.0  2022-12-23 17:10:06   \n3                5.5.0  2022-12-23 07:20:05   \n4                  NaN  2022-12-23 06:52:20   \n\n                                        replyContent            repliedAt  \n0  Hey Jose 👋 Thanks for taking the time to leave...  2022-12-24 10:04:55  \n1  Hi there 👋 Thanks for taking the time to post ...  2022-12-18 08:23:53  \n2  Hey there 👋 Thanks for your review! Sorry for ...  2022-12-24 09:48:35  \n3  Hi there 👋 We're sorry to hear that 😔 We'll as...  2022-12-23 07:24:34  \n4  Hi there 👋 Thanks for your feedback - we're so...  2022-12-23 06:57:57  ",
      "text/html": "<div>\n<style scoped>\n    .dataframe tbody tr th:only-of-type {\n        vertical-align: middle;\n    }\n\n    .dataframe tbody tr th {\n        vertical-align: top;\n    }\n\n    .dataframe thead th {\n        text-align: right;\n    }\n</style>\n<table border=\"1\" class=\"dataframe\">\n  <thead>\n    <tr style=\"text-align: right;\">\n      <th></th>\n      <th>reviewId</th>\n      <th>userName</th>\n      <th>userImage</th>\n      <th>content</th>\n      <th>score</th>\n      <th>thumbsUpCount</th>\n      <th>reviewCreatedVersion</th>\n      <th>at</th>\n      <th>replyContent</th>\n      <th>repliedAt</th>\n    </tr>\n  </thead>\n  <tbody>\n    <tr>\n      <th>0</th>\n      <td>129510a0-b042-45f4-9f0a-3c497014652d</td>\n      <td>Jose Teles</td>\n      <td>https://play-lh.googleusercontent.com/a/AEdFTp...</td>\n      <td>The only problem is when you cash out ,cash ma...</td>\n      <td>3</td>\n      <td>0</td>\n      <td>5.5.0</td>\n      <td>2022-12-23 21:09:04</td>\n      <td>Hey Jose 👋 Thanks for taking the time to leave...</td>\n      <td>2022-12-24 10:04:55</td>\n    </tr>\n    <tr>\n      <th>1</th>\n      <td>1616dc35-a879-43c6-bc7b-183388e4cde2</td>\n      <td>Manchu_uk</td>\n      <td>https://play-lh.googleusercontent.com/a/AEdFTp...</td>\n      <td>It takes age's to receive card's, i have appli...</td>\n      <td>1</td>\n      <td>0</td>\n      <td>5.4.0</td>\n      <td>2022-12-23 20:43:21</td>\n      <td>Hi there 👋 Thanks for taking the time to post ...</td>\n      <td>2022-12-18 08:23:53</td>\n    </tr>\n    <tr>\n      <th>2</th>\n      <td>d5f8ad28-78ae-446f-85d1-f6c1a2d1f0ef</td>\n      <td>Patient Onyealusi</td>\n      <td>https://play-lh.googleusercontent.com/a/AEdFTp...</td>\n      <td>I've not gotten my Account Number</td>\n      <td>3</td>\n      <td>0</td>\n      <td>5.5.0</td>\n      <td>2022-12-23 17:10:06</td>\n      <td>Hey there 👋 Thanks for your review! Sorry for ...</td>\n      <td>2022-12-24 09:48:35</td>\n    </tr>\n    <tr>\n      <th>3</th>\n      <td>e219a36b-cad0-4eed-bce3-6687587d0efc</td>\n      <td>mutungi marvin</td>\n      <td>https://play-lh.googleusercontent.com/a-/AD5-W...</td>\n      <td>I was denied an account with no explanation wh...</td>\n      <td>1</td>\n      <td>0</td>\n      <td>5.5.0</td>\n      <td>2022-12-23 07:20:05</td>\n      <td>Hi there 👋 We're sorry to hear that 😔 We'll as...</td>\n      <td>2022-12-23 07:24:34</td>\n    </tr>\n    <tr>\n      <th>4</th>\n      <td>ad2dd2fd-67fc-4423-bf94-15a2f98cff86</td>\n      <td>M Absar Asif</td>\n      <td>https://play-lh.googleusercontent.com/a-/AD5-W...</td>\n      <td>Not a good experience with the app. And also t...</td>\n      <td>1</td>\n      <td>0</td>\n      <td>NaN</td>\n      <td>2022-12-23 06:52:20</td>\n      <td>Hi there 👋 Thanks for your feedback - we're so...</td>\n      <td>2022-12-23 06:57:57</td>\n    </tr>\n  </tbody>\n</table>\n</div>"
     },
     "execution_count": 182,
     "metadata": {},
     "output_type": "execute_result"
    }
   ],
   "source": [
    "# Load the dataset of app reviews\n",
    "df = pd.read_csv('Monzo.csv')\n",
    "df.head(5)"
   ],
   "metadata": {
    "collapsed": false,
    "pycharm": {
     "name": "#%%\n"
    }
   }
  },
  {
   "cell_type": "code",
   "execution_count": 183,
   "outputs": [
    {
     "data": {
      "text/plain": "(15031, 10)"
     },
     "execution_count": 183,
     "metadata": {},
     "output_type": "execute_result"
    }
   ],
   "source": [
    "#Checking for the shape of the dataset\n",
    "df.shape"
   ],
   "metadata": {
    "collapsed": false,
    "pycharm": {
     "name": "#%%\n"
    }
   }
  },
  {
   "cell_type": "code",
   "execution_count": 184,
   "outputs": [],
   "source": [
    "#Removing duplicates from the dataset\n",
    "df.drop_duplicates(\"content\", inplace=True)"
   ],
   "metadata": {
    "collapsed": false,
    "pycharm": {
     "name": "#%%\n"
    }
   }
  },
  {
   "cell_type": "code",
   "execution_count": 185,
   "outputs": [
    {
     "data": {
      "text/plain": "(12864, 10)"
     },
     "execution_count": 185,
     "metadata": {},
     "output_type": "execute_result"
    }
   ],
   "source": [
    "#Checking for the shape of the dataset after removing duplicates\n",
    "df.shape"
   ],
   "metadata": {
    "collapsed": false,
    "pycharm": {
     "name": "#%%\n"
    }
   }
  },
  {
   "cell_type": "code",
   "execution_count": 186,
   "outputs": [
    {
     "data": {
      "text/plain": "reviewId                    0\nuserName                    0\nuserImage                   0\ncontent                     1\nscore                       0\nthumbsUpCount               0\nreviewCreatedVersion     1393\nat                          0\nreplyContent            10636\nrepliedAt               10636\ndtype: int64"
     },
     "execution_count": 186,
     "metadata": {},
     "output_type": "execute_result"
    }
   ],
   "source": [
    "#Checking for null values\n",
    "df.isnull().sum()"
   ],
   "metadata": {
    "collapsed": false,
    "pycharm": {
     "name": "#%%\n"
    }
   }
  },
  {
   "cell_type": "code",
   "execution_count": 187,
   "outputs": [
    {
     "data": {
      "text/plain": "                                                 content  score\n0      The only problem is when you cash out ,cash ma...      3\n1      It takes age's to receive card's, i have appli...      1\n2                      I've not gotten my Account Number      3\n3      I was denied an account with no explanation wh...      1\n4      Not a good experience with the app. And also t...      1\n...                                                  ...    ...\n15026  It's a waiting list. Wow! Absolutely pointless...      1\n15027  Pretty disappointed to go from an email saying...      2\n15028  On the waiting list. Looking forward to all th...      5\n15029  Mondo for Android - can't wait.  The iOS app i...      5\n15030  It is just the waiting list for now but it is ...      5\n\n[12864 rows x 2 columns]",
      "text/html": "<div>\n<style scoped>\n    .dataframe tbody tr th:only-of-type {\n        vertical-align: middle;\n    }\n\n    .dataframe tbody tr th {\n        vertical-align: top;\n    }\n\n    .dataframe thead th {\n        text-align: right;\n    }\n</style>\n<table border=\"1\" class=\"dataframe\">\n  <thead>\n    <tr style=\"text-align: right;\">\n      <th></th>\n      <th>content</th>\n      <th>score</th>\n    </tr>\n  </thead>\n  <tbody>\n    <tr>\n      <th>0</th>\n      <td>The only problem is when you cash out ,cash ma...</td>\n      <td>3</td>\n    </tr>\n    <tr>\n      <th>1</th>\n      <td>It takes age's to receive card's, i have appli...</td>\n      <td>1</td>\n    </tr>\n    <tr>\n      <th>2</th>\n      <td>I've not gotten my Account Number</td>\n      <td>3</td>\n    </tr>\n    <tr>\n      <th>3</th>\n      <td>I was denied an account with no explanation wh...</td>\n      <td>1</td>\n    </tr>\n    <tr>\n      <th>4</th>\n      <td>Not a good experience with the app. And also t...</td>\n      <td>1</td>\n    </tr>\n    <tr>\n      <th>...</th>\n      <td>...</td>\n      <td>...</td>\n    </tr>\n    <tr>\n      <th>15026</th>\n      <td>It's a waiting list. Wow! Absolutely pointless...</td>\n      <td>1</td>\n    </tr>\n    <tr>\n      <th>15027</th>\n      <td>Pretty disappointed to go from an email saying...</td>\n      <td>2</td>\n    </tr>\n    <tr>\n      <th>15028</th>\n      <td>On the waiting list. Looking forward to all th...</td>\n      <td>5</td>\n    </tr>\n    <tr>\n      <th>15029</th>\n      <td>Mondo for Android - can't wait.  The iOS app i...</td>\n      <td>5</td>\n    </tr>\n    <tr>\n      <th>15030</th>\n      <td>It is just the waiting list for now but it is ...</td>\n      <td>5</td>\n    </tr>\n  </tbody>\n</table>\n<p>12864 rows × 2 columns</p>\n</div>"
     },
     "execution_count": 187,
     "metadata": {},
     "output_type": "execute_result"
    }
   ],
   "source": [
    "#Creating new dataset for only content and score\n",
    "topic_df = df[['content', 'score']]\n",
    "topic_df"
   ],
   "metadata": {
    "collapsed": false,
    "pycharm": {
     "name": "#%%\n"
    }
   }
  },
  {
   "cell_type": "code",
   "execution_count": 188,
   "outputs": [
    {
     "data": {
      "text/plain": "(12864, 2)"
     },
     "execution_count": 188,
     "metadata": {},
     "output_type": "execute_result"
    }
   ],
   "source": [
    "#Checking for the shape of the new dataset\n",
    "topic_df.shape"
   ],
   "metadata": {
    "collapsed": false,
    "pycharm": {
     "name": "#%%\n"
    }
   }
  },
  {
   "cell_type": "code",
   "execution_count": 189,
   "outputs": [
    {
     "data": {
      "text/plain": "     content  score\n4662     NaN      5",
      "text/html": "<div>\n<style scoped>\n    .dataframe tbody tr th:only-of-type {\n        vertical-align: middle;\n    }\n\n    .dataframe tbody tr th {\n        vertical-align: top;\n    }\n\n    .dataframe thead th {\n        text-align: right;\n    }\n</style>\n<table border=\"1\" class=\"dataframe\">\n  <thead>\n    <tr style=\"text-align: right;\">\n      <th></th>\n      <th>content</th>\n      <th>score</th>\n    </tr>\n  </thead>\n  <tbody>\n    <tr>\n      <th>4662</th>\n      <td>NaN</td>\n      <td>5</td>\n    </tr>\n  </tbody>\n</table>\n</div>"
     },
     "execution_count": 189,
     "metadata": {},
     "output_type": "execute_result"
    }
   ],
   "source": [
    "#Checking for null values from the new dataset\n",
    "check_nan = topic_df[topic_df.isna().any(axis=1)]\n",
    "check_nan"
   ],
   "metadata": {
    "collapsed": false,
    "pycharm": {
     "name": "#%%\n"
    }
   }
  },
  {
   "cell_type": "code",
   "execution_count": 190,
   "outputs": [],
   "source": [
    "#Dropping null values from the new dataset\n",
    "topic_df = topic_df.dropna()"
   ],
   "metadata": {
    "collapsed": false,
    "pycharm": {
     "name": "#%%\n"
    }
   }
  },
  {
   "cell_type": "code",
   "execution_count": 191,
   "outputs": [
    {
     "data": {
      "text/plain": "(12863, 2)"
     },
     "execution_count": 191,
     "metadata": {},
     "output_type": "execute_result"
    }
   ],
   "source": [
    "#Checking the shape of the dataset after dropping the null values\n",
    "topic_df.shape"
   ],
   "metadata": {
    "collapsed": false,
    "pycharm": {
     "name": "#%%\n"
    }
   }
  },
  {
   "cell_type": "code",
   "execution_count": 192,
   "outputs": [
    {
     "name": "stdout",
     "output_type": "stream",
     "text": [
      "<class 'pandas.core.frame.DataFrame'>\n",
      "Int64Index: 12863 entries, 0 to 15030\n",
      "Data columns (total 2 columns):\n",
      " #   Column   Non-Null Count  Dtype \n",
      "---  ------   --------------  ----- \n",
      " 0   content  12863 non-null  object\n",
      " 1   score    12863 non-null  int64 \n",
      "dtypes: int64(1), object(1)\n",
      "memory usage: 301.5+ KB\n"
     ]
    }
   ],
   "source": [
    "#Checkign the infor of the dataset\n",
    "topic_df.info()"
   ],
   "metadata": {
    "collapsed": false,
    "pycharm": {
     "name": "#%%\n"
    }
   }
  },
  {
   "cell_type": "code",
   "execution_count": 193,
   "outputs": [
    {
     "name": "stderr",
     "output_type": "stream",
     "text": [
      "C:\\Users\\USER\\AppData\\Local\\Temp\\ipykernel_18096\\1701722460.py:3: SettingWithCopyWarning: \n",
      "A value is trying to be set on a copy of a slice from a DataFrame.\n",
      "Try using .loc[row_indexer,col_indexer] = value instead\n",
      "\n",
      "See the caveats in the documentation: https://pandas.pydata.org/pandas-docs/stable/user_guide/indexing.html#returning-a-view-versus-a-copy\n",
      "  topic_df['sentiment'] = topic_df['score'].apply(sentiment)\n"
     ]
    }
   ],
   "source": [
    "#Creating a new column called sentiment by using the review rating score\n",
    "def sentiment(n):return 1 if n >= 3 else 0\n",
    "topic_df['sentiment'] = topic_df['score'].apply(sentiment)"
   ],
   "metadata": {
    "collapsed": false,
    "pycharm": {
     "name": "#%%\n"
    }
   }
  },
  {
   "cell_type": "code",
   "execution_count": 194,
   "outputs": [
    {
     "data": {
      "text/plain": "                                             content  score  sentiment\n0  The only problem is when you cash out ,cash ma...      3          1\n1  It takes age's to receive card's, i have appli...      1          0\n2                  I've not gotten my Account Number      3          1\n3  I was denied an account with no explanation wh...      1          0\n4  Not a good experience with the app. And also t...      1          0",
      "text/html": "<div>\n<style scoped>\n    .dataframe tbody tr th:only-of-type {\n        vertical-align: middle;\n    }\n\n    .dataframe tbody tr th {\n        vertical-align: top;\n    }\n\n    .dataframe thead th {\n        text-align: right;\n    }\n</style>\n<table border=\"1\" class=\"dataframe\">\n  <thead>\n    <tr style=\"text-align: right;\">\n      <th></th>\n      <th>content</th>\n      <th>score</th>\n      <th>sentiment</th>\n    </tr>\n  </thead>\n  <tbody>\n    <tr>\n      <th>0</th>\n      <td>The only problem is when you cash out ,cash ma...</td>\n      <td>3</td>\n      <td>1</td>\n    </tr>\n    <tr>\n      <th>1</th>\n      <td>It takes age's to receive card's, i have appli...</td>\n      <td>1</td>\n      <td>0</td>\n    </tr>\n    <tr>\n      <th>2</th>\n      <td>I've not gotten my Account Number</td>\n      <td>3</td>\n      <td>1</td>\n    </tr>\n    <tr>\n      <th>3</th>\n      <td>I was denied an account with no explanation wh...</td>\n      <td>1</td>\n      <td>0</td>\n    </tr>\n    <tr>\n      <th>4</th>\n      <td>Not a good experience with the app. And also t...</td>\n      <td>1</td>\n      <td>0</td>\n    </tr>\n  </tbody>\n</table>\n</div>"
     },
     "execution_count": 194,
     "metadata": {},
     "output_type": "execute_result"
    }
   ],
   "source": [
    "#Printing from the new dataframe\n",
    "topic_df.head(5)"
   ],
   "metadata": {
    "collapsed": false,
    "pycharm": {
     "name": "#%%\n"
    }
   }
  },
  {
   "cell_type": "code",
   "execution_count": 195,
   "outputs": [
    {
     "name": "stderr",
     "output_type": "stream",
     "text": [
      "C:\\Users\\USER\\AppData\\Local\\Temp\\ipykernel_18096\\1540386533.py:4: SettingWithCopyWarning: \n",
      "A value is trying to be set on a copy of a slice from a DataFrame.\n",
      "Try using .loc[row_indexer,col_indexer] = value instead\n",
      "\n",
      "See the caveats in the documentation: https://pandas.pydata.org/pandas-docs/stable/user_guide/indexing.html#returning-a-view-versus-a-copy\n",
      "  df['processed_text'] = ''\n"
     ]
    },
    {
     "data": {
      "text/plain": "                                                 content  score  sentiment  \\\n0      The only problem is when you cash out ,cash ma...      3          1   \n1      It takes age's to receive card's, i have appli...      1          0   \n2                      I've not gotten my Account Number      3          1   \n3      I was denied an account with no explanation wh...      1          0   \n4      Not a good experience with the app. And also t...      1          0   \n...                                                  ...    ...        ...   \n15026  It's a waiting list. Wow! Absolutely pointless...      1          0   \n15027  Pretty disappointed to go from an email saying...      2          0   \n15028  On the waiting list. Looking forward to all th...      5          1   \n15029  Mondo for Android - can't wait.  The iOS app i...      5          1   \n15030  It is just the waiting list for now but it is ...      5          1   \n\n                                          processed_text  \n0      the only problem is when you cash out cash mac...  \n1      it takes ages to receive cards i have applied ...  \n2                         ive not gotten my account numb  \n3      i was denied an account with no explanation wh...  \n4      not a good experience with the app and also th...  \n...                                                  ...  \n15026  its a waiting list wow absolutely pointless at...  \n15027  pretty disappointed to go from an email saying...  \n15028  on the waiting list looking forward to all the...  \n15029  mondo for android  cant wait the ios app is fa...  \n15030  it is just the waiting list for now but it is ...  \n\n[12863 rows x 4 columns]",
      "text/html": "<div>\n<style scoped>\n    .dataframe tbody tr th:only-of-type {\n        vertical-align: middle;\n    }\n\n    .dataframe tbody tr th {\n        vertical-align: top;\n    }\n\n    .dataframe thead th {\n        text-align: right;\n    }\n</style>\n<table border=\"1\" class=\"dataframe\">\n  <thead>\n    <tr style=\"text-align: right;\">\n      <th></th>\n      <th>content</th>\n      <th>score</th>\n      <th>sentiment</th>\n      <th>processed_text</th>\n    </tr>\n  </thead>\n  <tbody>\n    <tr>\n      <th>0</th>\n      <td>The only problem is when you cash out ,cash ma...</td>\n      <td>3</td>\n      <td>1</td>\n      <td>the only problem is when you cash out cash mac...</td>\n    </tr>\n    <tr>\n      <th>1</th>\n      <td>It takes age's to receive card's, i have appli...</td>\n      <td>1</td>\n      <td>0</td>\n      <td>it takes ages to receive cards i have applied ...</td>\n    </tr>\n    <tr>\n      <th>2</th>\n      <td>I've not gotten my Account Number</td>\n      <td>3</td>\n      <td>1</td>\n      <td>ive not gotten my account numb</td>\n    </tr>\n    <tr>\n      <th>3</th>\n      <td>I was denied an account with no explanation wh...</td>\n      <td>1</td>\n      <td>0</td>\n      <td>i was denied an account with no explanation wh...</td>\n    </tr>\n    <tr>\n      <th>4</th>\n      <td>Not a good experience with the app. And also t...</td>\n      <td>1</td>\n      <td>0</td>\n      <td>not a good experience with the app and also th...</td>\n    </tr>\n    <tr>\n      <th>...</th>\n      <td>...</td>\n      <td>...</td>\n      <td>...</td>\n      <td>...</td>\n    </tr>\n    <tr>\n      <th>15026</th>\n      <td>It's a waiting list. Wow! Absolutely pointless...</td>\n      <td>1</td>\n      <td>0</td>\n      <td>its a waiting list wow absolutely pointless at...</td>\n    </tr>\n    <tr>\n      <th>15027</th>\n      <td>Pretty disappointed to go from an email saying...</td>\n      <td>2</td>\n      <td>0</td>\n      <td>pretty disappointed to go from an email saying...</td>\n    </tr>\n    <tr>\n      <th>15028</th>\n      <td>On the waiting list. Looking forward to all th...</td>\n      <td>5</td>\n      <td>1</td>\n      <td>on the waiting list looking forward to all the...</td>\n    </tr>\n    <tr>\n      <th>15029</th>\n      <td>Mondo for Android - can't wait.  The iOS app i...</td>\n      <td>5</td>\n      <td>1</td>\n      <td>mondo for android  cant wait the ios app is fa...</td>\n    </tr>\n    <tr>\n      <th>15030</th>\n      <td>It is just the waiting list for now but it is ...</td>\n      <td>5</td>\n      <td>1</td>\n      <td>it is just the waiting list for now but it is ...</td>\n    </tr>\n  </tbody>\n</table>\n<p>12863 rows × 4 columns</p>\n</div>"
     },
     "execution_count": 195,
     "metadata": {},
     "output_type": "execute_result"
    }
   ],
   "source": [
    "#Tokenizing, removing stop words, lemmatizing\n",
    "def preprocess_df(df):\n",
    "    # Create a new column to store the processed text\n",
    "    df['processed_text'] = ''\n",
    "\n",
    "    # Create a tokenizer and stemmer\n",
    "    tokenizer = PunktSentenceTokenizer()\n",
    "    stemmer = PorterStemmer()\n",
    "    lemmatizer = nltk.WordNetLemmatizer()\n",
    "\n",
    "    # Get a list of English stop words\n",
    "    stop_words = set(stopwords.words('english'))\n",
    "\n",
    "    # Iterate over the rows of the DataFrame\n",
    "    for index, row in df.iterrows():\n",
    "        # Tokenize the text\n",
    "        tokens = tokenizer.tokenize(row['content'])\n",
    "\n",
    "        # Lowercase the text\n",
    "        tokens = [token.lower() for token in tokens]\n",
    "\n",
    "        # Remove punctuation\n",
    "        tokens = [re.sub(r'[^\\w\\s]', '', token) for token in tokens]\n",
    "\n",
    "        # Remove stop words\n",
    "        tokens = [token for token in tokens if token not in stop_words]\n",
    "\n",
    "        # Stem the tokens\n",
    "        tokens = [stemmer.stem(token) for token in tokens]\n",
    "\n",
    "        # Lemmatize the tokens\n",
    "        tokens = [lemmatizer.lemmatize(token) for token in tokens]\n",
    "\n",
    "        # Join the tokens back into a single string\n",
    "        processed_text = ' '.join(tokens)\n",
    "\n",
    "        # Update the 'processed_text' column for the current row\n",
    "        df.at[index, 'processed_text'] = processed_text\n",
    "\n",
    "    return df\n",
    "\n",
    "df_clean = preprocess_df(topic_df)\n",
    "df_clean\n"
   ],
   "metadata": {
    "collapsed": false,
    "pycharm": {
     "name": "#%%\n"
    }
   }
  },
  {
   "cell_type": "code",
   "execution_count": 196,
   "outputs": [],
   "source": [
    "# Extracting the text of the reviews and the corresponding ratings\n",
    "texts = df_clean['processed_text'].values\n",
    "labels = df_clean['sentiment'].values"
   ],
   "metadata": {
    "collapsed": false,
    "pycharm": {
     "name": "#%%\n"
    }
   }
  },
  {
   "cell_type": "code",
   "execution_count": 197,
   "outputs": [
    {
     "data": {
      "text/plain": "array(['the only problem is when you cash out cash machine charge you a fe',\n       'it takes ages to receive cards i have applied 10 dats ago and they said i will receive on 23 days im not going to use monzo even if the send me card edit its been 16 days and not yet received i applied for another bank like last week ago they sent me everything and even internet banking is access',\n       'ive not gotten my account numb', ...,\n       'on the waiting list looking forward to all the new features to com',\n       'mondo for android  cant wait the ios app is fantast if android is only half as good would be great',\n       'it is just the waiting list for now but it is a first step i cant wait to get my mondo account'],\n      dtype=object)"
     },
     "execution_count": 197,
     "metadata": {},
     "output_type": "execute_result"
    }
   ],
   "source": [
    "#Dipslaying the content\n",
    "texts"
   ],
   "metadata": {
    "collapsed": false,
    "pycharm": {
     "name": "#%%\n"
    }
   }
  },
  {
   "cell_type": "code",
   "execution_count": 198,
   "outputs": [
    {
     "data": {
      "text/plain": "array([1, 0, 1, ..., 1, 1, 1], dtype=int64)"
     },
     "execution_count": 198,
     "metadata": {},
     "output_type": "execute_result"
    }
   ],
   "source": [
    "#Dipslaying the labels\n",
    "labels"
   ],
   "metadata": {
    "collapsed": false,
    "pycharm": {
     "name": "#%%\n"
    }
   }
  },
  {
   "cell_type": "code",
   "execution_count": 199,
   "outputs": [],
   "source": [
    "# Tokenize the texts\n",
    "max_words = 10000\n",
    "tokenizer = Tokenizer(num_words=max_words)\n",
    "tokenizer.fit_on_texts(texts)\n",
    "sequences = tokenizer.texts_to_sequences(texts)"
   ],
   "metadata": {
    "collapsed": false,
    "pycharm": {
     "name": "#%%\n"
    }
   }
  },
  {
   "cell_type": "code",
   "execution_count": 200,
   "outputs": [
    {
     "name": "stdout",
     "output_type": "stream",
     "text": [
      "Found 10753 unique tokens.\n"
     ]
    }
   ],
   "source": [
    "# Get the word index\n",
    "word_index = tokenizer.word_index\n",
    "print('Found %s unique tokens.' % len(word_index))"
   ],
   "metadata": {
    "collapsed": false,
    "pycharm": {
     "name": "#%%\n"
    }
   }
  },
  {
   "cell_type": "code",
   "execution_count": 201,
   "outputs": [],
   "source": [
    "# Pad the sequences to the same length\n",
    "max_length = 150\n",
    "padded_sequences = pad_sequences(sequences, maxlen=max_length)"
   ],
   "metadata": {
    "collapsed": false,
    "pycharm": {
     "name": "#%%\n"
    }
   }
  },
  {
   "cell_type": "code",
   "execution_count": 202,
   "outputs": [],
   "source": [
    "# Split the data into train and test sets\n",
    "test_size = 0.2\n",
    "random_state = 42\n",
    "X_train, X_test, y_train, y_test = train_test_split(padded_sequences, labels, test_size=test_size, random_state=random_state)"
   ],
   "metadata": {
    "collapsed": false,
    "pycharm": {
     "name": "#%%\n"
    }
   }
  },
  {
   "cell_type": "code",
   "execution_count": 203,
   "outputs": [],
   "source": [
    "# Build the model\n",
    "model = Sequential()\n",
    "model.add(Embedding(max_words, 50, input_length=max_length))\n",
    "model.add(LSTM(64, dropout=0.2, recurrent_dropout=0.2))\n",
    "model.add(Dense(1, activation='sigmoid'))\n",
    "model.compile(loss='binary_crossentropy', optimizer='adam', metrics=['accuracy'])"
   ],
   "metadata": {
    "collapsed": false,
    "pycharm": {
     "name": "#%%\n"
    }
   }
  },
  {
   "cell_type": "code",
   "execution_count": 204,
   "outputs": [
    {
     "name": "stdout",
     "output_type": "stream",
     "text": [
      "Model: \"sequential_6\"\n",
      "_________________________________________________________________\n",
      " Layer (type)                Output Shape              Param #   \n",
      "=================================================================\n",
      " embedding_6 (Embedding)     (None, 150, 50)           500000    \n",
      "                                                                 \n",
      " lstm_6 (LSTM)               (None, 64)                29440     \n",
      "                                                                 \n",
      " dense_6 (Dense)             (None, 1)                 65        \n",
      "                                                                 \n",
      "=================================================================\n",
      "Total params: 529,505\n",
      "Trainable params: 529,505\n",
      "Non-trainable params: 0\n",
      "_________________________________________________________________\n"
     ]
    }
   ],
   "source": [
    "# model summary\n",
    "model.summary()"
   ],
   "metadata": {
    "collapsed": false,
    "pycharm": {
     "name": "#%%\n"
    }
   }
  },
  {
   "cell_type": "code",
   "execution_count": 205,
   "outputs": [
    {
     "name": "stdout",
     "output_type": "stream",
     "text": [
      "Epoch 1/5\n",
      "322/322 [==============================] - 109s 309ms/step - loss: 0.3431 - accuracy: 0.8474 - val_loss: 0.2294 - val_accuracy: 0.9098\n",
      "Epoch 2/5\n",
      "322/322 [==============================] - 138s 429ms/step - loss: 0.1773 - accuracy: 0.9330 - val_loss: 0.2373 - val_accuracy: 0.9075\n",
      "Epoch 3/5\n",
      "322/322 [==============================] - 155s 482ms/step - loss: 0.1289 - accuracy: 0.9540 - val_loss: 0.2459 - val_accuracy: 0.9087\n",
      "Epoch 4/5\n",
      "322/322 [==============================] - 128s 398ms/step - loss: 0.1008 - accuracy: 0.9659 - val_loss: 0.2757 - val_accuracy: 0.9106\n",
      "Epoch 5/5\n",
      "322/322 [==============================] - 116s 359ms/step - loss: 0.0855 - accuracy: 0.9711 - val_loss: 0.3106 - val_accuracy: 0.9036\n"
     ]
    },
    {
     "data": {
      "text/plain": "<keras.callbacks.History at 0x17122407100>"
     },
     "execution_count": 205,
     "metadata": {},
     "output_type": "execute_result"
    }
   ],
   "source": [
    "# Train the model\n",
    "model.fit(X_train, y_train, validation_data=(X_test, y_test), epochs=5, batch_size=32)"
   ],
   "metadata": {
    "collapsed": false,
    "pycharm": {
     "name": "#%%\n"
    }
   }
  },
  {
   "cell_type": "code",
   "execution_count": 206,
   "outputs": [
    {
     "name": "stdout",
     "output_type": "stream",
     "text": [
      "81/81 [==============================] - 9s 75ms/step\n"
     ]
    }
   ],
   "source": [
    "predictions = model.predict(X_test)"
   ],
   "metadata": {
    "collapsed": false,
    "pycharm": {
     "name": "#%%\n"
    }
   }
  },
  {
   "cell_type": "code",
   "execution_count": 207,
   "outputs": [],
   "source": [
    "# Convert the predictions to a binary classification (positive or negative)\n",
    "predictions = (predictions > 0.5).astype(int)"
   ],
   "metadata": {
    "collapsed": false,
    "pycharm": {
     "name": "#%%\n"
    }
   }
  },
  {
   "cell_type": "code",
   "execution_count": 208,
   "outputs": [
    {
     "name": "stdout",
     "output_type": "stream",
     "text": [
      "[[ 548  117]\n",
      " [ 131 1777]]\n"
     ]
    }
   ],
   "source": [
    "# Print the confusion matrix\n",
    "print(confusion_matrix(y_test, predictions))"
   ],
   "metadata": {
    "collapsed": false,
    "pycharm": {
     "name": "#%%\n"
    }
   }
  },
  {
   "cell_type": "code",
   "execution_count": 209,
   "outputs": [
    {
     "name": "stdout",
     "output_type": "stream",
     "text": [
      "Accuracy: 0.904\n"
     ]
    }
   ],
   "source": [
    "#Getting the Accuracy score\n",
    "print('Accuracy: %.3f' % accuracy_score(y_test, predictions))"
   ],
   "metadata": {
    "collapsed": false,
    "pycharm": {
     "name": "#%%\n"
    }
   }
  },
  {
   "cell_type": "code",
   "execution_count": 210,
   "outputs": [
    {
     "name": "stdout",
     "output_type": "stream",
     "text": [
      "F1 score: 0.934771\n"
     ]
    }
   ],
   "source": [
    "#Getting the F1 score\n",
    "print('F1 score: %f'  % f1_score(y_test,predictions))"
   ],
   "metadata": {
    "collapsed": false,
    "pycharm": {
     "name": "#%%\n"
    }
   }
  },
  {
   "cell_type": "code",
   "execution_count": 211,
   "outputs": [
    {
     "name": "stdout",
     "output_type": "stream",
     "text": [
      "              precision    recall  f1-score   support\n",
      "\n",
      "           0       0.81      0.82      0.82       665\n",
      "           1       0.94      0.93      0.93      1908\n",
      "\n",
      "    accuracy                           0.90      2573\n",
      "   macro avg       0.87      0.88      0.88      2573\n",
      "weighted avg       0.90      0.90      0.90      2573\n",
      "\n"
     ]
    }
   ],
   "source": [
    "# Print the classification report\n",
    "print(classification_report(y_test, predictions))"
   ],
   "metadata": {
    "collapsed": false,
    "pycharm": {
     "name": "#%%\n"
    }
   }
  }
 ],
 "metadata": {
  "kernelspec": {
   "display_name": "Python 3",
   "language": "python",
   "name": "python3"
  },
  "language_info": {
   "codemirror_mode": {
    "name": "ipython",
    "version": 2
   },
   "file_extension": ".py",
   "mimetype": "text/x-python",
   "name": "python",
   "nbconvert_exporter": "python",
   "pygments_lexer": "ipython2",
   "version": "2.7.6"
  }
 },
 "nbformat": 4,
 "nbformat_minor": 0
}