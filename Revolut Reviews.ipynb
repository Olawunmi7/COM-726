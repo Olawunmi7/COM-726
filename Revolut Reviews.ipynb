{
 "cells": [
  {
   "cell_type": "code",
   "execution_count": 1,
   "outputs": [
    {
     "name": "stderr",
     "output_type": "stream",
     "text": [
      "\n",
      "KeyboardInterrupt\n",
      "\n"
     ]
    }
   ],
   "source": [
    "# 22nd November, 2022\n",
    "from google_play_scraper import app\n",
    "import pandas as pd\n",
    "\n",
    "import numpy as np\n",
    "\n",
    "from google_play_scraper import Sort, reviews_all\n",
    "\n",
    "us_reviews = reviews_all(\n",
    "    'com.revolut.revolut',\n",
    "    sleep_milliseconds=0, # defaults to 0\n",
    "    lang='en', # defaults to 'en'\n",
    "    country='us', # defaults to 'us'\n",
    "    sort=Sort.NEWEST, # defaults to Sort.MOST_RELEVANT\n",
    ")\n",
    "\n",
    "df_rev = pd.DataFrame(np.array(us_reviews),columns=['review'])\n",
    "\n",
    "df_rev = df_rev.join(pd.DataFrame(df_rev.pop('review').tolist()))\n",
    "df_rev.to_csv(r'C:\\Users\\USER\\OneDrive - Solent University\\School Work\\COM 726\\AE1\\Dataset\\Revolut\\exported_rev_review.csv', index=False, header=True)\n",
    "\n"
   ],
   "metadata": {
    "collapsed": false,
    "pycharm": {
     "name": "#%%\n"
    }
   }
  },
  {
   "cell_type": "code",
   "execution_count": 2,
   "outputs": [],
   "source": [
    "# 23rd November, 2022\n",
    "from google_play_scraper import app\n",
    "import pandas as pd\n",
    "\n",
    "import numpy as np\n",
    "\n",
    "from google_play_scraper import Sort, reviews_all\n",
    "\n",
    "us_reviews = reviews_all(\n",
    "    'com.revolut.revolut',\n",
    "    sleep_milliseconds=0, # defaults to 0\n",
    "    lang='en', # defaults to 'en'\n",
    "    country='us', # defaults to 'us'\n",
    "    sort=Sort.NEWEST, # defaults to Sort.MOST_RELEVANT\n",
    ")\n",
    "\n",
    "df_rev = pd.DataFrame(np.array(us_reviews),columns=['review'])\n",
    "\n",
    "df_rev = df_rev.join(pd.DataFrame(df_rev.pop('review').tolist()))\n",
    "df_rev.to_csv(r'C:\\Users\\USER\\OneDrive - Solent University\\School Work\\COM 726\\AE1\\Dataset\\Revolut\\exported_rev2_review.csv', index=False, header=True)\n"
   ],
   "metadata": {
    "collapsed": false,
    "pycharm": {
     "name": "#%%\n"
    }
   }
  },
  {
   "cell_type": "code",
   "execution_count": 1,
   "outputs": [],
   "source": [
    "# 24th November, 2022\n",
    "from google_play_scraper import app\n",
    "import pandas as pd\n",
    "\n",
    "import numpy as np\n",
    "\n",
    "from google_play_scraper import Sort, reviews_all\n",
    "\n",
    "us_reviews = reviews_all(\n",
    "    'com.revolut.revolut',\n",
    "    sleep_milliseconds=0, # defaults to 0\n",
    "    lang='en', # defaults to 'en'\n",
    "    country='us', # defaults to 'us'\n",
    "    sort=Sort.NEWEST, # defaults to Sort.MOST_RELEVANT\n",
    ")\n",
    "\n",
    "df_rev = pd.DataFrame(np.array(us_reviews),columns=['review'])\n",
    "\n",
    "df_rev = df_rev.join(pd.DataFrame(df_rev.pop('review').tolist()))\n",
    "df_rev.to_csv(r'C:\\Users\\USER\\OneDrive - Solent University\\School Work\\COM 726\\AE1\\Dataset\\Revolut\\exported_rev33_review.csv', index=False, header=True)"
   ],
   "metadata": {
    "collapsed": false,
    "pycharm": {
     "name": "#%%\n"
    }
   }
  },
  {
   "cell_type": "code",
   "execution_count": 1,
   "outputs": [],
   "source": [
    "# 25th November, 2022\n",
    "from google_play_scraper import app\n",
    "import pandas as pd\n",
    "\n",
    "import numpy as np\n",
    "\n",
    "from google_play_scraper import Sort, reviews_all\n",
    "\n",
    "us_reviews = reviews_all(\n",
    "    'com.revolut.revolut',\n",
    "    sleep_milliseconds=0, # defaults to 0\n",
    "    lang='en', # defaults to 'en'\n",
    "    country='us', # defaults to 'us'\n",
    "    sort=Sort.NEWEST, # defaults to Sort.MOST_RELEVANT\n",
    ")\n",
    "\n",
    "df_rev = pd.DataFrame(np.array(us_reviews),columns=['review'])\n",
    "\n",
    "df_rev = df_rev.join(pd.DataFrame(df_rev.pop('review').tolist()))\n",
    "df_rev.to_csv(r'C:\\Users\\USER\\OneDrive - Solent University\\School Work\\COM 726\\AE1\\Dataset\\Revolut\\exported_rev4_review.csv', index=False, header=True)"
   ],
   "metadata": {
    "collapsed": false,
    "pycharm": {
     "name": "#%%\n"
    }
   }
  },
  {
   "cell_type": "code",
   "execution_count": 1,
   "outputs": [],
   "source": [
    "# 26th November, 2022\n",
    "from google_play_scraper import app\n",
    "import pandas as pd\n",
    "\n",
    "import numpy as np\n",
    "\n",
    "from google_play_scraper import Sort, reviews_all\n",
    "\n",
    "us_reviews = reviews_all(\n",
    "    'com.revolut.revolut',\n",
    "    sleep_milliseconds=0, # defaults to 0\n",
    "    lang='en', # defaults to 'en'\n",
    "    country='us', # defaults to 'us'\n",
    "    sort=Sort.NEWEST, # defaults to Sort.MOST_RELEVANT\n",
    ")\n",
    "\n",
    "df_rev = pd.DataFrame(np.array(us_reviews),columns=['review'])\n",
    "\n",
    "df_rev = df_rev.join(pd.DataFrame(df_rev.pop('review').tolist()))\n",
    "df_rev.to_csv(r'C:\\Users\\USER\\OneDrive - Solent University\\School Work\\COM 726\\AE1\\Dataset\\Revolut\\exported_rev5_review.csv', index=False, header=True)"
   ],
   "metadata": {
    "collapsed": false,
    "pycharm": {
     "name": "#%%\n"
    }
   }
  },
  {
   "cell_type": "code",
   "execution_count": 2,
   "outputs": [],
   "source": [
    "# 27th November, 2022\n",
    "from google_play_scraper import app\n",
    "import pandas as pd\n",
    "\n",
    "import numpy as np\n",
    "\n",
    "from google_play_scraper import Sort, reviews_all\n",
    "\n",
    "us_reviews = reviews_all(\n",
    "    'com.revolut.revolut',\n",
    "    sleep_milliseconds=0,  # defaults to 0\n",
    "    lang='en',  # defaults to 'en'\n",
    "    country='us',  # defaults to 'us'\n",
    "    sort=Sort.NEWEST,  # defaults to Sort.MOST_RELEVANT\n",
    ")\n",
    "\n",
    "df_rev = pd.DataFrame(np.array(us_reviews), columns=['review'])\n",
    "\n",
    "df_rev = df_rev.join(pd.DataFrame(df_rev.pop('review').tolist()))\n",
    "df_rev.to_csv(\n",
    "    r'C:\\Users\\USER\\OneDrive - Solent University\\School Work\\COM 726\\AE1\\Dataset\\Revolut\\exported_rev6_review.csv',\n",
    "    index=False, header=True)"
   ],
   "metadata": {
    "collapsed": false,
    "pycharm": {
     "name": "#%%\n"
    }
   }
  },
  {
   "cell_type": "code",
   "execution_count": 3,
   "outputs": [],
   "source": [
    "# 28th November, 2022\n",
    "from google_play_scraper import app\n",
    "import pandas as pd\n",
    "\n",
    "import numpy as np\n",
    "\n",
    "from google_play_scraper import Sort, reviews_all\n",
    "\n",
    "us_reviews = reviews_all(\n",
    "    'com.revolut.revolut',\n",
    "    sleep_milliseconds=0,  # defaults to 0\n",
    "    lang='en',  # defaults to 'en'\n",
    "    country='us',  # defaults to 'us'\n",
    "    sort=Sort.NEWEST,  # defaults to Sort.MOST_RELEVANT\n",
    ")\n",
    "\n",
    "df_rev = pd.DataFrame(np.array(us_reviews), columns=['review'])\n",
    "\n",
    "df_rev = df_rev.join(pd.DataFrame(df_rev.pop('review').tolist()))\n",
    "df_rev.to_csv(\n",
    "    r'C:\\Users\\USER\\OneDrive - Solent University\\School Work\\COM 726\\AE1\\Dataset\\Revolut\\exported_rev7_review.csv',\n",
    "    index=False, header=True)"
   ],
   "metadata": {
    "collapsed": false,
    "pycharm": {
     "name": "#%%\n"
    }
   }
  },
  {
   "cell_type": "code",
   "execution_count": 4,
   "outputs": [],
   "source": [
    "# 29th November, 2022\n",
    "from google_play_scraper import app\n",
    "import pandas as pd\n",
    "\n",
    "import numpy as np\n",
    "\n",
    "from google_play_scraper import Sort, reviews_all\n",
    "\n",
    "us_reviews = reviews_all(\n",
    "    'com.revolut.revolut',\n",
    "    sleep_milliseconds=0,  # defaults to 0\n",
    "    lang='en',  # defaults to 'en'\n",
    "    country='us',  # defaults to 'us'\n",
    "    sort=Sort.NEWEST,  # defaults to Sort.MOST_RELEVANT\n",
    ")\n",
    "\n",
    "df_rev = pd.DataFrame(np.array(us_reviews), columns=['review'])\n",
    "\n",
    "df_rev = df_rev.join(pd.DataFrame(df_rev.pop('review').tolist()))\n",
    "df_rev.to_csv(\n",
    "    r'C:\\Users\\USER\\OneDrive - Solent University\\School Work\\COM 726\\AE1\\Dataset\\Revolut\\exported_rev8_review.csv',\n",
    "    index=False, header=True)"
   ],
   "metadata": {
    "collapsed": false,
    "pycharm": {
     "name": "#%%\n"
    }
   }
  },
  {
   "cell_type": "code",
   "execution_count": 5,
   "outputs": [],
   "source": [
    "# 30th November, 2022\n",
    "from google_play_scraper import app\n",
    "import pandas as pd\n",
    "\n",
    "import numpy as np\n",
    "\n",
    "from google_play_scraper import Sort, reviews_all\n",
    "\n",
    "us_reviews = reviews_all(\n",
    "    'com.revolut.revolut',\n",
    "    sleep_milliseconds=0,  # defaults to 0\n",
    "    lang='en',  # defaults to 'en'\n",
    "    country='us',  # defaults to 'us'\n",
    "    sort=Sort.NEWEST,  # defaults to Sort.MOST_RELEVANT\n",
    ")\n",
    "\n",
    "df_rev = pd.DataFrame(np.array(us_reviews), columns=['review'])\n",
    "\n",
    "df_rev = df_rev.join(pd.DataFrame(df_rev.pop('review').tolist()))\n",
    "df_rev.to_csv(\n",
    "    r'C:\\Users\\USER\\OneDrive - Solent University\\School Work\\COM 726\\AE1\\Dataset\\Revolut\\exported_rev9_review.csv',\n",
    "    index=False, header=True)"
   ],
   "metadata": {
    "collapsed": false,
    "pycharm": {
     "name": "#%%\n"
    }
   }
  },
  {
   "cell_type": "code",
   "execution_count": 6,
   "outputs": [],
   "source": [
    "# 1st December, 2022\n",
    "from google_play_scraper import app\n",
    "import pandas as pd\n",
    "\n",
    "import numpy as np\n",
    "\n",
    "from google_play_scraper import Sort, reviews_all\n",
    "\n",
    "us_reviews = reviews_all(\n",
    "    'com.revolut.revolut',\n",
    "    sleep_milliseconds=0,  # defaults to 0\n",
    "    lang='en',  # defaults to 'en'\n",
    "    country='us',  # defaults to 'us'\n",
    "    sort=Sort.NEWEST,  # defaults to Sort.MOST_RELEVANT\n",
    ")\n",
    "\n",
    "df_rev = pd.DataFrame(np.array(us_reviews), columns=['review'])\n",
    "\n",
    "df_rev = df_rev.join(pd.DataFrame(df_rev.pop('review').tolist()))\n",
    "df_rev.to_csv(\n",
    "    r'C:\\Users\\USER\\OneDrive - Solent University\\School Work\\COM 726\\AE1\\Dataset\\Revolut\\exported_rev10_review.csv',\n",
    "    index=False, header=True)"
   ],
   "metadata": {
    "collapsed": false,
    "pycharm": {
     "name": "#%%\n"
    }
   }
  },
  {
   "cell_type": "code",
   "execution_count": 7,
   "outputs": [],
   "source": [
    "# 2nd December, 2022\n",
    "from google_play_scraper import app\n",
    "import pandas as pd\n",
    "\n",
    "import numpy as np\n",
    "\n",
    "from google_play_scraper import Sort, reviews_all\n",
    "\n",
    "us_reviews = reviews_all(\n",
    "    'com.revolut.revolut',\n",
    "    sleep_milliseconds=0,  # defaults to 0\n",
    "    lang='en',  # defaults to 'en'\n",
    "    country='us',  # defaults to 'us'\n",
    "    sort=Sort.NEWEST,  # defaults to Sort.MOST_RELEVANT\n",
    ")\n",
    "\n",
    "df_rev = pd.DataFrame(np.array(us_reviews), columns=['review'])\n",
    "\n",
    "df_rev = df_rev.join(pd.DataFrame(df_rev.pop('review').tolist()))\n",
    "df_rev.to_csv(\n",
    "    r'C:\\Users\\USER\\OneDrive - Solent University\\School Work\\COM 726\\AE1\\Dataset\\Revolut\\exported_rev11_review.csv',\n",
    "    index=False, header=True)"
   ],
   "metadata": {
    "collapsed": false,
    "pycharm": {
     "name": "#%%\n"
    }
   }
  },
  {
   "cell_type": "code",
   "execution_count": 8,
   "outputs": [],
   "source": [
    "# 3rd December, 2022\n",
    "from google_play_scraper import app\n",
    "import pandas as pd\n",
    "\n",
    "import numpy as np\n",
    "\n",
    "from google_play_scraper import Sort, reviews_all\n",
    "\n",
    "us_reviews = reviews_all(\n",
    "    'com.revolut.revolut',\n",
    "    sleep_milliseconds=0,  # defaults to 0\n",
    "    lang='en',  # defaults to 'en'\n",
    "    country='us',  # defaults to 'us'\n",
    "    sort=Sort.NEWEST,  # defaults to Sort.MOST_RELEVANT\n",
    ")\n",
    "\n",
    "df_rev = pd.DataFrame(np.array(us_reviews), columns=['review'])\n",
    "\n",
    "df_rev = df_rev.join(pd.DataFrame(df_rev.pop('review').tolist()))\n",
    "df_rev.to_csv(\n",
    "    r'C:\\Users\\USER\\OneDrive - Solent University\\School Work\\COM 726\\AE1\\Dataset\\Revolut\\exported_rev12_review.csv',\n",
    "    index=False, header=True)"
   ],
   "metadata": {
    "collapsed": false,
    "pycharm": {
     "name": "#%%\n"
    }
   }
  },
  {
   "cell_type": "code",
   "execution_count": 10,
   "outputs": [],
   "source": [
    "# 5th December, 2022\n",
    "from google_play_scraper import app\n",
    "import pandas as pd\n",
    "\n",
    "import numpy as np\n",
    "\n",
    "from google_play_scraper import Sort, reviews_all\n",
    "\n",
    "us_reviews = reviews_all(\n",
    "    'com.revolut.revolut',\n",
    "    sleep_milliseconds=0,  # defaults to 0\n",
    "    lang='en',  # defaults to 'en'\n",
    "    country='us',  # defaults to 'us'\n",
    "    sort=Sort.NEWEST,  # defaults to Sort.MOST_RELEVANT\n",
    ")\n",
    "\n",
    "df_rev = pd.DataFrame(np.array(us_reviews), columns=['review'])\n",
    "\n",
    "df_rev = df_rev.join(pd.DataFrame(df_rev.pop('review').tolist()))\n",
    "df_rev.to_csv(\n",
    "    r'C:\\Users\\USER\\OneDrive - Solent University\\School Work\\COM 726\\AE1\\Dataset\\Revolut\\exported_rev13_review.csv',\n",
    "    index=False, header=True)"
   ],
   "metadata": {
    "collapsed": false,
    "pycharm": {
     "name": "#%%\n"
    }
   }
  },
  {
   "cell_type": "code",
   "execution_count": 11,
   "outputs": [],
   "source": [
    "# 6th December, 2022\n",
    "from google_play_scraper import app\n",
    "import pandas as pd\n",
    "\n",
    "import numpy as np\n",
    "\n",
    "from google_play_scraper import Sort, reviews_all\n",
    "\n",
    "us_reviews = reviews_all(\n",
    "    'com.revolut.revolut',\n",
    "    sleep_milliseconds=0,  # defaults to 0\n",
    "    lang='en',  # defaults to 'en'\n",
    "    country='us',  # defaults to 'us'\n",
    "    sort=Sort.NEWEST,  # defaults to Sort.MOST_RELEVANT\n",
    ")\n",
    "\n",
    "df_rev = pd.DataFrame(np.array(us_reviews), columns=['review'])\n",
    "\n",
    "df_rev = df_rev.join(pd.DataFrame(df_rev.pop('review').tolist()))\n",
    "df_rev.to_csv(\n",
    "    r'C:\\Users\\USER\\OneDrive - Solent University\\School Work\\COM 726\\AE1\\Dataset\\Revolut\\exported_rev14_review.csv',\n",
    "    index=False, header=True)"
   ],
   "metadata": {
    "collapsed": false,
    "pycharm": {
     "name": "#%%\n"
    }
   }
  },
  {
   "cell_type": "code",
   "execution_count": 12,
   "outputs": [],
   "source": [
    "# 7th December, 2022\n",
    "from google_play_scraper import app\n",
    "import pandas as pd\n",
    "\n",
    "import numpy as np\n",
    "\n",
    "from google_play_scraper import Sort, reviews_all\n",
    "\n",
    "us_reviews = reviews_all(\n",
    "    'com.revolut.revolut',\n",
    "    sleep_milliseconds=0,  # defaults to 0\n",
    "    lang='en',  # defaults to 'en'\n",
    "    country='us',  # defaults to 'us'\n",
    "    sort=Sort.NEWEST,  # defaults to Sort.MOST_RELEVANT\n",
    ")\n",
    "\n",
    "df_rev = pd.DataFrame(np.array(us_reviews), columns=['review'])\n",
    "\n",
    "df_rev = df_rev.join(pd.DataFrame(df_rev.pop('review').tolist()))\n",
    "df_rev.to_csv(\n",
    "    r'C:\\Users\\USER\\OneDrive - Solent University\\School Work\\COM 726\\AE1\\Dataset\\Revolut\\exported_rev15_review.csv',\n",
    "    index=False, header=True)"
   ],
   "metadata": {
    "collapsed": false,
    "pycharm": {
     "name": "#%%\n"
    }
   }
  },
  {
   "cell_type": "code",
   "execution_count": 1,
   "outputs": [],
   "source": [
    "# 8th December, 2022\n",
    "from google_play_scraper import app\n",
    "import pandas as pd\n",
    "\n",
    "import numpy as np\n",
    "\n",
    "from google_play_scraper import Sort, reviews_all\n",
    "\n",
    "us_reviews = reviews_all(\n",
    "    'com.revolut.revolut',\n",
    "    sleep_milliseconds=0,  # defaults to 0\n",
    "    lang='en',  # defaults to 'en'\n",
    "    country='us',  # defaults to 'us'\n",
    "    sort=Sort.NEWEST,  # defaults to Sort.MOST_RELEVANT\n",
    ")\n",
    "\n",
    "df_rev = pd.DataFrame(np.array(us_reviews), columns=['review'])\n",
    "\n",
    "df_rev = df_rev.join(pd.DataFrame(df_rev.pop('review').tolist()))\n",
    "df_rev.to_csv(\n",
    "    r'C:\\Users\\USER\\OneDrive - Solent University\\School Work\\COM 726\\AE1\\Dataset\\Revolut\\exported_rev16_review.csv',\n",
    "    index=False, header=True)"
   ],
   "metadata": {
    "collapsed": false,
    "pycharm": {
     "name": "#%%\n"
    }
   }
  },
  {
   "cell_type": "code",
   "execution_count": 2,
   "outputs": [],
   "source": [
    "# 9th December, 2022\n",
    "from google_play_scraper import app\n",
    "import pandas as pd\n",
    "\n",
    "import numpy as np\n",
    "\n",
    "from google_play_scraper import Sort, reviews_all\n",
    "\n",
    "us_reviews = reviews_all(\n",
    "    'com.revolut.revolut',\n",
    "    sleep_milliseconds=0,  # defaults to 0\n",
    "    lang='en',  # defaults to 'en'\n",
    "    country='us',  # defaults to 'us'\n",
    "    sort=Sort.NEWEST,  # defaults to Sort.MOST_RELEVANT\n",
    ")\n",
    "\n",
    "df_rev = pd.DataFrame(np.array(us_reviews), columns=['review'])\n",
    "\n",
    "df_rev = df_rev.join(pd.DataFrame(df_rev.pop('review').tolist()))\n",
    "df_rev.to_csv(\n",
    "    r'C:\\Users\\USER\\OneDrive - Solent University\\School Work\\COM 726\\AE1\\Dataset\\Revolut\\exported_rev17_review.csv',\n",
    "    index=False, header=True)"
   ],
   "metadata": {
    "collapsed": false,
    "pycharm": {
     "name": "#%%\n"
    }
   }
  },
  {
   "cell_type": "code",
   "execution_count": null,
   "outputs": [],
   "source": [
    "# 10th December, 2022\n",
    "from google_play_scraper import app\n",
    "import pandas as pd\n",
    "\n",
    "import numpy as np\n",
    "\n",
    "from google_play_scraper import Sort, reviews_all\n",
    "\n",
    "us_reviews = reviews_all(\n",
    "    'com.revolut.revolut',\n",
    "    sleep_milliseconds=0,  # defaults to 0\n",
    "    lang='en',  # defaults to 'en'\n",
    "    country='us',  # defaults to 'us'\n",
    "    sort=Sort.NEWEST,  # defaults to Sort.MOST_RELEVANT\n",
    ")\n",
    "\n",
    "df_rev = pd.DataFrame(np.array(us_reviews), columns=['review'])\n",
    "\n",
    "df_rev = df_rev.join(pd.DataFrame(df_rev.pop('review').tolist()))\n",
    "df_rev.to_csv(\n",
    "    r'C:\\Users\\USER\\OneDrive - Solent University\\School Work\\COM 726\\AE1\\Dataset\\Revolut\\exported_rev18_review.csv',\n",
    "    index=False, header=True)"
   ],
   "metadata": {
    "collapsed": false,
    "pycharm": {
     "name": "#%%\n",
     "is_executing": true
    }
   }
  },
  {
   "cell_type": "code",
   "execution_count": 1,
   "outputs": [],
   "source": [
    "# 11th December, 2022\n",
    "from google_play_scraper import app\n",
    "import pandas as pd\n",
    "\n",
    "import numpy as np\n",
    "\n",
    "from google_play_scraper import Sort, reviews_all\n",
    "\n",
    "us_reviews = reviews_all(\n",
    "    'com.revolut.revolut',\n",
    "    sleep_milliseconds=0,  # defaults to 0\n",
    "    lang='en',  # defaults to 'en'\n",
    "    country='us',  # defaults to 'us'\n",
    "    sort=Sort.NEWEST,  # defaults to Sort.MOST_RELEVANT\n",
    ")\n",
    "\n",
    "df_rev = pd.DataFrame(np.array(us_reviews), columns=['review'])\n",
    "\n",
    "df_rev = df_rev.join(pd.DataFrame(df_rev.pop('review').tolist()))\n",
    "df_rev.to_csv(\n",
    "    r'C:\\Users\\USER\\OneDrive - Solent University\\School Work\\COM 726\\AE1\\Dataset\\Revolut\\exported_rev19_review.csv',\n",
    "    index=False, header=True)"
   ],
   "metadata": {
    "collapsed": false,
    "pycharm": {
     "name": "#%%\n"
    }
   }
  },
  {
   "cell_type": "code",
   "execution_count": 2,
   "outputs": [],
   "source": [
    "# 12th December, 2022\n",
    "from google_play_scraper import app\n",
    "import pandas as pd\n",
    "\n",
    "import numpy as np\n",
    "\n",
    "from google_play_scraper import Sort, reviews_all\n",
    "\n",
    "us_reviews = reviews_all(\n",
    "    'com.revolut.revolut',\n",
    "    sleep_milliseconds=0,  # defaults to 0\n",
    "    lang='en',  # defaults to 'en'\n",
    "    country='us',  # defaults to 'us'\n",
    "    sort=Sort.NEWEST,  # defaults to Sort.MOST_RELEVANT\n",
    ")\n",
    "\n",
    "df_rev = pd.DataFrame(np.array(us_reviews), columns=['review'])\n",
    "\n",
    "df_rev = df_rev.join(pd.DataFrame(df_rev.pop('review').tolist()))\n",
    "df_rev.to_csv(\n",
    "    r'C:\\Users\\USER\\OneDrive - Solent University\\School Work\\COM 726\\AE1\\Dataset\\Revolut\\exported_rev20_review.csv',\n",
    "    index=False, header=True)"
   ],
   "metadata": {
    "collapsed": false,
    "pycharm": {
     "name": "#%%\n"
    }
   }
  },
  {
   "cell_type": "code",
   "execution_count": 3,
   "outputs": [],
   "source": [
    "# 13th December, 2022\n",
    "from google_play_scraper import app\n",
    "import pandas as pd\n",
    "\n",
    "import numpy as np\n",
    "\n",
    "from google_play_scraper import Sort, reviews_all\n",
    "\n",
    "us_reviews = reviews_all(\n",
    "    'com.revolut.revolut',\n",
    "    sleep_milliseconds=0,  # defaults to 0\n",
    "    lang='en',  # defaults to 'en'\n",
    "    country='us',  # defaults to 'us'\n",
    "    sort=Sort.NEWEST,  # defaults to Sort.MOST_RELEVANT\n",
    ")\n",
    "\n",
    "df_rev = pd.DataFrame(np.array(us_reviews), columns=['review'])\n",
    "\n",
    "df_rev = df_rev.join(pd.DataFrame(df_rev.pop('review').tolist()))\n",
    "df_rev.to_csv(\n",
    "    r'C:\\Users\\USER\\OneDrive - Solent University\\School Work\\COM 726\\AE1\\Dataset\\Revolut\\exported_rev21_review.csv',\n",
    "    index=False, header=True)"
   ],
   "metadata": {
    "collapsed": false,
    "pycharm": {
     "name": "#%%\n"
    }
   }
  },
  {
   "cell_type": "code",
   "execution_count": 4,
   "outputs": [],
   "source": [
    "# 15th December, 2022\n",
    "from google_play_scraper import app\n",
    "import pandas as pd\n",
    "\n",
    "import numpy as np\n",
    "\n",
    "from google_play_scraper import Sort, reviews_all\n",
    "\n",
    "us_reviews = reviews_all(\n",
    "    'com.revolut.revolut',\n",
    "    sleep_milliseconds=0,  # defaults to 0\n",
    "    lang='en',  # defaults to 'en'\n",
    "    country='us',  # defaults to 'us'\n",
    "    sort=Sort.NEWEST,  # defaults to Sort.MOST_RELEVANT\n",
    ")\n",
    "\n",
    "df_rev = pd.DataFrame(np.array(us_reviews), columns=['review'])\n",
    "\n",
    "df_rev = df_rev.join(pd.DataFrame(df_rev.pop('review').tolist()))\n",
    "df_rev.to_csv(\n",
    "    r'C:\\Users\\USER\\OneDrive - Solent University\\School Work\\COM 726\\AE1\\Dataset\\Revolut\\exported_rev22_review.csv',\n",
    "    index=False, header=True)"
   ],
   "metadata": {
    "collapsed": false,
    "pycharm": {
     "name": "#%%\n"
    }
   }
  },
  {
   "cell_type": "code",
   "execution_count": 5,
   "outputs": [],
   "source": [
    "# 16th December, 2022\n",
    "from google_play_scraper import app\n",
    "import pandas as pd\n",
    "\n",
    "import numpy as np\n",
    "\n",
    "from google_play_scraper import Sort, reviews_all\n",
    "\n",
    "us_reviews = reviews_all(\n",
    "    'com.revolut.revolut',\n",
    "    sleep_milliseconds=0,  # defaults to 0\n",
    "    lang='en',  # defaults to 'en'\n",
    "    country='us',  # defaults to 'us'\n",
    "    sort=Sort.NEWEST,  # defaults to Sort.MOST_RELEVANT\n",
    ")\n",
    "\n",
    "df_rev = pd.DataFrame(np.array(us_reviews), columns=['review'])\n",
    "\n",
    "df_rev = df_rev.join(pd.DataFrame(df_rev.pop('review').tolist()))\n",
    "df_rev.to_csv(\n",
    "    r'C:\\Users\\USER\\OneDrive - Solent University\\School Work\\COM 726\\AE1\\Dataset\\Revolut\\exported_rev23_review.csv',\n",
    "    index=False, header=True)"
   ],
   "metadata": {
    "collapsed": false,
    "pycharm": {
     "name": "#%%\n"
    }
   }
  },
  {
   "cell_type": "code",
   "execution_count": 2,
   "outputs": [],
   "source": [
    "# 24th December, 2022\n",
    "from google_play_scraper import app\n",
    "import pandas as pd\n",
    "\n",
    "import numpy as np\n",
    "\n",
    "from google_play_scraper import Sort, reviews_all\n",
    "\n",
    "us_reviews = reviews_all(\n",
    "    'com.revolut.revolut',\n",
    "    sleep_milliseconds=0,  # defaults to 0\n",
    "    lang='en',  # defaults to 'en'\n",
    "    country='us',  # defaults to 'us'\n",
    "    sort=Sort.NEWEST,  # defaults to Sort.MOST_RELEVANT\n",
    ")\n",
    "\n",
    "df_rev = pd.DataFrame(np.array(us_reviews), columns=['review'])\n",
    "\n",
    "df_rev = df_rev.join(pd.DataFrame(df_rev.pop('review').tolist()))\n",
    "df_rev.to_csv(\n",
    "    r'C:\\Users\\USER\\OneDrive - Solent University\\School Work\\COM 726\\AE1\\Dataset\\Revolut\\exported_rev24_review.csv',\n",
    "    index=False, header=True)"
   ],
   "metadata": {
    "collapsed": false,
    "pycharm": {
     "name": "#%%\n"
    }
   }
  },
  {
   "cell_type": "code",
   "execution_count": null,
   "outputs": [],
   "source": [
    "# 25th December, 2022\n",
    "from google_play_scraper import app\n",
    "import pandas as pd\n",
    "\n",
    "import numpy as np\n",
    "\n",
    "from google_play_scraper import Sort, reviews_all\n",
    "\n",
    "us_reviews = reviews_all(\n",
    "    'com.revolut.revolut',\n",
    "    sleep_milliseconds=0,  # defaults to 0\n",
    "    lang='en',  # defaults to 'en'\n",
    "    country='us',  # defaults to 'us'\n",
    "    sort=Sort.NEWEST,  # defaults to Sort.MOST_RELEVANT\n",
    ")\n",
    "\n",
    "df_rev_2 = pd.DataFrame(np.array(us_reviews), columns=['review'])\n",
    "\n",
    "df_rev_2 = df_rev_2.join(pd.DataFrame(df_rev_2.pop('review').tolist()))\n",
    "df_rev_2.to_csv(\n",
    "    r'C:\\Users\\USER\\OneDrive - Solent University\\School Work\\COM 726\\AE1\\Dataset\\Revolut\\exported_rev25_review.csv',\n",
    "    index=False, header=True)"
   ],
   "metadata": {
    "collapsed": false,
    "pycharm": {
     "name": "#%%\n",
     "is_executing": true
    }
   }
  },
  {
   "cell_type": "code",
   "execution_count": null,
   "outputs": [],
   "source": [],
   "metadata": {
    "collapsed": false,
    "pycharm": {
     "name": "#%%\n"
    }
   }
  },
  {
   "cell_type": "code",
   "execution_count": null,
   "outputs": [],
   "source": [],
   "metadata": {
    "collapsed": false,
    "pycharm": {
     "name": "#%%\n"
    }
   }
  }
 ],
 "metadata": {
  "kernelspec": {
   "display_name": "Python 3",
   "language": "python",
   "name": "python3"
  },
  "language_info": {
   "codemirror_mode": {
    "name": "ipython",
    "version": 2
   },
   "file_extension": ".py",
   "mimetype": "text/x-python",
   "name": "python",
   "nbconvert_exporter": "python",
   "pygments_lexer": "ipython2",
   "version": "2.7.6"
  }
 },
 "nbformat": 4,
 "nbformat_minor": 0
}