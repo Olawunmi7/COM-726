{
 "cells": [
  {
   "cell_type": "code",
   "execution_count": 4,
   "outputs": [],
   "source": [
    "# 22nd November, 2022\n",
    "from google_play_scraper import app\n",
    "import pandas as pd\n",
    "\n",
    "import numpy as np\n",
    "\n",
    "from google_play_scraper import Sort, reviews_all\n",
    "\n",
    "us_reviews = reviews_all(\n",
    "    'co.uk.getmondo',\n",
    "    sleep_milliseconds=0, # defaults to 0\n",
    "    lang='en', # defaults to 'en'\n",
    "    country='us', # defaults to 'us'\n",
    "    sort=Sort.NEWEST, # defaults to Sort.MOST_RELEVANT\n",
    ")\n",
    "\n",
    "df_mz = pd.DataFrame(np.array(us_reviews),columns=['review'])\n",
    "\n",
    "df_mz = df_mz.join(pd.DataFrame(df_mz.pop('review').tolist()))\n",
    "\n",
    "df_mz.to_csv(r'C:\\Users\\USER\\OneDrive - Solent University\\School Work\\COM 726\\AE1\\Dataset\\Monzo\\exported_mz_review.csv', index=False, header=True)\n",
    "\n",
    "\n",
    "\n",
    "\n",
    "\n"
   ],
   "metadata": {
    "collapsed": false,
    "pycharm": {
     "name": "#%%\n"
    }
   }
  },
  {
   "cell_type": "code",
   "execution_count": 5,
   "outputs": [
    {
     "data": {
      "text/plain": "(15031, 10)"
     },
     "execution_count": 5,
     "metadata": {},
     "output_type": "execute_result"
    }
   ],
   "source": [
    "df_mz.shape"
   ],
   "metadata": {
    "collapsed": false,
    "pycharm": {
     "name": "#%%\n"
    }
   }
  },
  {
   "cell_type": "code",
   "execution_count": null,
   "outputs": [],
   "source": [],
   "metadata": {
    "collapsed": false,
    "pycharm": {
     "name": "#%%\n"
    }
   }
  },
  {
   "cell_type": "code",
   "execution_count": 6,
   "outputs": [],
   "source": [
    "# 23rd November, 202\n",
    "from google_play_scraper import app\n",
    "import pandas as pd\n",
    "\n",
    "import numpy as np\n",
    "\n",
    "from google_play_scraper import Sort, reviews_all\n",
    "\n",
    "us_reviews = reviews_all(\n",
    "    'co.uk.getmondo',\n",
    "    sleep_milliseconds=0, # defaults to 0\n",
    "    lang='en', # defaults to 'en'\n",
    "    country='us', # defaults to 'us'\n",
    "    sort=Sort.NEWEST, # defaults to Sort.MOST_RELEVANT\n",
    ")\n",
    "\n",
    "df_mz = pd.DataFrame(np.array(us_reviews),columns=['review'])\n",
    "\n",
    "df_mz = df_mz.join(pd.DataFrame(df_mz.pop('review').tolist()))\n",
    "\n",
    "df_mz.to_csv(r'C:\\Users\\USER\\OneDrive - Solent University\\School Work\\COM 726\\AE1\\Dataset\\Monzo\\exported_mz2_review.csv', index=False, header=True)"
   ],
   "metadata": {
    "collapsed": false,
    "pycharm": {
     "name": "#%%\n"
    }
   }
  },
  {
   "cell_type": "code",
   "execution_count": 7,
   "outputs": [
    {
     "data": {
      "text/plain": "(15031, 10)"
     },
     "execution_count": 7,
     "metadata": {},
     "output_type": "execute_result"
    }
   ],
   "source": [
    "df_mz.shape"
   ],
   "metadata": {
    "collapsed": false,
    "pycharm": {
     "name": "#%%\n"
    }
   }
  },
  {
   "cell_type": "code",
   "execution_count": 1,
   "outputs": [],
   "source": [
    "# 24th  November, 2022\n",
    "from google_play_scraper import app\n",
    "import pandas as pd\n",
    "\n",
    "import numpy as np\n",
    "\n",
    "from google_play_scraper import Sort, reviews_all\n",
    "\n",
    "us_reviews = reviews_all(\n",
    "    'co.uk.getmondo',\n",
    "    sleep_milliseconds=0, # defaults to 0\n",
    "    lang='en', # defaults to 'en'\n",
    "    country='us', # defaults to 'us'\n",
    "    sort=Sort.NEWEST, # defaults to Sort.MOST_RELEVANT\n",
    ")\n",
    "\n",
    "df_mz = pd.DataFrame(np.array(us_reviews),columns=['review'])\n",
    "\n",
    "df_mz = df_mz.join(pd.DataFrame(df_mz.pop('review').tolist()))\n",
    "\n",
    "df_mz.to_csv(r'C:\\Users\\USER\\OneDrive - Solent University\\School Work\\COM 726\\AE1\\Dataset\\Monzo\\exported_mz3_review.csv', index=False, header=True)"
   ],
   "metadata": {
    "collapsed": false,
    "pycharm": {
     "name": "#%%\n"
    }
   }
  },
  {
   "cell_type": "code",
   "execution_count": 2,
   "outputs": [],
   "source": [
    "# 25th  November, 2022\n",
    "from google_play_scraper import app\n",
    "import pandas as pd\n",
    "\n",
    "import numpy as np\n",
    "\n",
    "from google_play_scraper import Sort, reviews_all\n",
    "\n",
    "us_reviews = reviews_all(\n",
    "    'co.uk.getmondo',\n",
    "    sleep_milliseconds=0, # defaults to 0\n",
    "    lang='en', # defaults to 'en'\n",
    "    country='us', # defaults to 'us'\n",
    "    sort=Sort.NEWEST, # defaults to Sort.MOST_RELEVANT\n",
    ")\n",
    "\n",
    "df_mz = pd.DataFrame(np.array(us_reviews),columns=['review'])\n",
    "\n",
    "df_mz = df_mz.join(pd.DataFrame(df_mz.pop('review').tolist()))\n",
    "\n",
    "df_mz.to_csv(r'C:\\Users\\USER\\OneDrive - Solent University\\School Work\\COM 726\\AE1\\Dataset\\Monzo\\exported_mz4_review.csv', index=False, header=True)"
   ],
   "metadata": {
    "collapsed": false,
    "pycharm": {
     "name": "#%%\n"
    }
   }
  },
  {
   "cell_type": "code",
   "execution_count": 1,
   "outputs": [],
   "source": [
    "# 26th  November, 2022\n",
    "from google_play_scraper import app\n",
    "import pandas as pd\n",
    "\n",
    "import numpy as np\n",
    "\n",
    "from google_play_scraper import Sort, reviews_all\n",
    "\n",
    "us_reviews = reviews_all(\n",
    "    'co.uk.getmondo',\n",
    "    sleep_milliseconds=0, # defaults to 0\n",
    "    lang='en', # defaults to 'en'\n",
    "    country='us', # defaults to 'us'\n",
    "    sort=Sort.NEWEST, # defaults to Sort.MOST_RELEVANT\n",
    ")\n",
    "\n",
    "df_mz = pd.DataFrame(np.array(us_reviews),columns=['review'])\n",
    "\n",
    "df_mz = df_mz.join(pd.DataFrame(df_mz.pop('review').tolist()))\n",
    "\n",
    "df_mz.to_csv(r'C:\\Users\\USER\\OneDrive - Solent University\\School Work\\COM 726\\AE1\\Dataset\\Monzo\\exported_mz5_review.csv', index=False, header=True)"
   ],
   "metadata": {
    "collapsed": false,
    "pycharm": {
     "name": "#%%\n"
    }
   }
  },
  {
   "cell_type": "code",
   "execution_count": 2,
   "outputs": [],
   "source": [
    "# 27th  November, 2022\n",
    "from google_play_scraper import app\n",
    "import pandas as pd\n",
    "\n",
    "import numpy as np\n",
    "\n",
    "from google_play_scraper import Sort, reviews_all\n",
    "\n",
    "us_reviews = reviews_all(\n",
    "    'co.uk.getmondo',\n",
    "    sleep_milliseconds=0, # defaults to 0\n",
    "    lang='en', # defaults to 'en'\n",
    "    country='us', # defaults to 'us'\n",
    "    sort=Sort.NEWEST, # defaults to Sort.MOST_RELEVANT\n",
    ")\n",
    "\n",
    "df_mz = pd.DataFrame(np.array(us_reviews),columns=['review'])\n",
    "\n",
    "df_mz = df_mz.join(pd.DataFrame(df_mz.pop('review').tolist()))\n",
    "\n",
    "df_mz.to_csv(r'C:\\Users\\USER\\OneDrive - Solent University\\School Work\\COM 726\\AE1\\Dataset\\Monzo\\exported_mz6_review.csv', index=False, header=True)"
   ],
   "metadata": {
    "collapsed": false,
    "pycharm": {
     "name": "#%%\n"
    }
   }
  },
  {
   "cell_type": "code",
   "execution_count": 3,
   "outputs": [],
   "source": [
    "# 28th  November, 2022\n",
    "from google_play_scraper import app\n",
    "import pandas as pd\n",
    "\n",
    "import numpy as np\n",
    "\n",
    "from google_play_scraper import Sort, reviews_all\n",
    "\n",
    "us_reviews = reviews_all(\n",
    "    'co.uk.getmondo',\n",
    "    sleep_milliseconds=0, # defaults to 0\n",
    "    lang='en', # defaults to 'en'\n",
    "    country='us', # defaults to 'us'\n",
    "    sort=Sort.NEWEST, # defaults to Sort.MOST_RELEVANT\n",
    ")\n",
    "\n",
    "df_mz = pd.DataFrame(np.array(us_reviews),columns=['review'])\n",
    "\n",
    "df_mz = df_mz.join(pd.DataFrame(df_mz.pop('review').tolist()))\n",
    "\n",
    "df_mz.to_csv(r'C:\\Users\\USER\\OneDrive - Solent University\\School Work\\COM 726\\AE1\\Dataset\\Monzo\\exported_mz7_review.csv', index=False, header=True)"
   ],
   "metadata": {
    "collapsed": false,
    "pycharm": {
     "name": "#%%\n"
    }
   }
  },
  {
   "cell_type": "code",
   "execution_count": null,
   "outputs": [],
   "source": [
    "# 29th  November, 2022\n",
    "from google_play_scraper import app\n",
    "import pandas as pd\n",
    "\n",
    "import numpy as np\n",
    "\n",
    "from google_play_scraper import Sort, reviews_all\n",
    "\n",
    "us_reviews = reviews_all(\n",
    "    'co.uk.getmondo',\n",
    "    sleep_milliseconds=0, # defaults to 0\n",
    "    lang='en', # defaults to 'en'\n",
    "    country='us', # defaults to 'us'\n",
    "    sort=Sort.NEWEST, # defaults to Sort.MOST_RELEVANT\n",
    ")\n",
    "\n",
    "df_mz = pd.DataFrame(np.array(us_reviews),columns=['review'])\n",
    "\n",
    "df_mz = df_mz.join(pd.DataFrame(df_mz.pop('review').tolist()))\n",
    "\n",
    "df_mz.to_csv(r'C:\\Users\\USER\\OneDrive - Solent University\\School Work\\COM 726\\AE1\\Dataset\\Monzo\\exported_mz8_review.csv', index=False, header=True)"
   ],
   "metadata": {
    "collapsed": false,
    "pycharm": {
     "name": "#%%\n"
    }
   }
  },
  {
   "cell_type": "code",
   "execution_count": null,
   "outputs": [],
   "source": [
    "# 30th  November, 2022\n",
    "from google_play_scraper import app\n",
    "import pandas as pd\n",
    "\n",
    "import numpy as np\n",
    "\n",
    "from google_play_scraper import Sort, reviews_all\n",
    "\n",
    "us_reviews = reviews_all(\n",
    "    'co.uk.getmondo',\n",
    "    sleep_milliseconds=0, # defaults to 0\n",
    "    lang='en', # defaults to 'en'\n",
    "    country='us', # defaults to 'us'\n",
    "    sort=Sort.NEWEST, # defaults to Sort.MOST_RELEVANT\n",
    ")\n",
    "\n",
    "df_mz = pd.DataFrame(np.array(us_reviews),columns=['review'])\n",
    "\n",
    "df_mz = df_mz.join(pd.DataFrame(df_mz.pop('review').tolist()))\n",
    "\n",
    "df_mz.to_csv(r'C:\\Users\\USER\\OneDrive - Solent University\\School Work\\COM 726\\AE1\\Dataset\\Monzo\\exported_mz9_review.csv', index=False, header=True)"
   ],
   "metadata": {
    "collapsed": false,
    "pycharm": {
     "name": "#%%\n"
    }
   }
  },
  {
   "cell_type": "code",
   "execution_count": 5,
   "outputs": [],
   "source": [
    "# 1st December, 2022\n",
    "from google_play_scraper import app\n",
    "import pandas as pd\n",
    "\n",
    "import numpy as np\n",
    "\n",
    "from google_play_scraper import Sort, reviews_all\n",
    "\n",
    "us_reviews = reviews_all(\n",
    "    'co.uk.getmondo',\n",
    "    sleep_milliseconds=0, # defaults to 0\n",
    "    lang='en', # defaults to 'en'\n",
    "    country='us', # defaults to 'us'\n",
    "    sort=Sort.NEWEST, # defaults to Sort.MOST_RELEVANT\n",
    ")\n",
    "\n",
    "df_mz = pd.DataFrame(np.array(us_reviews),columns=['review'])\n",
    "\n",
    "df_mz = df_mz.join(pd.DataFrame(df_mz.pop('review').tolist()))\n",
    "\n",
    "df_mz.to_csv(r'C:\\Users\\USER\\OneDrive - Solent University\\School Work\\COM 726\\AE1\\Dataset\\Monzo\\exported_mz10_review.csv', index=False, header=True)"
   ],
   "metadata": {
    "collapsed": false,
    "pycharm": {
     "name": "#%%\n"
    }
   }
  },
  {
   "cell_type": "code",
   "execution_count": 6,
   "outputs": [],
   "source": [
    "# 2nd December, 2022\n",
    "from google_play_scraper import app\n",
    "import pandas as pd\n",
    "\n",
    "import numpy as np\n",
    "\n",
    "from google_play_scraper import Sort, reviews_all\n",
    "\n",
    "us_reviews = reviews_all(\n",
    "    'co.uk.getmondo',\n",
    "    sleep_milliseconds=0, # defaults to 0\n",
    "    lang='en', # defaults to 'en'\n",
    "    country='us', # defaults to 'us'\n",
    "    sort=Sort.NEWEST, # defaults to Sort.MOST_RELEVANT\n",
    ")\n",
    "\n",
    "df_mz = pd.DataFrame(np.array(us_reviews),columns=['review'])\n",
    "\n",
    "df_mz = df_mz.join(pd.DataFrame(df_mz.pop('review').tolist()))\n",
    "\n",
    "df_mz.to_csv(r'C:\\Users\\USER\\OneDrive - Solent University\\School Work\\COM 726\\AE1\\Dataset\\Monzo\\exported_mz11_review.csv', index=False, header=True)"
   ],
   "metadata": {
    "collapsed": false,
    "pycharm": {
     "name": "#%%\n"
    }
   }
  },
  {
   "cell_type": "code",
   "execution_count": 7,
   "outputs": [],
   "source": [
    "# 3rd  December, 2022\n",
    "from google_play_scraper import app\n",
    "import pandas as pd\n",
    "\n",
    "import numpy as np\n",
    "\n",
    "from google_play_scraper import Sort, reviews_all\n",
    "\n",
    "us_reviews = reviews_all(\n",
    "    'co.uk.getmondo',\n",
    "    sleep_milliseconds=0, # defaults to 0\n",
    "    lang='en', # defaults to 'en'\n",
    "    country='us', # defaults to 'us'\n",
    "    sort=Sort.NEWEST, # defaults to Sort.MOST_RELEVANT\n",
    ")\n",
    "\n",
    "df_mz = pd.DataFrame(np.array(us_reviews),columns=['review'])\n",
    "\n",
    "df_mz = df_mz.join(pd.DataFrame(df_mz.pop('review').tolist()))\n",
    "\n",
    "df_mz.to_csv(r'C:\\Users\\USER\\OneDrive - Solent University\\School Work\\COM 726\\AE1\\Dataset\\Monzo\\exported_mz12_review.csv', index=False, header=True)"
   ],
   "metadata": {
    "collapsed": false,
    "pycharm": {
     "name": "#%%\n"
    }
   }
  },
  {
   "cell_type": "code",
   "execution_count": 8,
   "outputs": [],
   "source": [
    "# 5th  December, 2022\n",
    "from google_play_scraper import app\n",
    "import pandas as pd\n",
    "\n",
    "import numpy as np\n",
    "\n",
    "from google_play_scraper import Sort, reviews_all\n",
    "\n",
    "us_reviews = reviews_all(\n",
    "    'co.uk.getmondo',\n",
    "    sleep_milliseconds=0, # defaults to 0\n",
    "    lang='en', # defaults to 'en'\n",
    "    country='us', # defaults to 'us'\n",
    "    sort=Sort.NEWEST, # defaults to Sort.MOST_RELEVANT\n",
    ")\n",
    "\n",
    "df_mz = pd.DataFrame(np.array(us_reviews),columns=['review'])\n",
    "\n",
    "df_mz = df_mz.join(pd.DataFrame(df_mz.pop('review').tolist()))\n",
    "\n",
    "df_mz.to_csv(r'C:\\Users\\USER\\OneDrive - Solent University\\School Work\\COM 726\\AE1\\Dataset\\Monzo\\exported_mz13_review.csv', index=False, header=True)"
   ],
   "metadata": {
    "collapsed": false,
    "pycharm": {
     "name": "#%%\n"
    }
   }
  },
  {
   "cell_type": "code",
   "execution_count": 9,
   "outputs": [],
   "source": [
    "# 6th  December, 2022\n",
    "from google_play_scraper import app\n",
    "import pandas as pd\n",
    "\n",
    "import numpy as np\n",
    "\n",
    "from google_play_scraper import Sort, reviews_all\n",
    "\n",
    "us_reviews = reviews_all(\n",
    "    'co.uk.getmondo',\n",
    "    sleep_milliseconds=0, # defaults to 0\n",
    "    lang='en', # defaults to 'en'\n",
    "    country='us', # defaults to 'us'\n",
    "    sort=Sort.NEWEST, # defaults to Sort.MOST_RELEVANT\n",
    ")\n",
    "\n",
    "df_mz = pd.DataFrame(np.array(us_reviews),columns=['review'])\n",
    "\n",
    "df_mz = df_mz.join(pd.DataFrame(df_mz.pop('review').tolist()))\n",
    "\n",
    "df_mz.to_csv(r'C:\\Users\\USER\\OneDrive - Solent University\\School Work\\COM 726\\AE1\\Dataset\\Monzo\\exported_mz14_review.csv', index=False, header=True)"
   ],
   "metadata": {
    "collapsed": false,
    "pycharm": {
     "name": "#%%\n"
    }
   }
  },
  {
   "cell_type": "code",
   "execution_count": 10,
   "outputs": [],
   "source": [
    "# 7th  December, 2022\n",
    "from google_play_scraper import app\n",
    "import pandas as pd\n",
    "\n",
    "import numpy as np\n",
    "\n",
    "from google_play_scraper import Sort, reviews_all\n",
    "\n",
    "us_reviews = reviews_all(\n",
    "    'co.uk.getmondo',\n",
    "    sleep_milliseconds=0, # defaults to 0\n",
    "    lang='en', # defaults to 'en'\n",
    "    country='us', # defaults to 'us'\n",
    "    sort=Sort.NEWEST, # defaults to Sort.MOST_RELEVANT\n",
    ")\n",
    "\n",
    "df_mz = pd.DataFrame(np.array(us_reviews),columns=['review'])\n",
    "\n",
    "df_mz = df_mz.join(pd.DataFrame(df_mz.pop('review').tolist()))\n",
    "\n",
    "df_mz.to_csv(r'C:\\Users\\USER\\OneDrive - Solent University\\School Work\\COM 726\\AE1\\Dataset\\Monzo\\exported_mz15_review.csv', index=False, header=True)"
   ],
   "metadata": {
    "collapsed": false,
    "pycharm": {
     "name": "#%%\n"
    }
   }
  },
  {
   "cell_type": "code",
   "execution_count": 1,
   "outputs": [],
   "source": [
    "# 8th  December, 2022\n",
    "from google_play_scraper import app\n",
    "import pandas as pd\n",
    "\n",
    "import numpy as np\n",
    "\n",
    "from google_play_scraper import Sort, reviews_all\n",
    "\n",
    "us_reviews = reviews_all(\n",
    "    'co.uk.getmondo',\n",
    "    sleep_milliseconds=0, # defaults to 0\n",
    "    lang='en', # defaults to 'en'\n",
    "    country='us', # defaults to 'us'\n",
    "    sort=Sort.NEWEST, # defaults to Sort.MOST_RELEVANT\n",
    ")\n",
    "\n",
    "df_mz = pd.DataFrame(np.array(us_reviews),columns=['review'])\n",
    "\n",
    "df_mz = df_mz.join(pd.DataFrame(df_mz.pop('review').tolist()))\n",
    "\n",
    "df_mz.to_csv(r'C:\\Users\\USER\\OneDrive - Solent University\\School Work\\COM 726\\AE1\\Dataset\\Monzo\\exported_mz16_review.csv', index=False, header=True)"
   ],
   "metadata": {
    "collapsed": false,
    "pycharm": {
     "name": "#%%\n"
    }
   }
  },
  {
   "cell_type": "code",
   "execution_count": 2,
   "outputs": [],
   "source": [
    "# 9th  December, 2022\n",
    "from google_play_scraper import app\n",
    "import pandas as pd\n",
    "\n",
    "import numpy as np\n",
    "\n",
    "from google_play_scraper import Sort, reviews_all\n",
    "\n",
    "us_reviews = reviews_all(\n",
    "    'co.uk.getmondo',\n",
    "    sleep_milliseconds=0, # defaults to 0\n",
    "    lang='en', # defaults to 'en'\n",
    "    country='us', # defaults to 'us'\n",
    "    sort=Sort.NEWEST, # defaults to Sort.MOST_RELEVANT\n",
    ")\n",
    "\n",
    "df_mz = pd.DataFrame(np.array(us_reviews),columns=['review'])\n",
    "\n",
    "df_mz = df_mz.join(pd.DataFrame(df_mz.pop('review').tolist()))\n",
    "\n",
    "df_mz.to_csv(r'C:\\Users\\USER\\OneDrive - Solent University\\School Work\\COM 726\\AE1\\Dataset\\Monzo\\exported_mz17_review.csv', index=False, header=True)"
   ],
   "metadata": {
    "collapsed": false,
    "pycharm": {
     "name": "#%%\n"
    }
   }
  },
  {
   "cell_type": "code",
   "execution_count": null,
   "outputs": [],
   "source": [
    "# 10th  December, 2022\n",
    "from google_play_scraper import app\n",
    "import pandas as pd\n",
    "\n",
    "import numpy as np\n",
    "\n",
    "from google_play_scraper import Sort, reviews_all\n",
    "\n",
    "us_reviews = reviews_all(\n",
    "    'co.uk.getmondo',\n",
    "    sleep_milliseconds=0, # defaults to 0\n",
    "    lang='en', # defaults to 'en'\n",
    "    country='us', # defaults to 'us'\n",
    "    sort=Sort.NEWEST, # defaults to Sort.MOST_RELEVANT\n",
    ")\n",
    "\n",
    "df_mz = pd.DataFrame(np.array(us_reviews),columns=['review'])\n",
    "\n",
    "df_mz = df_mz.join(pd.DataFrame(df_mz.pop('review').tolist()))\n",
    "\n",
    "df_mz.to_csv(r'C:\\Users\\USER\\OneDrive - Solent University\\School Work\\COM 726\\AE1\\Dataset\\Monzo\\exported_mz18_review.csv', index=False, header=True)"
   ],
   "metadata": {
    "collapsed": false,
    "pycharm": {
     "name": "#%%\n"
    }
   }
  },
  {
   "cell_type": "code",
   "execution_count": 1,
   "outputs": [],
   "source": [
    "# 11th  December, 2022\n",
    "from google_play_scraper import app\n",
    "import pandas as pd\n",
    "\n",
    "import numpy as np\n",
    "\n",
    "from google_play_scraper import Sort, reviews_all\n",
    "\n",
    "us_reviews = reviews_all(\n",
    "    'co.uk.getmondo',\n",
    "    sleep_milliseconds=0, # defaults to 0\n",
    "    lang='en', # defaults to 'en'\n",
    "    country='us', # defaults to 'us'\n",
    "    sort=Sort.NEWEST, # defaults to Sort.MOST_RELEVANT\n",
    ")\n",
    "\n",
    "df_mz = pd.DataFrame(np.array(us_reviews),columns=['review'])\n",
    "\n",
    "df_mz = df_mz.join(pd.DataFrame(df_mz.pop('review').tolist()))\n",
    "\n",
    "df_mz.to_csv(r'C:\\Users\\USER\\OneDrive - Solent University\\School Work\\COM 726\\AE1\\Dataset\\Monzo\\exported_mz19_review.csv', index=False, header=True)"
   ],
   "metadata": {
    "collapsed": false,
    "pycharm": {
     "name": "#%%\n"
    }
   }
  },
  {
   "cell_type": "code",
   "execution_count": 2,
   "outputs": [],
   "source": [
    "# 12th  December, 2022\n",
    "from google_play_scraper import app\n",
    "import pandas as pd\n",
    "\n",
    "import numpy as np\n",
    "\n",
    "from google_play_scraper import Sort, reviews_all\n",
    "\n",
    "us_reviews = reviews_all(\n",
    "    'co.uk.getmondo',\n",
    "    sleep_milliseconds=0, # defaults to 0\n",
    "    lang='en', # defaults to 'en'\n",
    "    country='us', # defaults to 'us'\n",
    "    sort=Sort.NEWEST, # defaults to Sort.MOST_RELEVANT\n",
    ")\n",
    "\n",
    "df_mz = pd.DataFrame(np.array(us_reviews),columns=['review'])\n",
    "\n",
    "df_mz = df_mz.join(pd.DataFrame(df_mz.pop('review').tolist()))\n",
    "\n",
    "df_mz.to_csv(r'C:\\Users\\USER\\OneDrive - Solent University\\School Work\\COM 726\\AE1\\Dataset\\Monzo\\exported_mz20_review.csv', index=False, header=True)"
   ],
   "metadata": {
    "collapsed": false,
    "pycharm": {
     "name": "#%%\n"
    }
   }
  },
  {
   "cell_type": "code",
   "execution_count": 3,
   "outputs": [],
   "source": [
    "# 13th  December, 2022\n",
    "from google_play_scraper import app\n",
    "import pandas as pd\n",
    "\n",
    "import numpy as np\n",
    "\n",
    "from google_play_scraper import Sort, reviews_all\n",
    "\n",
    "us_reviews = reviews_all(\n",
    "    'co.uk.getmondo',\n",
    "    sleep_milliseconds=0, # defaults to 0\n",
    "    lang='en', # defaults to 'en'\n",
    "    country='us', # defaults to 'us'\n",
    "    sort=Sort.NEWEST, # defaults to Sort.MOST_RELEVANT\n",
    ")\n",
    "\n",
    "df_mz = pd.DataFrame(np.array(us_reviews),columns=['review'])\n",
    "\n",
    "df_mz = df_mz.join(pd.DataFrame(df_mz.pop('review').tolist()))\n",
    "\n",
    "df_mz.to_csv(r'C:\\Users\\USER\\OneDrive - Solent University\\School Work\\COM 726\\AE1\\Dataset\\Monzo\\exported_mz21_review.csv', index=False, header=True)"
   ],
   "metadata": {
    "collapsed": false,
    "pycharm": {
     "name": "#%%\n"
    }
   }
  },
  {
   "cell_type": "code",
   "execution_count": 4,
   "outputs": [],
   "source": [
    "# 15th  December, 2022\n",
    "from google_play_scraper import app\n",
    "import pandas as pd\n",
    "\n",
    "import numpy as np\n",
    "\n",
    "from google_play_scraper import Sort, reviews_all\n",
    "\n",
    "us_reviews = reviews_all(\n",
    "    'co.uk.getmondo',\n",
    "    sleep_milliseconds=0, # defaults to 0\n",
    "    lang='en', # defaults to 'en'\n",
    "    country='us', # defaults to 'us'\n",
    "    sort=Sort.NEWEST, # defaults to Sort.MOST_RELEVANT\n",
    ")\n",
    "\n",
    "df_mz = pd.DataFrame(np.array(us_reviews),columns=['review'])\n",
    "\n",
    "df_mz = df_mz.join(pd.DataFrame(df_mz.pop('review').tolist()))\n",
    "\n",
    "df_mz.to_csv(r'C:\\Users\\USER\\OneDrive - Solent University\\School Work\\COM 726\\AE1\\Dataset\\Monzo\\exported_mz22_review.csv', index=False, header=True)"
   ],
   "metadata": {
    "collapsed": false,
    "pycharm": {
     "name": "#%%\n"
    }
   }
  },
  {
   "cell_type": "code",
   "execution_count": 5,
   "outputs": [],
   "source": [
    "# 16th  December, 2022\n",
    "from google_play_scraper import app\n",
    "import pandas as pd\n",
    "\n",
    "import numpy as np\n",
    "\n",
    "from google_play_scraper import Sort, reviews_all\n",
    "\n",
    "us_reviews = reviews_all(\n",
    "    'co.uk.getmondo',\n",
    "    sleep_milliseconds=0, # defaults to 0\n",
    "    lang='en', # defaults to 'en'\n",
    "    country='us', # defaults to 'us'\n",
    "    sort=Sort.NEWEST, # defaults to Sort.MOST_RELEVANT\n",
    ")\n",
    "\n",
    "df_mz = pd.DataFrame(np.array(us_reviews),columns=['review'])\n",
    "\n",
    "df_mz = df_mz.join(pd.DataFrame(df_mz.pop('review').tolist()))\n",
    "\n",
    "df_mz.to_csv(r'C:\\Users\\USER\\OneDrive - Solent University\\School Work\\COM 726\\AE1\\Dataset\\Monzo\\exported_mz23_review.csv', index=False, header=True)"
   ],
   "metadata": {
    "collapsed": false,
    "pycharm": {
     "name": "#%%\n"
    }
   }
  },
  {
   "cell_type": "code",
   "execution_count": null,
   "outputs": [
    {
     "ename": "URLError",
     "evalue": "<urlopen error [WinError 10053] An established connection was aborted by the software in your host machine>",
     "output_type": "error",
     "traceback": [
      "\u001B[1;31m---------------------------------------------------------------------------\u001B[0m",
      "\u001B[1;31mConnectionAbortedError\u001B[0m                    Traceback (most recent call last)",
      "File \u001B[1;32m~\\AppData\\Local\\Programs\\Python\\Python39\\lib\\urllib\\request.py:1346\u001B[0m, in \u001B[0;36mAbstractHTTPHandler.do_open\u001B[1;34m(self, http_class, req, **http_conn_args)\u001B[0m\n\u001B[0;32m   1345\u001B[0m \u001B[38;5;28;01mtry\u001B[39;00m:\n\u001B[1;32m-> 1346\u001B[0m     \u001B[43mh\u001B[49m\u001B[38;5;241;43m.\u001B[39;49m\u001B[43mrequest\u001B[49m\u001B[43m(\u001B[49m\u001B[43mreq\u001B[49m\u001B[38;5;241;43m.\u001B[39;49m\u001B[43mget_method\u001B[49m\u001B[43m(\u001B[49m\u001B[43m)\u001B[49m\u001B[43m,\u001B[49m\u001B[43m \u001B[49m\u001B[43mreq\u001B[49m\u001B[38;5;241;43m.\u001B[39;49m\u001B[43mselector\u001B[49m\u001B[43m,\u001B[49m\u001B[43m \u001B[49m\u001B[43mreq\u001B[49m\u001B[38;5;241;43m.\u001B[39;49m\u001B[43mdata\u001B[49m\u001B[43m,\u001B[49m\u001B[43m \u001B[49m\u001B[43mheaders\u001B[49m\u001B[43m,\u001B[49m\n\u001B[0;32m   1347\u001B[0m \u001B[43m              \u001B[49m\u001B[43mencode_chunked\u001B[49m\u001B[38;5;241;43m=\u001B[39;49m\u001B[43mreq\u001B[49m\u001B[38;5;241;43m.\u001B[39;49m\u001B[43mhas_header\u001B[49m\u001B[43m(\u001B[49m\u001B[38;5;124;43m'\u001B[39;49m\u001B[38;5;124;43mTransfer-encoding\u001B[39;49m\u001B[38;5;124;43m'\u001B[39;49m\u001B[43m)\u001B[49m\u001B[43m)\u001B[49m\n\u001B[0;32m   1348\u001B[0m \u001B[38;5;28;01mexcept\u001B[39;00m \u001B[38;5;167;01mOSError\u001B[39;00m \u001B[38;5;28;01mas\u001B[39;00m err: \u001B[38;5;66;03m# timeout error\u001B[39;00m\n",
      "File \u001B[1;32m~\\AppData\\Local\\Programs\\Python\\Python39\\lib\\http\\client.py:1279\u001B[0m, in \u001B[0;36mHTTPConnection.request\u001B[1;34m(self, method, url, body, headers, encode_chunked)\u001B[0m\n\u001B[0;32m   1278\u001B[0m \u001B[38;5;124;03m\"\"\"Send a complete request to the server.\"\"\"\u001B[39;00m\n\u001B[1;32m-> 1279\u001B[0m \u001B[38;5;28;43mself\u001B[39;49m\u001B[38;5;241;43m.\u001B[39;49m\u001B[43m_send_request\u001B[49m\u001B[43m(\u001B[49m\u001B[43mmethod\u001B[49m\u001B[43m,\u001B[49m\u001B[43m \u001B[49m\u001B[43murl\u001B[49m\u001B[43m,\u001B[49m\u001B[43m \u001B[49m\u001B[43mbody\u001B[49m\u001B[43m,\u001B[49m\u001B[43m \u001B[49m\u001B[43mheaders\u001B[49m\u001B[43m,\u001B[49m\u001B[43m \u001B[49m\u001B[43mencode_chunked\u001B[49m\u001B[43m)\u001B[49m\n",
      "File \u001B[1;32m~\\AppData\\Local\\Programs\\Python\\Python39\\lib\\http\\client.py:1325\u001B[0m, in \u001B[0;36mHTTPConnection._send_request\u001B[1;34m(self, method, url, body, headers, encode_chunked)\u001B[0m\n\u001B[0;32m   1324\u001B[0m     body \u001B[38;5;241m=\u001B[39m _encode(body, \u001B[38;5;124m'\u001B[39m\u001B[38;5;124mbody\u001B[39m\u001B[38;5;124m'\u001B[39m)\n\u001B[1;32m-> 1325\u001B[0m \u001B[38;5;28;43mself\u001B[39;49m\u001B[38;5;241;43m.\u001B[39;49m\u001B[43mendheaders\u001B[49m\u001B[43m(\u001B[49m\u001B[43mbody\u001B[49m\u001B[43m,\u001B[49m\u001B[43m \u001B[49m\u001B[43mencode_chunked\u001B[49m\u001B[38;5;241;43m=\u001B[39;49m\u001B[43mencode_chunked\u001B[49m\u001B[43m)\u001B[49m\n",
      "File \u001B[1;32m~\\AppData\\Local\\Programs\\Python\\Python39\\lib\\http\\client.py:1274\u001B[0m, in \u001B[0;36mHTTPConnection.endheaders\u001B[1;34m(self, message_body, encode_chunked)\u001B[0m\n\u001B[0;32m   1273\u001B[0m     \u001B[38;5;28;01mraise\u001B[39;00m CannotSendHeader()\n\u001B[1;32m-> 1274\u001B[0m \u001B[38;5;28;43mself\u001B[39;49m\u001B[38;5;241;43m.\u001B[39;49m\u001B[43m_send_output\u001B[49m\u001B[43m(\u001B[49m\u001B[43mmessage_body\u001B[49m\u001B[43m,\u001B[49m\u001B[43m \u001B[49m\u001B[43mencode_chunked\u001B[49m\u001B[38;5;241;43m=\u001B[39;49m\u001B[43mencode_chunked\u001B[49m\u001B[43m)\u001B[49m\n",
      "File \u001B[1;32m~\\AppData\\Local\\Programs\\Python\\Python39\\lib\\http\\client.py:1034\u001B[0m, in \u001B[0;36mHTTPConnection._send_output\u001B[1;34m(self, message_body, encode_chunked)\u001B[0m\n\u001B[0;32m   1033\u001B[0m \u001B[38;5;28;01mdel\u001B[39;00m \u001B[38;5;28mself\u001B[39m\u001B[38;5;241m.\u001B[39m_buffer[:]\n\u001B[1;32m-> 1034\u001B[0m \u001B[38;5;28;43mself\u001B[39;49m\u001B[38;5;241;43m.\u001B[39;49m\u001B[43msend\u001B[49m\u001B[43m(\u001B[49m\u001B[43mmsg\u001B[49m\u001B[43m)\u001B[49m\n\u001B[0;32m   1036\u001B[0m \u001B[38;5;28;01mif\u001B[39;00m message_body \u001B[38;5;129;01mis\u001B[39;00m \u001B[38;5;129;01mnot\u001B[39;00m \u001B[38;5;28;01mNone\u001B[39;00m:\n\u001B[0;32m   1037\u001B[0m \n\u001B[0;32m   1038\u001B[0m     \u001B[38;5;66;03m# create a consistent interface to message_body\u001B[39;00m\n",
      "File \u001B[1;32m~\\AppData\\Local\\Programs\\Python\\Python39\\lib\\http\\client.py:974\u001B[0m, in \u001B[0;36mHTTPConnection.send\u001B[1;34m(self, data)\u001B[0m\n\u001B[0;32m    973\u001B[0m \u001B[38;5;28;01mif\u001B[39;00m \u001B[38;5;28mself\u001B[39m\u001B[38;5;241m.\u001B[39mauto_open:\n\u001B[1;32m--> 974\u001B[0m     \u001B[38;5;28;43mself\u001B[39;49m\u001B[38;5;241;43m.\u001B[39;49m\u001B[43mconnect\u001B[49m\u001B[43m(\u001B[49m\u001B[43m)\u001B[49m\n\u001B[0;32m    975\u001B[0m \u001B[38;5;28;01melse\u001B[39;00m:\n",
      "File \u001B[1;32m~\\AppData\\Local\\Programs\\Python\\Python39\\lib\\http\\client.py:1448\u001B[0m, in \u001B[0;36mHTTPSConnection.connect\u001B[1;34m(self)\u001B[0m\n\u001B[0;32m   1446\u001B[0m     server_hostname \u001B[38;5;241m=\u001B[39m \u001B[38;5;28mself\u001B[39m\u001B[38;5;241m.\u001B[39mhost\n\u001B[1;32m-> 1448\u001B[0m \u001B[38;5;28mself\u001B[39m\u001B[38;5;241m.\u001B[39msock \u001B[38;5;241m=\u001B[39m \u001B[38;5;28;43mself\u001B[39;49m\u001B[38;5;241;43m.\u001B[39;49m\u001B[43m_context\u001B[49m\u001B[38;5;241;43m.\u001B[39;49m\u001B[43mwrap_socket\u001B[49m\u001B[43m(\u001B[49m\u001B[38;5;28;43mself\u001B[39;49m\u001B[38;5;241;43m.\u001B[39;49m\u001B[43msock\u001B[49m\u001B[43m,\u001B[49m\n\u001B[0;32m   1449\u001B[0m \u001B[43m                                      \u001B[49m\u001B[43mserver_hostname\u001B[49m\u001B[38;5;241;43m=\u001B[39;49m\u001B[43mserver_hostname\u001B[49m\u001B[43m)\u001B[49m\n",
      "File \u001B[1;32m~\\AppData\\Local\\Programs\\Python\\Python39\\lib\\ssl.py:500\u001B[0m, in \u001B[0;36mSSLContext.wrap_socket\u001B[1;34m(self, sock, server_side, do_handshake_on_connect, suppress_ragged_eofs, server_hostname, session)\u001B[0m\n\u001B[0;32m    494\u001B[0m \u001B[38;5;28;01mdef\u001B[39;00m \u001B[38;5;21mwrap_socket\u001B[39m(\u001B[38;5;28mself\u001B[39m, sock, server_side\u001B[38;5;241m=\u001B[39m\u001B[38;5;28;01mFalse\u001B[39;00m,\n\u001B[0;32m    495\u001B[0m                 do_handshake_on_connect\u001B[38;5;241m=\u001B[39m\u001B[38;5;28;01mTrue\u001B[39;00m,\n\u001B[0;32m    496\u001B[0m                 suppress_ragged_eofs\u001B[38;5;241m=\u001B[39m\u001B[38;5;28;01mTrue\u001B[39;00m,\n\u001B[0;32m    497\u001B[0m                 server_hostname\u001B[38;5;241m=\u001B[39m\u001B[38;5;28;01mNone\u001B[39;00m, session\u001B[38;5;241m=\u001B[39m\u001B[38;5;28;01mNone\u001B[39;00m):\n\u001B[0;32m    498\u001B[0m     \u001B[38;5;66;03m# SSLSocket class handles server_hostname encoding before it calls\u001B[39;00m\n\u001B[0;32m    499\u001B[0m     \u001B[38;5;66;03m# ctx._wrap_socket()\u001B[39;00m\n\u001B[1;32m--> 500\u001B[0m     \u001B[38;5;28;01mreturn\u001B[39;00m \u001B[38;5;28;43mself\u001B[39;49m\u001B[38;5;241;43m.\u001B[39;49m\u001B[43msslsocket_class\u001B[49m\u001B[38;5;241;43m.\u001B[39;49m\u001B[43m_create\u001B[49m\u001B[43m(\u001B[49m\n\u001B[0;32m    501\u001B[0m \u001B[43m        \u001B[49m\u001B[43msock\u001B[49m\u001B[38;5;241;43m=\u001B[39;49m\u001B[43msock\u001B[49m\u001B[43m,\u001B[49m\n\u001B[0;32m    502\u001B[0m \u001B[43m        \u001B[49m\u001B[43mserver_side\u001B[49m\u001B[38;5;241;43m=\u001B[39;49m\u001B[43mserver_side\u001B[49m\u001B[43m,\u001B[49m\n\u001B[0;32m    503\u001B[0m \u001B[43m        \u001B[49m\u001B[43mdo_handshake_on_connect\u001B[49m\u001B[38;5;241;43m=\u001B[39;49m\u001B[43mdo_handshake_on_connect\u001B[49m\u001B[43m,\u001B[49m\n\u001B[0;32m    504\u001B[0m \u001B[43m        \u001B[49m\u001B[43msuppress_ragged_eofs\u001B[49m\u001B[38;5;241;43m=\u001B[39;49m\u001B[43msuppress_ragged_eofs\u001B[49m\u001B[43m,\u001B[49m\n\u001B[0;32m    505\u001B[0m \u001B[43m        \u001B[49m\u001B[43mserver_hostname\u001B[49m\u001B[38;5;241;43m=\u001B[39;49m\u001B[43mserver_hostname\u001B[49m\u001B[43m,\u001B[49m\n\u001B[0;32m    506\u001B[0m \u001B[43m        \u001B[49m\u001B[43mcontext\u001B[49m\u001B[38;5;241;43m=\u001B[39;49m\u001B[38;5;28;43mself\u001B[39;49m\u001B[43m,\u001B[49m\n\u001B[0;32m    507\u001B[0m \u001B[43m        \u001B[49m\u001B[43msession\u001B[49m\u001B[38;5;241;43m=\u001B[39;49m\u001B[43msession\u001B[49m\n\u001B[0;32m    508\u001B[0m \u001B[43m    \u001B[49m\u001B[43m)\u001B[49m\n",
      "File \u001B[1;32m~\\AppData\\Local\\Programs\\Python\\Python39\\lib\\ssl.py:1040\u001B[0m, in \u001B[0;36mSSLSocket._create\u001B[1;34m(cls, sock, server_side, do_handshake_on_connect, suppress_ragged_eofs, server_hostname, context, session)\u001B[0m\n\u001B[0;32m   1039\u001B[0m             \u001B[38;5;28;01mraise\u001B[39;00m \u001B[38;5;167;01mValueError\u001B[39;00m(\u001B[38;5;124m\"\u001B[39m\u001B[38;5;124mdo_handshake_on_connect should not be specified for non-blocking sockets\u001B[39m\u001B[38;5;124m\"\u001B[39m)\n\u001B[1;32m-> 1040\u001B[0m         \u001B[38;5;28;43mself\u001B[39;49m\u001B[38;5;241;43m.\u001B[39;49m\u001B[43mdo_handshake\u001B[49m\u001B[43m(\u001B[49m\u001B[43m)\u001B[49m\n\u001B[0;32m   1041\u001B[0m \u001B[38;5;28;01mexcept\u001B[39;00m (\u001B[38;5;167;01mOSError\u001B[39;00m, \u001B[38;5;167;01mValueError\u001B[39;00m):\n",
      "File \u001B[1;32m~\\AppData\\Local\\Programs\\Python\\Python39\\lib\\ssl.py:1309\u001B[0m, in \u001B[0;36mSSLSocket.do_handshake\u001B[1;34m(self, block)\u001B[0m\n\u001B[0;32m   1308\u001B[0m         \u001B[38;5;28mself\u001B[39m\u001B[38;5;241m.\u001B[39msettimeout(\u001B[38;5;28;01mNone\u001B[39;00m)\n\u001B[1;32m-> 1309\u001B[0m     \u001B[38;5;28;43mself\u001B[39;49m\u001B[38;5;241;43m.\u001B[39;49m\u001B[43m_sslobj\u001B[49m\u001B[38;5;241;43m.\u001B[39;49m\u001B[43mdo_handshake\u001B[49m\u001B[43m(\u001B[49m\u001B[43m)\u001B[49m\n\u001B[0;32m   1310\u001B[0m \u001B[38;5;28;01mfinally\u001B[39;00m:\n",
      "\u001B[1;31mConnectionAbortedError\u001B[0m: [WinError 10053] An established connection was aborted by the software in your host machine",
      "\nDuring handling of the above exception, another exception occurred:\n",
      "\u001B[1;31mURLError\u001B[0m                                  Traceback (most recent call last)",
      "Cell \u001B[1;32mIn [6], line 9\u001B[0m\n\u001B[0;32m      5\u001B[0m \u001B[38;5;28;01mimport\u001B[39;00m \u001B[38;5;21;01mnumpy\u001B[39;00m \u001B[38;5;28;01mas\u001B[39;00m \u001B[38;5;21;01mnp\u001B[39;00m\n\u001B[0;32m      7\u001B[0m \u001B[38;5;28;01mfrom\u001B[39;00m \u001B[38;5;21;01mgoogle_play_scraper\u001B[39;00m \u001B[38;5;28;01mimport\u001B[39;00m Sort, reviews_all\n\u001B[1;32m----> 9\u001B[0m us_reviews \u001B[38;5;241m=\u001B[39m \u001B[43mreviews_all\u001B[49m\u001B[43m(\u001B[49m\n\u001B[0;32m     10\u001B[0m \u001B[43m    \u001B[49m\u001B[38;5;124;43m'\u001B[39;49m\u001B[38;5;124;43mco.uk.getmondo\u001B[39;49m\u001B[38;5;124;43m'\u001B[39;49m\u001B[43m,\u001B[49m\n\u001B[0;32m     11\u001B[0m \u001B[43m    \u001B[49m\u001B[43msleep_milliseconds\u001B[49m\u001B[38;5;241;43m=\u001B[39;49m\u001B[38;5;241;43m0\u001B[39;49m\u001B[43m,\u001B[49m\u001B[43m \u001B[49m\u001B[38;5;66;43;03m# defaults to 0\u001B[39;49;00m\n\u001B[0;32m     12\u001B[0m \u001B[43m    \u001B[49m\u001B[43mlang\u001B[49m\u001B[38;5;241;43m=\u001B[39;49m\u001B[38;5;124;43m'\u001B[39;49m\u001B[38;5;124;43men\u001B[39;49m\u001B[38;5;124;43m'\u001B[39;49m\u001B[43m,\u001B[49m\u001B[43m \u001B[49m\u001B[38;5;66;43;03m# defaults to 'en'\u001B[39;49;00m\n\u001B[0;32m     13\u001B[0m \u001B[43m    \u001B[49m\u001B[43mcountry\u001B[49m\u001B[38;5;241;43m=\u001B[39;49m\u001B[38;5;124;43m'\u001B[39;49m\u001B[38;5;124;43mus\u001B[39;49m\u001B[38;5;124;43m'\u001B[39;49m\u001B[43m,\u001B[49m\u001B[43m \u001B[49m\u001B[38;5;66;43;03m# defaults to 'us'\u001B[39;49;00m\n\u001B[0;32m     14\u001B[0m \u001B[43m    \u001B[49m\u001B[43msort\u001B[49m\u001B[38;5;241;43m=\u001B[39;49m\u001B[43mSort\u001B[49m\u001B[38;5;241;43m.\u001B[39;49m\u001B[43mNEWEST\u001B[49m\u001B[43m,\u001B[49m\u001B[43m \u001B[49m\u001B[38;5;66;43;03m# defaults to Sort.MOST_RELEVANT\u001B[39;49;00m\n\u001B[0;32m     15\u001B[0m \u001B[43m)\u001B[49m\n\u001B[0;32m     17\u001B[0m df_mz \u001B[38;5;241m=\u001B[39m pd\u001B[38;5;241m.\u001B[39mDataFrame(np\u001B[38;5;241m.\u001B[39marray(us_reviews),columns\u001B[38;5;241m=\u001B[39m[\u001B[38;5;124m'\u001B[39m\u001B[38;5;124mreview\u001B[39m\u001B[38;5;124m'\u001B[39m])\n\u001B[0;32m     19\u001B[0m df_mz \u001B[38;5;241m=\u001B[39m df_mz\u001B[38;5;241m.\u001B[39mjoin(pd\u001B[38;5;241m.\u001B[39mDataFrame(df_mz\u001B[38;5;241m.\u001B[39mpop(\u001B[38;5;124m'\u001B[39m\u001B[38;5;124mreview\u001B[39m\u001B[38;5;124m'\u001B[39m)\u001B[38;5;241m.\u001B[39mtolist()))\n",
      "File \u001B[1;32m~\\Desktop\\School Work\\COM 726\\venv\\lib\\site-packages\\google_play_scraper\\features\\reviews.py:129\u001B[0m, in \u001B[0;36mreviews_all\u001B[1;34m(app_id, sleep_milliseconds, **kwargs)\u001B[0m\n\u001B[0;32m    126\u001B[0m result \u001B[38;5;241m=\u001B[39m []\n\u001B[0;32m    128\u001B[0m \u001B[38;5;28;01mwhile\u001B[39;00m \u001B[38;5;28;01mTrue\u001B[39;00m:\n\u001B[1;32m--> 129\u001B[0m     _result, continuation_token \u001B[38;5;241m=\u001B[39m reviews(\n\u001B[0;32m    130\u001B[0m         app_id,\n\u001B[0;32m    131\u001B[0m         count\u001B[38;5;241m=\u001B[39mMAX_COUNT_EACH_FETCH,\n\u001B[0;32m    132\u001B[0m         continuation_token\u001B[38;5;241m=\u001B[39mcontinuation_token,\n\u001B[0;32m    133\u001B[0m         \u001B[38;5;241m*\u001B[39m\u001B[38;5;241m*\u001B[39mkwargs\n\u001B[0;32m    134\u001B[0m     )\n\u001B[0;32m    136\u001B[0m     result \u001B[38;5;241m+\u001B[39m\u001B[38;5;241m=\u001B[39m _result\n\u001B[0;32m    138\u001B[0m     \u001B[38;5;28;01mif\u001B[39;00m continuation_token\u001B[38;5;241m.\u001B[39mtoken \u001B[38;5;129;01mis\u001B[39;00m \u001B[38;5;28;01mNone\u001B[39;00m:\n",
      "File \u001B[1;32m~\\Desktop\\School Work\\COM 726\\venv\\lib\\site-packages\\google_play_scraper\\features\\reviews.py:93\u001B[0m, in \u001B[0;36mreviews\u001B[1;34m(app_id, lang, country, sort, count, filter_score_with, continuation_token)\u001B[0m\n\u001B[0;32m     90\u001B[0m     _fetch_count \u001B[38;5;241m=\u001B[39m MAX_COUNT_EACH_FETCH\n\u001B[0;32m     92\u001B[0m \u001B[38;5;28;01mtry\u001B[39;00m:\n\u001B[1;32m---> 93\u001B[0m     review_items, token \u001B[38;5;241m=\u001B[39m \u001B[43m_fetch_review_items\u001B[49m\u001B[43m(\u001B[49m\n\u001B[0;32m     94\u001B[0m \u001B[43m        \u001B[49m\u001B[43murl\u001B[49m\u001B[43m,\u001B[49m\u001B[43m \u001B[49m\u001B[43mapp_id\u001B[49m\u001B[43m,\u001B[49m\u001B[43m \u001B[49m\u001B[43msort\u001B[49m\u001B[43m,\u001B[49m\u001B[43m \u001B[49m\u001B[43m_fetch_count\u001B[49m\u001B[43m,\u001B[49m\u001B[43m \u001B[49m\u001B[43mfilter_score_with\u001B[49m\u001B[43m,\u001B[49m\u001B[43m \u001B[49m\u001B[43mtoken\u001B[49m\n\u001B[0;32m     95\u001B[0m \u001B[43m    \u001B[49m\u001B[43m)\u001B[49m\n\u001B[0;32m     96\u001B[0m \u001B[38;5;28;01mexcept\u001B[39;00m (\u001B[38;5;167;01mTypeError\u001B[39;00m, \u001B[38;5;167;01mIndexError\u001B[39;00m):\n\u001B[0;32m     97\u001B[0m     token \u001B[38;5;241m=\u001B[39m \u001B[38;5;28;01mNone\u001B[39;00m\n",
      "File \u001B[1;32m~\\Desktop\\School Work\\COM 726\\venv\\lib\\site-packages\\google_play_scraper\\features\\reviews.py:36\u001B[0m, in \u001B[0;36m_fetch_review_items\u001B[1;34m(url, app_id, sort, count, filter_score_with, pagination_token)\u001B[0m\n\u001B[0;32m     28\u001B[0m \u001B[38;5;28;01mdef\u001B[39;00m \u001B[38;5;21m_fetch_review_items\u001B[39m(\n\u001B[0;32m     29\u001B[0m     url: \u001B[38;5;28mstr\u001B[39m,\n\u001B[0;32m     30\u001B[0m     app_id: \u001B[38;5;28mstr\u001B[39m,\n\u001B[1;32m   (...)\u001B[0m\n\u001B[0;32m     34\u001B[0m     pagination_token: Optional[\u001B[38;5;28mstr\u001B[39m],\n\u001B[0;32m     35\u001B[0m ):\n\u001B[1;32m---> 36\u001B[0m     dom \u001B[38;5;241m=\u001B[39m \u001B[43mpost\u001B[49m\u001B[43m(\u001B[49m\n\u001B[0;32m     37\u001B[0m \u001B[43m        \u001B[49m\u001B[43murl\u001B[49m\u001B[43m,\u001B[49m\n\u001B[0;32m     38\u001B[0m \u001B[43m        \u001B[49m\u001B[43mFormats\u001B[49m\u001B[38;5;241;43m.\u001B[39;49m\u001B[43mReviews\u001B[49m\u001B[38;5;241;43m.\u001B[39;49m\u001B[43mbuild_body\u001B[49m\u001B[43m(\u001B[49m\n\u001B[0;32m     39\u001B[0m \u001B[43m            \u001B[49m\u001B[43mapp_id\u001B[49m\u001B[43m,\u001B[49m\n\u001B[0;32m     40\u001B[0m \u001B[43m            \u001B[49m\u001B[43msort\u001B[49m\u001B[43m,\u001B[49m\n\u001B[0;32m     41\u001B[0m \u001B[43m            \u001B[49m\u001B[43mcount\u001B[49m\u001B[43m,\u001B[49m\n\u001B[0;32m     42\u001B[0m \u001B[43m            \u001B[49m\u001B[38;5;124;43m\"\u001B[39;49m\u001B[38;5;124;43mnull\u001B[39;49m\u001B[38;5;124;43m\"\u001B[39;49m\u001B[43m \u001B[49m\u001B[38;5;28;43;01mif\u001B[39;49;00m\u001B[43m \u001B[49m\u001B[43mfilter_score_with\u001B[49m\u001B[43m \u001B[49m\u001B[38;5;129;43;01mis\u001B[39;49;00m\u001B[43m \u001B[49m\u001B[38;5;28;43;01mNone\u001B[39;49;00m\u001B[43m \u001B[49m\u001B[38;5;28;43;01melse\u001B[39;49;00m\u001B[43m \u001B[49m\u001B[43mfilter_score_with\u001B[49m\u001B[43m,\u001B[49m\n\u001B[0;32m     43\u001B[0m \u001B[43m            \u001B[49m\u001B[43mpagination_token\u001B[49m\u001B[43m,\u001B[49m\n\u001B[0;32m     44\u001B[0m \u001B[43m        \u001B[49m\u001B[43m)\u001B[49m\u001B[43m,\u001B[49m\n\u001B[0;32m     45\u001B[0m \u001B[43m        \u001B[49m\u001B[43m{\u001B[49m\u001B[38;5;124;43m\"\u001B[39;49m\u001B[38;5;124;43mcontent-type\u001B[39;49m\u001B[38;5;124;43m\"\u001B[39;49m\u001B[43m:\u001B[49m\u001B[43m \u001B[49m\u001B[38;5;124;43m\"\u001B[39;49m\u001B[38;5;124;43mapplication/x-www-form-urlencoded\u001B[39;49m\u001B[38;5;124;43m\"\u001B[39;49m\u001B[43m}\u001B[49m\u001B[43m,\u001B[49m\n\u001B[0;32m     46\u001B[0m \u001B[43m    \u001B[49m\u001B[43m)\u001B[49m\n\u001B[0;32m     48\u001B[0m     match \u001B[38;5;241m=\u001B[39m json\u001B[38;5;241m.\u001B[39mloads(Regex\u001B[38;5;241m.\u001B[39mREVIEWS\u001B[38;5;241m.\u001B[39mfindall(dom)[\u001B[38;5;241m0\u001B[39m])\n\u001B[0;32m     50\u001B[0m     \u001B[38;5;28;01mreturn\u001B[39;00m json\u001B[38;5;241m.\u001B[39mloads(match[\u001B[38;5;241m0\u001B[39m][\u001B[38;5;241m2\u001B[39m])[\u001B[38;5;241m0\u001B[39m], json\u001B[38;5;241m.\u001B[39mloads(match[\u001B[38;5;241m0\u001B[39m][\u001B[38;5;241m2\u001B[39m])[\u001B[38;5;241m-\u001B[39m\u001B[38;5;241m1\u001B[39m][\u001B[38;5;241m-\u001B[39m\u001B[38;5;241m1\u001B[39m]\n",
      "File \u001B[1;32m~\\Desktop\\School Work\\COM 726\\venv\\lib\\site-packages\\google_play_scraper\\utils\\request.py:24\u001B[0m, in \u001B[0;36mpost\u001B[1;34m(url, data, headers)\u001B[0m\n\u001B[0;32m     23\u001B[0m \u001B[38;5;28;01mdef\u001B[39;00m \u001B[38;5;21mpost\u001B[39m(url: \u001B[38;5;28mstr\u001B[39m, data: Union[\u001B[38;5;28mstr\u001B[39m, \u001B[38;5;28mbytes\u001B[39m], headers: \u001B[38;5;28mdict\u001B[39m) \u001B[38;5;241m-\u001B[39m\u001B[38;5;241m>\u001B[39m \u001B[38;5;28mstr\u001B[39m:\n\u001B[1;32m---> 24\u001B[0m     \u001B[38;5;28;01mreturn\u001B[39;00m \u001B[43m_urlopen\u001B[49m\u001B[43m(\u001B[49m\u001B[43mRequest\u001B[49m\u001B[43m(\u001B[49m\u001B[43murl\u001B[49m\u001B[43m,\u001B[49m\u001B[43m \u001B[49m\u001B[43mdata\u001B[49m\u001B[38;5;241;43m=\u001B[39;49m\u001B[43mdata\u001B[49m\u001B[43m,\u001B[49m\u001B[43m \u001B[49m\u001B[43mheaders\u001B[49m\u001B[38;5;241;43m=\u001B[39;49m\u001B[43mheaders\u001B[49m\u001B[43m)\u001B[49m\u001B[43m)\u001B[49m\n",
      "File \u001B[1;32m~\\Desktop\\School Work\\COM 726\\venv\\lib\\site-packages\\google_play_scraper\\utils\\request.py:11\u001B[0m, in \u001B[0;36m_urlopen\u001B[1;34m(obj)\u001B[0m\n\u001B[0;32m      9\u001B[0m \u001B[38;5;28;01mdef\u001B[39;00m \u001B[38;5;21m_urlopen\u001B[39m(obj):\n\u001B[0;32m     10\u001B[0m     \u001B[38;5;28;01mtry\u001B[39;00m:\n\u001B[1;32m---> 11\u001B[0m         resp \u001B[38;5;241m=\u001B[39m \u001B[43murlopen\u001B[49m\u001B[43m(\u001B[49m\u001B[43mobj\u001B[49m\u001B[43m)\u001B[49m\n\u001B[0;32m     12\u001B[0m     \u001B[38;5;28;01mexcept\u001B[39;00m HTTPError \u001B[38;5;28;01mas\u001B[39;00m e:\n\u001B[0;32m     13\u001B[0m         \u001B[38;5;28;01mif\u001B[39;00m e\u001B[38;5;241m.\u001B[39mcode \u001B[38;5;241m==\u001B[39m \u001B[38;5;241m404\u001B[39m:\n",
      "File \u001B[1;32m~\\AppData\\Local\\Programs\\Python\\Python39\\lib\\urllib\\request.py:214\u001B[0m, in \u001B[0;36murlopen\u001B[1;34m(url, data, timeout, cafile, capath, cadefault, context)\u001B[0m\n\u001B[0;32m    212\u001B[0m \u001B[38;5;28;01melse\u001B[39;00m:\n\u001B[0;32m    213\u001B[0m     opener \u001B[38;5;241m=\u001B[39m _opener\n\u001B[1;32m--> 214\u001B[0m \u001B[38;5;28;01mreturn\u001B[39;00m \u001B[43mopener\u001B[49m\u001B[38;5;241;43m.\u001B[39;49m\u001B[43mopen\u001B[49m\u001B[43m(\u001B[49m\u001B[43murl\u001B[49m\u001B[43m,\u001B[49m\u001B[43m \u001B[49m\u001B[43mdata\u001B[49m\u001B[43m,\u001B[49m\u001B[43m \u001B[49m\u001B[43mtimeout\u001B[49m\u001B[43m)\u001B[49m\n",
      "File \u001B[1;32m~\\AppData\\Local\\Programs\\Python\\Python39\\lib\\urllib\\request.py:517\u001B[0m, in \u001B[0;36mOpenerDirector.open\u001B[1;34m(self, fullurl, data, timeout)\u001B[0m\n\u001B[0;32m    514\u001B[0m     req \u001B[38;5;241m=\u001B[39m meth(req)\n\u001B[0;32m    516\u001B[0m sys\u001B[38;5;241m.\u001B[39maudit(\u001B[38;5;124m'\u001B[39m\u001B[38;5;124murllib.Request\u001B[39m\u001B[38;5;124m'\u001B[39m, req\u001B[38;5;241m.\u001B[39mfull_url, req\u001B[38;5;241m.\u001B[39mdata, req\u001B[38;5;241m.\u001B[39mheaders, req\u001B[38;5;241m.\u001B[39mget_method())\n\u001B[1;32m--> 517\u001B[0m response \u001B[38;5;241m=\u001B[39m \u001B[38;5;28;43mself\u001B[39;49m\u001B[38;5;241;43m.\u001B[39;49m\u001B[43m_open\u001B[49m\u001B[43m(\u001B[49m\u001B[43mreq\u001B[49m\u001B[43m,\u001B[49m\u001B[43m \u001B[49m\u001B[43mdata\u001B[49m\u001B[43m)\u001B[49m\n\u001B[0;32m    519\u001B[0m \u001B[38;5;66;03m# post-process response\u001B[39;00m\n\u001B[0;32m    520\u001B[0m meth_name \u001B[38;5;241m=\u001B[39m protocol\u001B[38;5;241m+\u001B[39m\u001B[38;5;124m\"\u001B[39m\u001B[38;5;124m_response\u001B[39m\u001B[38;5;124m\"\u001B[39m\n",
      "File \u001B[1;32m~\\AppData\\Local\\Programs\\Python\\Python39\\lib\\urllib\\request.py:534\u001B[0m, in \u001B[0;36mOpenerDirector._open\u001B[1;34m(self, req, data)\u001B[0m\n\u001B[0;32m    531\u001B[0m     \u001B[38;5;28;01mreturn\u001B[39;00m result\n\u001B[0;32m    533\u001B[0m protocol \u001B[38;5;241m=\u001B[39m req\u001B[38;5;241m.\u001B[39mtype\n\u001B[1;32m--> 534\u001B[0m result \u001B[38;5;241m=\u001B[39m \u001B[38;5;28;43mself\u001B[39;49m\u001B[38;5;241;43m.\u001B[39;49m\u001B[43m_call_chain\u001B[49m\u001B[43m(\u001B[49m\u001B[38;5;28;43mself\u001B[39;49m\u001B[38;5;241;43m.\u001B[39;49m\u001B[43mhandle_open\u001B[49m\u001B[43m,\u001B[49m\u001B[43m \u001B[49m\u001B[43mprotocol\u001B[49m\u001B[43m,\u001B[49m\u001B[43m \u001B[49m\u001B[43mprotocol\u001B[49m\u001B[43m \u001B[49m\u001B[38;5;241;43m+\u001B[39;49m\n\u001B[0;32m    535\u001B[0m \u001B[43m                          \u001B[49m\u001B[38;5;124;43m'\u001B[39;49m\u001B[38;5;124;43m_open\u001B[39;49m\u001B[38;5;124;43m'\u001B[39;49m\u001B[43m,\u001B[49m\u001B[43m \u001B[49m\u001B[43mreq\u001B[49m\u001B[43m)\u001B[49m\n\u001B[0;32m    536\u001B[0m \u001B[38;5;28;01mif\u001B[39;00m result:\n\u001B[0;32m    537\u001B[0m     \u001B[38;5;28;01mreturn\u001B[39;00m result\n",
      "File \u001B[1;32m~\\AppData\\Local\\Programs\\Python\\Python39\\lib\\urllib\\request.py:494\u001B[0m, in \u001B[0;36mOpenerDirector._call_chain\u001B[1;34m(self, chain, kind, meth_name, *args)\u001B[0m\n\u001B[0;32m    492\u001B[0m \u001B[38;5;28;01mfor\u001B[39;00m handler \u001B[38;5;129;01min\u001B[39;00m handlers:\n\u001B[0;32m    493\u001B[0m     func \u001B[38;5;241m=\u001B[39m \u001B[38;5;28mgetattr\u001B[39m(handler, meth_name)\n\u001B[1;32m--> 494\u001B[0m     result \u001B[38;5;241m=\u001B[39m \u001B[43mfunc\u001B[49m\u001B[43m(\u001B[49m\u001B[38;5;241;43m*\u001B[39;49m\u001B[43margs\u001B[49m\u001B[43m)\u001B[49m\n\u001B[0;32m    495\u001B[0m     \u001B[38;5;28;01mif\u001B[39;00m result \u001B[38;5;129;01mis\u001B[39;00m \u001B[38;5;129;01mnot\u001B[39;00m \u001B[38;5;28;01mNone\u001B[39;00m:\n\u001B[0;32m    496\u001B[0m         \u001B[38;5;28;01mreturn\u001B[39;00m result\n",
      "File \u001B[1;32m~\\AppData\\Local\\Programs\\Python\\Python39\\lib\\urllib\\request.py:1389\u001B[0m, in \u001B[0;36mHTTPSHandler.https_open\u001B[1;34m(self, req)\u001B[0m\n\u001B[0;32m   1388\u001B[0m \u001B[38;5;28;01mdef\u001B[39;00m \u001B[38;5;21mhttps_open\u001B[39m(\u001B[38;5;28mself\u001B[39m, req):\n\u001B[1;32m-> 1389\u001B[0m     \u001B[38;5;28;01mreturn\u001B[39;00m \u001B[38;5;28;43mself\u001B[39;49m\u001B[38;5;241;43m.\u001B[39;49m\u001B[43mdo_open\u001B[49m\u001B[43m(\u001B[49m\u001B[43mhttp\u001B[49m\u001B[38;5;241;43m.\u001B[39;49m\u001B[43mclient\u001B[49m\u001B[38;5;241;43m.\u001B[39;49m\u001B[43mHTTPSConnection\u001B[49m\u001B[43m,\u001B[49m\u001B[43m \u001B[49m\u001B[43mreq\u001B[49m\u001B[43m,\u001B[49m\n\u001B[0;32m   1390\u001B[0m \u001B[43m        \u001B[49m\u001B[43mcontext\u001B[49m\u001B[38;5;241;43m=\u001B[39;49m\u001B[38;5;28;43mself\u001B[39;49m\u001B[38;5;241;43m.\u001B[39;49m\u001B[43m_context\u001B[49m\u001B[43m,\u001B[49m\u001B[43m \u001B[49m\u001B[43mcheck_hostname\u001B[49m\u001B[38;5;241;43m=\u001B[39;49m\u001B[38;5;28;43mself\u001B[39;49m\u001B[38;5;241;43m.\u001B[39;49m\u001B[43m_check_hostname\u001B[49m\u001B[43m)\u001B[49m\n",
      "File \u001B[1;32m~\\AppData\\Local\\Programs\\Python\\Python39\\lib\\urllib\\request.py:1349\u001B[0m, in \u001B[0;36mAbstractHTTPHandler.do_open\u001B[1;34m(self, http_class, req, **http_conn_args)\u001B[0m\n\u001B[0;32m   1346\u001B[0m         h\u001B[38;5;241m.\u001B[39mrequest(req\u001B[38;5;241m.\u001B[39mget_method(), req\u001B[38;5;241m.\u001B[39mselector, req\u001B[38;5;241m.\u001B[39mdata, headers,\n\u001B[0;32m   1347\u001B[0m                   encode_chunked\u001B[38;5;241m=\u001B[39mreq\u001B[38;5;241m.\u001B[39mhas_header(\u001B[38;5;124m'\u001B[39m\u001B[38;5;124mTransfer-encoding\u001B[39m\u001B[38;5;124m'\u001B[39m))\n\u001B[0;32m   1348\u001B[0m     \u001B[38;5;28;01mexcept\u001B[39;00m \u001B[38;5;167;01mOSError\u001B[39;00m \u001B[38;5;28;01mas\u001B[39;00m err: \u001B[38;5;66;03m# timeout error\u001B[39;00m\n\u001B[1;32m-> 1349\u001B[0m         \u001B[38;5;28;01mraise\u001B[39;00m URLError(err)\n\u001B[0;32m   1350\u001B[0m     r \u001B[38;5;241m=\u001B[39m h\u001B[38;5;241m.\u001B[39mgetresponse()\n\u001B[0;32m   1351\u001B[0m \u001B[38;5;28;01mexcept\u001B[39;00m:\n",
      "\u001B[1;31mURLError\u001B[0m: <urlopen error [WinError 10053] An established connection was aborted by the software in your host machine>"
     ]
    }
   ],
   "source": [
    "# 17th  December, 2022\n",
    "from google_play_scraper import app\n",
    "import pandas as pd\n",
    "\n",
    "import numpy as np\n",
    "\n",
    "from google_play_scraper import Sort, reviews_all\n",
    "\n",
    "us_reviews = reviews_all(\n",
    "    'co.uk.getmondo',\n",
    "    sleep_milliseconds=0, # defaults to 0\n",
    "    lang='en', # defaults to 'en'\n",
    "    country='us', # defaults to 'us'\n",
    "    sort=Sort.NEWEST, # defaults to Sort.MOST_RELEVANT\n",
    ")\n",
    "\n",
    "df_mz = pd.DataFrame(np.array(us_reviews),columns=['review'])\n",
    "\n",
    "df_mz = df_mz.join(pd.DataFrame(df_mz.pop('review').tolist()))\n",
    "\n",
    "df_mz.to_csv(r'C:\\Users\\USER\\OneDrive - Solent University\\School Work\\COM 726\\AE1\\Dataset\\Monzo\\exported_mz24_review.csv', index=False, header=True)"
   ],
   "metadata": {
    "collapsed": false,
    "pycharm": {
     "name": "#%%\n"
    }
   }
  },
  {
   "cell_type": "code",
   "execution_count": null,
   "outputs": [],
   "source": [
    "# 18th  December, 2022\n",
    "from google_play_scraper import app\n",
    "import pandas as pd\n",
    "\n",
    "import numpy as np\n",
    "\n",
    "from google_play_scraper import Sort, reviews_all\n",
    "\n",
    "us_reviews = reviews_all(\n",
    "    'co.uk.getmondo',\n",
    "    sleep_milliseconds=0, # defaults to 0\n",
    "    lang='en', # defaults to 'en'\n",
    "    country='us', # defaults to 'us'\n",
    "    sort=Sort.NEWEST, # defaults to Sort.MOST_RELEVANT\n",
    ")\n",
    "\n",
    "df_mz = pd.DataFrame(np.array(us_reviews),columns=['review'])\n",
    "\n",
    "df_mz = df_mz.join(pd.DataFrame(df_mz.pop('review').tolist()))\n",
    "\n",
    "df_mz.to_csv(r'C:\\Users\\USER\\OneDrive - Solent University\\School Work\\COM 726\\AE1\\Dataset\\Monzo\\exported_mz25review.csv', index=False, header=True)"
   ],
   "metadata": {
    "collapsed": false,
    "pycharm": {
     "name": "#%%\n"
    }
   }
  },
  {
   "cell_type": "code",
   "execution_count": 2,
   "outputs": [],
   "source": [
    "# 19th  December, 2022\n",
    "from google_play_scraper import app\n",
    "import pandas as pd\n",
    "\n",
    "import numpy as np\n",
    "\n",
    "from google_play_scraper import Sort, reviews_all\n",
    "\n",
    "us_reviews = reviews_all(\n",
    "    'co.uk.getmondo',\n",
    "    sleep_milliseconds=0, # defaults to 0\n",
    "    lang='en', # defaults to 'en'\n",
    "    country='us', # defaults to 'us'\n",
    "    sort=Sort.NEWEST, # defaults to Sort.MOST_RELEVANT\n",
    ")\n",
    "\n",
    "df_mz = pd.DataFrame(np.array(us_reviews),columns=['review'])\n",
    "\n",
    "df_mz = df_mz.join(pd.DataFrame(df_mz.pop('review').tolist()))\n",
    "\n",
    "df_mz.to_csv(r'C:\\Users\\USER\\OneDrive - Solent University\\School Work\\COM 726\\AE1\\Dataset\\Monzo\\exported_mz26review.csv', index=False, header=True)"
   ],
   "metadata": {
    "collapsed": false,
    "pycharm": {
     "name": "#%%\n"
    }
   }
  },
  {
   "cell_type": "code",
   "execution_count": 9,
   "outputs": [],
   "source": [
    "# 25th  December, 2022\n",
    "from google_play_scraper import app\n",
    "import pandas as pd\n",
    "\n",
    "import numpy as np\n",
    "\n",
    "from google_play_scraper import Sort, reviews_all\n",
    "\n",
    "us_reviews = reviews_all(\n",
    "    'co.uk.getmondo',\n",
    "    sleep_milliseconds=0, # defaults to 0\n",
    "    lang='en', # defaults to 'en'\n",
    "    country='us', # defaults to 'us'\n",
    "    sort=Sort.NEWEST, # defaults to Sort.MOST_RELEVANT\n",
    ")\n",
    "\n",
    "df_mz_2= pd.DataFrame(np.array(us_reviews),columns=['review'])\n",
    "\n",
    "df_mz_2 = df_mz_2.join(pd.DataFrame(df_mz_2.pop('review').tolist()))\n",
    "\n",
    "df_mz_2.to_csv(r'C:\\Users\\USER\\OneDrive - Solent University\\School Work\\COM 726\\AE1\\Dataset\\Monzo\\exported_mz28review.csv', index=False, header=True)"
   ],
   "metadata": {
    "collapsed": false,
    "pycharm": {
     "name": "#%%\n"
    }
   }
  },
  {
   "cell_type": "code",
   "execution_count": 10,
   "outputs": [
    {
     "data": {
      "text/plain": "(15031, 10)"
     },
     "execution_count": 10,
     "metadata": {},
     "output_type": "execute_result"
    }
   ],
   "source": [
    "df_mz_2.shape"
   ],
   "metadata": {
    "collapsed": false,
    "pycharm": {
     "name": "#%%\n"
    }
   }
  }
 ],
 "metadata": {
  "kernelspec": {
   "display_name": "Python 3",
   "language": "python",
   "name": "python3"
  },
  "language_info": {
   "codemirror_mode": {
    "name": "ipython",
    "version": 2
   },
   "file_extension": ".py",
   "mimetype": "text/x-python",
   "name": "python",
   "nbconvert_exporter": "python",
   "pygments_lexer": "ipython2",
   "version": "2.7.6"
  }
 },
 "nbformat": 4,
 "nbformat_minor": 0
}